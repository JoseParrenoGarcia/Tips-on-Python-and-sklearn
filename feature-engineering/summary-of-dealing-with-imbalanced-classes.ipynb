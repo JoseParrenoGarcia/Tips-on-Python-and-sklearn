{
 "cells": [
  {
   "cell_type": "markdown",
   "source": [
    "# What is class imbalance and why is it important\n",
    "\n",
    "* Imbalanced data refers to datasets where the target has different proportions amongst it's class. In other words, one class is over-represented compared to the other(s).\n",
    "* The class imbalance scenario exists for classification problems (binary or multi-class)\n",
    "* It is important to ensure we are focusing and solving the right problem. If a dataset has 95% of one class = 0, and 5% of the other class = 1, we wouldn't be satisfied having a 95% accuracy just by classifying all records as 0."
   ],
   "metadata": {
    "collapsed": false
   }
  },
  {
   "cell_type": "markdown",
   "source": [
    "# Before taking action, understand the problem to choose the right metric"
   ],
   "metadata": {
    "collapsed": false,
    "pycharm": {
     "name": "#%% md\n"
    }
   }
  },
  {
   "cell_type": "markdown",
   "source": [
    "### Summary of metrics\n",
    "\n",
    "| Metric                  | Formula                                                           | Is is appropriate for imbalanced problems | Suggested use                                                                                                                                                                     |\n",
    "|-------------------------|-------------------------------------------------------------------|-------------------------------------------|-----------------------------------------------------------------------------------------------------------------------------------------------------------------------------------|\n",
    "| Accuracy                | $\\frac{TP+TN}{TP+TN+FP+FN}$                                       | <ul><li>No</li></ul>                      | <ul><li>Understand baseline/naive classifier metric</li><li>Balanced classification problems</li></ul>                                                                            |\n",
    "| Precision / Specificity | $\\frac{TP}{TP+FP}$                                                | <ul><li>Depends</li></ul>                 | <ul><li>Measures **quality**</li><li>Optimise for precision if you want your model to make the least amount of possible errors</li></ul>                                          |\n",
    "| Recall / Sensitivity    | $\\frac{TP}{TP+FN}$                                                | <ul><li>Depends</li></ul>                 | <ul><li>Measures **coverage**</li><li>Optimise for recall if you want to catch all possible instances of the target</li></ul>                                                     |\n",
    "| F1 Score                | $2*\\frac{precision*recall}{precision+recall}$                     | <ul><li>Yes</li></ul>                     | <ul><li>Combines quality and coverage measures</li><li>Optimise for F1-score when you believe that precision and recall should be equally weighted</li>                           |\n",
    "| F-beta Score            | $(1+\\beta^2)*\\frac{precision*recall}{(\\beta^2*precision)+recall}$ | <ul><li>Yes</li></ul>                     | <ul><li>Combines quality and coverage measures</li><li>Optimise for Fbeta-score when you believe that precision and recall should **not** be equally weighted</li>                |\n",
    "| MCC                     | $\\frac{(TP*TN)-(FP*FN)}{\\sqrt{(TP+FP)(TP+FN)(TN+FP)(TN+FN)}}$     | <ul><li>Yes</li></ul>                     | <ul><li>Combines all 4 categories of the confusion metric (tp, fn, tn, fn)</li></ul>                                                                                              |\n",
    "| AUC                     | Area under the ROC curve                                          | <ul><li>No</li></ul>                      | <ul><li>When you care equally about positive and negative classes metric</li><li>When you care about ranking predictions, not necessarily well-calibrated probabilities</li></ul> |\n"
   ],
   "metadata": {
    "collapsed": false,
    "pycharm": {
     "name": "#%% md\n"
    }
   }
  },
  {
   "cell_type": "markdown",
   "source": [
    "### Understanding metrics\n",
    "##### Confusion matrix"
   ],
   "metadata": {
    "collapsed": false,
    "pycharm": {
     "name": "#%% md\n"
    }
   }
  },
  {
   "cell_type": "markdown",
   "source": [
    "##### Accuracy"
   ],
   "metadata": {
    "collapsed": false,
    "pycharm": {
     "name": "#%% md\n"
    }
   }
  },
  {
   "cell_type": "markdown",
   "source": [
    "##### Precision"
   ],
   "metadata": {
    "collapsed": false,
    "pycharm": {
     "name": "#%% md\n"
    }
   }
  },
  {
   "cell_type": "markdown",
   "source": [
    "##### Recall"
   ],
   "metadata": {
    "collapsed": false,
    "pycharm": {
     "name": "#%% md\n"
    }
   }
  },
  {
   "cell_type": "markdown",
   "source": [
    "##### F1 and Fbeta scores"
   ],
   "metadata": {
    "collapsed": false,
    "pycharm": {
     "name": "#%% md\n"
    }
   }
  },
  {
   "cell_type": "markdown",
   "source": [
    "# Method 1: changing the probability thresholds to define each class"
   ],
   "metadata": {
    "collapsed": false,
    "pycharm": {
     "name": "#%% md\n"
    }
   }
  },
  {
   "cell_type": "markdown",
   "source": [
    "### ROC and AUC"
   ],
   "metadata": {
    "collapsed": false,
    "pycharm": {
     "name": "#%% md\n"
    }
   }
  },
  {
   "cell_type": "markdown",
   "source": [
    "# Method 2: under or over sampling"
   ],
   "metadata": {
    "collapsed": false,
    "pycharm": {
     "name": "#%% md\n"
    }
   }
  },
  {
   "cell_type": "markdown",
   "source": [
    "# Method 3: target class weights"
   ],
   "metadata": {
    "collapsed": false,
    "pycharm": {
     "name": "#%% md\n"
    }
   }
  }
 ],
 "metadata": {
  "kernelspec": {
   "display_name": "Python 3",
   "language": "python",
   "name": "python3"
  },
  "language_info": {
   "codemirror_mode": {
    "name": "ipython",
    "version": 2
   },
   "file_extension": ".py",
   "mimetype": "text/x-python",
   "name": "python",
   "nbconvert_exporter": "python",
   "pygments_lexer": "ipython2",
   "version": "2.7.6"
  }
 },
 "nbformat": 4,
 "nbformat_minor": 0
}