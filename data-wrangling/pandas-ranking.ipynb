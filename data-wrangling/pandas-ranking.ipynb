{
 "cells": [
  {
   "cell_type": "code",
   "execution_count": 1,
   "outputs": [],
   "source": [
    "import pandas as pd"
   ],
   "metadata": {
    "collapsed": false,
    "pycharm": {
     "name": "#%%\n"
    }
   }
  },
  {
   "cell_type": "markdown",
   "source": [
    "# Dataset: Bike Sharing Daily\n",
    "* Source: https://www.kaggle.com/contactprad/bike-share-daily-data\n",
    "* Licence: [1] Fanaee-T, Hadi, and Gama, Joao, \"Event labeling combining ensemble detectors and background knowledge\", Progress in Artificial Intelligence (2013): pp. 1-15, Springer Berlin Heidelberg, doi:10.1007/s13748-013-0040-3.\n",
    "\n",
    "@article{\n",
    "year={2013},\n",
    "issn={2192-6352},\n",
    "journal={Progress in Artificial Intelligence},\n",
    "doi={10.1007/s13748-013-0040-3},\n",
    "title={Event labeling combining ensemble detectors and background knowledge},\n",
    "url={http://dx.doi.org/10.1007/s13748-013-0040-3},\n",
    "publisher={Springer Berlin Heidelberg},\n",
    "keywords={Event labeling; Event detection; Ensemble learning; Background knowledge},\n",
    "author={Fanaee-T, Hadi and Gama, Joao},\n",
    "pages={1-15}\n",
    "}"
   ],
   "metadata": {
    "collapsed": false,
    "pycharm": {
     "name": "#%% md\n"
    }
   }
  },
  {
   "cell_type": "code",
   "execution_count": 17,
   "outputs": [
    {
     "data": {
      "text/plain": "        dteday      temp  year  month\n0   2011-01-01  0.344167  2011      1\n1   2011-01-02  0.363478  2011      1\n2   2011-01-03  0.196364  2011      1\n3   2011-01-04  0.200000  2011      1\n4   2011-01-05  0.226957  2011      1\n..         ...       ...   ...    ...\n726 2012-12-27  0.254167  2012     12\n727 2012-12-28  0.253333  2012     12\n728 2012-12-29  0.253333  2012     12\n729 2012-12-30  0.255833  2012     12\n730 2012-12-31  0.215833  2012     12\n\n[731 rows x 4 columns]",
      "text/html": "<div>\n<style scoped>\n    .dataframe tbody tr th:only-of-type {\n        vertical-align: middle;\n    }\n\n    .dataframe tbody tr th {\n        vertical-align: top;\n    }\n\n    .dataframe thead th {\n        text-align: right;\n    }\n</style>\n<table border=\"1\" class=\"dataframe\">\n  <thead>\n    <tr style=\"text-align: right;\">\n      <th></th>\n      <th>dteday</th>\n      <th>temp</th>\n      <th>year</th>\n      <th>month</th>\n    </tr>\n  </thead>\n  <tbody>\n    <tr>\n      <th>0</th>\n      <td>2011-01-01</td>\n      <td>0.344167</td>\n      <td>2011</td>\n      <td>1</td>\n    </tr>\n    <tr>\n      <th>1</th>\n      <td>2011-01-02</td>\n      <td>0.363478</td>\n      <td>2011</td>\n      <td>1</td>\n    </tr>\n    <tr>\n      <th>2</th>\n      <td>2011-01-03</td>\n      <td>0.196364</td>\n      <td>2011</td>\n      <td>1</td>\n    </tr>\n    <tr>\n      <th>3</th>\n      <td>2011-01-04</td>\n      <td>0.200000</td>\n      <td>2011</td>\n      <td>1</td>\n    </tr>\n    <tr>\n      <th>4</th>\n      <td>2011-01-05</td>\n      <td>0.226957</td>\n      <td>2011</td>\n      <td>1</td>\n    </tr>\n    <tr>\n      <th>...</th>\n      <td>...</td>\n      <td>...</td>\n      <td>...</td>\n      <td>...</td>\n    </tr>\n    <tr>\n      <th>726</th>\n      <td>2012-12-27</td>\n      <td>0.254167</td>\n      <td>2012</td>\n      <td>12</td>\n    </tr>\n    <tr>\n      <th>727</th>\n      <td>2012-12-28</td>\n      <td>0.253333</td>\n      <td>2012</td>\n      <td>12</td>\n    </tr>\n    <tr>\n      <th>728</th>\n      <td>2012-12-29</td>\n      <td>0.253333</td>\n      <td>2012</td>\n      <td>12</td>\n    </tr>\n    <tr>\n      <th>729</th>\n      <td>2012-12-30</td>\n      <td>0.255833</td>\n      <td>2012</td>\n      <td>12</td>\n    </tr>\n    <tr>\n      <th>730</th>\n      <td>2012-12-31</td>\n      <td>0.215833</td>\n      <td>2012</td>\n      <td>12</td>\n    </tr>\n  </tbody>\n</table>\n<p>731 rows × 4 columns</p>\n</div>"
     },
     "execution_count": 17,
     "metadata": {},
     "output_type": "execute_result"
    }
   ],
   "source": [
    "data = pd.read_csv('../sklearn-pipelines/datasets/bike_sharing_daily.csv')\n",
    "\n",
    "df = data[['dteday', 'temp']].copy()\n",
    "df['dteday'] = pd.to_datetime(df['dteday'])\n",
    "df['year'] =  df['dteday'].dt.year\n",
    "df['month'] =  df['dteday'].dt.month\n",
    "df"
   ],
   "metadata": {
    "collapsed": false,
    "pycharm": {
     "name": "#%%\n"
    }
   }
  },
  {
   "cell_type": "markdown",
   "source": [
    "# Simple ranking: highest temperatures\n",
    "\n",
    "* Ranking pandas documentation: https://pandas.pydata.org/docs/reference/api/pandas.DataFrame.rank.html"
   ],
   "metadata": {
    "collapsed": false
   }
  },
  {
   "cell_type": "code",
   "execution_count": 19,
   "outputs": [
    {
     "data": {
      "text/plain": "        dteday      temp  year  month  row_number_temp   rank  dense_rank_temp\n553 2012-07-07  0.861667  2012      7              1.0    1.0              1.0\n203 2011-07-23  0.849167  2011      7              2.0    2.0              2.0\n202 2011-07-22  0.848333  2011      7              3.0    3.0              3.0\n209 2011-07-29  0.838333  2011      7              4.0    4.0              4.0\n545 2012-06-29  0.834167  2012      6              5.0    5.0              5.0\n..         ...       ...   ...    ...              ...    ...              ...\n407 2012-02-12  0.127500  2012      2            727.0  727.0            495.0\n368 2012-01-04  0.107500  2012      1            728.0  728.0            496.0\n23  2011-01-24  0.097391  2011      1            729.0  729.0            497.0\n22  2011-01-23  0.096522  2011      1            730.0  730.0            498.0\n21  2011-01-22  0.059130  2011      1            731.0  731.0            499.0\n\n[731 rows x 7 columns]",
      "text/html": "<div>\n<style scoped>\n    .dataframe tbody tr th:only-of-type {\n        vertical-align: middle;\n    }\n\n    .dataframe tbody tr th {\n        vertical-align: top;\n    }\n\n    .dataframe thead th {\n        text-align: right;\n    }\n</style>\n<table border=\"1\" class=\"dataframe\">\n  <thead>\n    <tr style=\"text-align: right;\">\n      <th></th>\n      <th>dteday</th>\n      <th>temp</th>\n      <th>year</th>\n      <th>month</th>\n      <th>row_number_temp</th>\n      <th>rank</th>\n      <th>dense_rank_temp</th>\n    </tr>\n  </thead>\n  <tbody>\n    <tr>\n      <th>553</th>\n      <td>2012-07-07</td>\n      <td>0.861667</td>\n      <td>2012</td>\n      <td>7</td>\n      <td>1.0</td>\n      <td>1.0</td>\n      <td>1.0</td>\n    </tr>\n    <tr>\n      <th>203</th>\n      <td>2011-07-23</td>\n      <td>0.849167</td>\n      <td>2011</td>\n      <td>7</td>\n      <td>2.0</td>\n      <td>2.0</td>\n      <td>2.0</td>\n    </tr>\n    <tr>\n      <th>202</th>\n      <td>2011-07-22</td>\n      <td>0.848333</td>\n      <td>2011</td>\n      <td>7</td>\n      <td>3.0</td>\n      <td>3.0</td>\n      <td>3.0</td>\n    </tr>\n    <tr>\n      <th>209</th>\n      <td>2011-07-29</td>\n      <td>0.838333</td>\n      <td>2011</td>\n      <td>7</td>\n      <td>4.0</td>\n      <td>4.0</td>\n      <td>4.0</td>\n    </tr>\n    <tr>\n      <th>545</th>\n      <td>2012-06-29</td>\n      <td>0.834167</td>\n      <td>2012</td>\n      <td>6</td>\n      <td>5.0</td>\n      <td>5.0</td>\n      <td>5.0</td>\n    </tr>\n    <tr>\n      <th>...</th>\n      <td>...</td>\n      <td>...</td>\n      <td>...</td>\n      <td>...</td>\n      <td>...</td>\n      <td>...</td>\n      <td>...</td>\n    </tr>\n    <tr>\n      <th>407</th>\n      <td>2012-02-12</td>\n      <td>0.127500</td>\n      <td>2012</td>\n      <td>2</td>\n      <td>727.0</td>\n      <td>727.0</td>\n      <td>495.0</td>\n    </tr>\n    <tr>\n      <th>368</th>\n      <td>2012-01-04</td>\n      <td>0.107500</td>\n      <td>2012</td>\n      <td>1</td>\n      <td>728.0</td>\n      <td>728.0</td>\n      <td>496.0</td>\n    </tr>\n    <tr>\n      <th>23</th>\n      <td>2011-01-24</td>\n      <td>0.097391</td>\n      <td>2011</td>\n      <td>1</td>\n      <td>729.0</td>\n      <td>729.0</td>\n      <td>497.0</td>\n    </tr>\n    <tr>\n      <th>22</th>\n      <td>2011-01-23</td>\n      <td>0.096522</td>\n      <td>2011</td>\n      <td>1</td>\n      <td>730.0</td>\n      <td>730.0</td>\n      <td>498.0</td>\n    </tr>\n    <tr>\n      <th>21</th>\n      <td>2011-01-22</td>\n      <td>0.059130</td>\n      <td>2011</td>\n      <td>1</td>\n      <td>731.0</td>\n      <td>731.0</td>\n      <td>499.0</td>\n    </tr>\n  </tbody>\n</table>\n<p>731 rows × 7 columns</p>\n</div>"
     },
     "execution_count": 19,
     "metadata": {},
     "output_type": "execute_result"
    }
   ],
   "source": [
    "df['row_number_temp'] = df['temp'].rank(method='first', ascending=False)\n",
    "df['rank'] = df['temp'].rank(method='min', ascending=False)\n",
    "df['dense_rank_temp'] = df['temp'].rank(method='dense', ascending=False)\n",
    "df.sort_values('dense_rank_temp')"
   ],
   "metadata": {
    "collapsed": false,
    "pycharm": {
     "name": "#%%\n"
    }
   }
  },
  {
   "cell_type": "markdown",
   "source": [
    "# Simple ranking: lowest temperatures"
   ],
   "metadata": {
    "collapsed": false,
    "pycharm": {
     "name": "#%% md\n"
    }
   }
  },
  {
   "cell_type": "code",
   "execution_count": 20,
   "outputs": [
    {
     "data": {
      "text/plain": "        dteday      temp  year  month  row_number_temp   rank  dense_rank_temp\n21  2011-01-22  0.059130  2011      1              1.0    1.0              1.0\n22  2011-01-23  0.096522  2011      1              2.0    2.0              2.0\n23  2011-01-24  0.097391  2011      1              3.0    3.0              3.0\n368 2012-01-04  0.107500  2012      1              4.0    4.0              4.0\n407 2012-02-12  0.127500  2012      2              5.0    5.0              5.0\n..         ...       ...   ...    ...              ...    ...              ...\n545 2012-06-29  0.834167  2012      6            727.0  727.0            495.0\n209 2011-07-29  0.838333  2011      7            728.0  728.0            496.0\n202 2011-07-22  0.848333  2011      7            729.0  729.0            497.0\n203 2011-07-23  0.849167  2011      7            730.0  730.0            498.0\n553 2012-07-07  0.861667  2012      7            731.0  731.0            499.0\n\n[731 rows x 7 columns]",
      "text/html": "<div>\n<style scoped>\n    .dataframe tbody tr th:only-of-type {\n        vertical-align: middle;\n    }\n\n    .dataframe tbody tr th {\n        vertical-align: top;\n    }\n\n    .dataframe thead th {\n        text-align: right;\n    }\n</style>\n<table border=\"1\" class=\"dataframe\">\n  <thead>\n    <tr style=\"text-align: right;\">\n      <th></th>\n      <th>dteday</th>\n      <th>temp</th>\n      <th>year</th>\n      <th>month</th>\n      <th>row_number_temp</th>\n      <th>rank</th>\n      <th>dense_rank_temp</th>\n    </tr>\n  </thead>\n  <tbody>\n    <tr>\n      <th>21</th>\n      <td>2011-01-22</td>\n      <td>0.059130</td>\n      <td>2011</td>\n      <td>1</td>\n      <td>1.0</td>\n      <td>1.0</td>\n      <td>1.0</td>\n    </tr>\n    <tr>\n      <th>22</th>\n      <td>2011-01-23</td>\n      <td>0.096522</td>\n      <td>2011</td>\n      <td>1</td>\n      <td>2.0</td>\n      <td>2.0</td>\n      <td>2.0</td>\n    </tr>\n    <tr>\n      <th>23</th>\n      <td>2011-01-24</td>\n      <td>0.097391</td>\n      <td>2011</td>\n      <td>1</td>\n      <td>3.0</td>\n      <td>3.0</td>\n      <td>3.0</td>\n    </tr>\n    <tr>\n      <th>368</th>\n      <td>2012-01-04</td>\n      <td>0.107500</td>\n      <td>2012</td>\n      <td>1</td>\n      <td>4.0</td>\n      <td>4.0</td>\n      <td>4.0</td>\n    </tr>\n    <tr>\n      <th>407</th>\n      <td>2012-02-12</td>\n      <td>0.127500</td>\n      <td>2012</td>\n      <td>2</td>\n      <td>5.0</td>\n      <td>5.0</td>\n      <td>5.0</td>\n    </tr>\n    <tr>\n      <th>...</th>\n      <td>...</td>\n      <td>...</td>\n      <td>...</td>\n      <td>...</td>\n      <td>...</td>\n      <td>...</td>\n      <td>...</td>\n    </tr>\n    <tr>\n      <th>545</th>\n      <td>2012-06-29</td>\n      <td>0.834167</td>\n      <td>2012</td>\n      <td>6</td>\n      <td>727.0</td>\n      <td>727.0</td>\n      <td>495.0</td>\n    </tr>\n    <tr>\n      <th>209</th>\n      <td>2011-07-29</td>\n      <td>0.838333</td>\n      <td>2011</td>\n      <td>7</td>\n      <td>728.0</td>\n      <td>728.0</td>\n      <td>496.0</td>\n    </tr>\n    <tr>\n      <th>202</th>\n      <td>2011-07-22</td>\n      <td>0.848333</td>\n      <td>2011</td>\n      <td>7</td>\n      <td>729.0</td>\n      <td>729.0</td>\n      <td>497.0</td>\n    </tr>\n    <tr>\n      <th>203</th>\n      <td>2011-07-23</td>\n      <td>0.849167</td>\n      <td>2011</td>\n      <td>7</td>\n      <td>730.0</td>\n      <td>730.0</td>\n      <td>498.0</td>\n    </tr>\n    <tr>\n      <th>553</th>\n      <td>2012-07-07</td>\n      <td>0.861667</td>\n      <td>2012</td>\n      <td>7</td>\n      <td>731.0</td>\n      <td>731.0</td>\n      <td>499.0</td>\n    </tr>\n  </tbody>\n</table>\n<p>731 rows × 7 columns</p>\n</div>"
     },
     "execution_count": 20,
     "metadata": {},
     "output_type": "execute_result"
    }
   ],
   "source": [
    "df['row_number_temp'] = df['temp'].rank(method='first', ascending=True)\n",
    "df['rank'] = df['temp'].rank(method='min', ascending=True)\n",
    "df['dense_rank_temp'] = df['temp'].rank(method='dense', ascending=True)\n",
    "df.sort_values('dense_rank_temp')"
   ],
   "metadata": {
    "collapsed": false,
    "pycharm": {
     "name": "#%%\n"
    }
   }
  },
  {
   "cell_type": "markdown",
   "source": [
    "# Partition By rankings: highest temperatures for each year-month"
   ],
   "metadata": {
    "collapsed": false,
    "pycharm": {
     "name": "#%% md\n"
    }
   }
  },
  {
   "cell_type": "code",
   "execution_count": 23,
   "outputs": [
    {
     "data": {
      "text/plain": "        dteday      temp  year  month  row_number_temp   rank  \\\n1   2011-01-02  0.363478  2011      1            218.0  218.0   \n0   2011-01-01  0.344167  2011      1            196.0  196.0   \n18  2011-01-19  0.292174  2011      1            121.0  121.0   \n19  2011-01-20  0.261667  2011      1             75.0   75.0   \n14  2011-01-15  0.233333  2011      1             55.0   55.0   \n..         ...       ...   ...    ...              ...    ...   \n728 2012-12-29  0.253333  2012     12             66.0   65.0   \n722 2012-12-23  0.245833  2012     12             62.0   61.0   \n725 2012-12-26  0.243333  2012     12             60.0   59.0   \n723 2012-12-24  0.231304  2012     12             53.0   53.0   \n730 2012-12-31  0.215833  2012     12             38.0   38.0   \n\n     dense_rank_temp  rank_by_date  \n1              161.0           1.0  \n0              143.0           2.0  \n18              93.0           3.0  \n19              60.0           4.0  \n14              48.0           5.0  \n..               ...           ...  \n728             54.0          26.0  \n722             51.0          28.0  \n725             50.0          29.0  \n723             46.0          30.0  \n730             35.0          31.0  \n\n[731 rows x 8 columns]",
      "text/html": "<div>\n<style scoped>\n    .dataframe tbody tr th:only-of-type {\n        vertical-align: middle;\n    }\n\n    .dataframe tbody tr th {\n        vertical-align: top;\n    }\n\n    .dataframe thead th {\n        text-align: right;\n    }\n</style>\n<table border=\"1\" class=\"dataframe\">\n  <thead>\n    <tr style=\"text-align: right;\">\n      <th></th>\n      <th>dteday</th>\n      <th>temp</th>\n      <th>year</th>\n      <th>month</th>\n      <th>row_number_temp</th>\n      <th>rank</th>\n      <th>dense_rank_temp</th>\n      <th>rank_by_date</th>\n    </tr>\n  </thead>\n  <tbody>\n    <tr>\n      <th>1</th>\n      <td>2011-01-02</td>\n      <td>0.363478</td>\n      <td>2011</td>\n      <td>1</td>\n      <td>218.0</td>\n      <td>218.0</td>\n      <td>161.0</td>\n      <td>1.0</td>\n    </tr>\n    <tr>\n      <th>0</th>\n      <td>2011-01-01</td>\n      <td>0.344167</td>\n      <td>2011</td>\n      <td>1</td>\n      <td>196.0</td>\n      <td>196.0</td>\n      <td>143.0</td>\n      <td>2.0</td>\n    </tr>\n    <tr>\n      <th>18</th>\n      <td>2011-01-19</td>\n      <td>0.292174</td>\n      <td>2011</td>\n      <td>1</td>\n      <td>121.0</td>\n      <td>121.0</td>\n      <td>93.0</td>\n      <td>3.0</td>\n    </tr>\n    <tr>\n      <th>19</th>\n      <td>2011-01-20</td>\n      <td>0.261667</td>\n      <td>2011</td>\n      <td>1</td>\n      <td>75.0</td>\n      <td>75.0</td>\n      <td>60.0</td>\n      <td>4.0</td>\n    </tr>\n    <tr>\n      <th>14</th>\n      <td>2011-01-15</td>\n      <td>0.233333</td>\n      <td>2011</td>\n      <td>1</td>\n      <td>55.0</td>\n      <td>55.0</td>\n      <td>48.0</td>\n      <td>5.0</td>\n    </tr>\n    <tr>\n      <th>...</th>\n      <td>...</td>\n      <td>...</td>\n      <td>...</td>\n      <td>...</td>\n      <td>...</td>\n      <td>...</td>\n      <td>...</td>\n      <td>...</td>\n    </tr>\n    <tr>\n      <th>728</th>\n      <td>2012-12-29</td>\n      <td>0.253333</td>\n      <td>2012</td>\n      <td>12</td>\n      <td>66.0</td>\n      <td>65.0</td>\n      <td>54.0</td>\n      <td>26.0</td>\n    </tr>\n    <tr>\n      <th>722</th>\n      <td>2012-12-23</td>\n      <td>0.245833</td>\n      <td>2012</td>\n      <td>12</td>\n      <td>62.0</td>\n      <td>61.0</td>\n      <td>51.0</td>\n      <td>28.0</td>\n    </tr>\n    <tr>\n      <th>725</th>\n      <td>2012-12-26</td>\n      <td>0.243333</td>\n      <td>2012</td>\n      <td>12</td>\n      <td>60.0</td>\n      <td>59.0</td>\n      <td>50.0</td>\n      <td>29.0</td>\n    </tr>\n    <tr>\n      <th>723</th>\n      <td>2012-12-24</td>\n      <td>0.231304</td>\n      <td>2012</td>\n      <td>12</td>\n      <td>53.0</td>\n      <td>53.0</td>\n      <td>46.0</td>\n      <td>30.0</td>\n    </tr>\n    <tr>\n      <th>730</th>\n      <td>2012-12-31</td>\n      <td>0.215833</td>\n      <td>2012</td>\n      <td>12</td>\n      <td>38.0</td>\n      <td>38.0</td>\n      <td>35.0</td>\n      <td>31.0</td>\n    </tr>\n  </tbody>\n</table>\n<p>731 rows × 8 columns</p>\n</div>"
     },
     "execution_count": 23,
     "metadata": {},
     "output_type": "execute_result"
    }
   ],
   "source": [
    "df['rank_by_date'] = df.groupby(['year', 'month'])['temp'].rank(method='min', ascending=False)\n",
    "df.sort_values(['year', 'month', 'rank_by_date'])"
   ],
   "metadata": {
    "collapsed": false,
    "pycharm": {
     "name": "#%%\n"
    }
   }
  }
 ],
 "metadata": {
  "kernelspec": {
   "display_name": "Python 3",
   "language": "python",
   "name": "python3"
  },
  "language_info": {
   "codemirror_mode": {
    "name": "ipython",
    "version": 2
   },
   "file_extension": ".py",
   "mimetype": "text/x-python",
   "name": "python",
   "nbconvert_exporter": "python",
   "pygments_lexer": "ipython2",
   "version": "2.7.6"
  }
 },
 "nbformat": 4,
 "nbformat_minor": 0
}