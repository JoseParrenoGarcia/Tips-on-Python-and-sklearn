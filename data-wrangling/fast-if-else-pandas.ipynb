{
 "cells": [
  {
   "cell_type": "code",
   "execution_count": 33,
   "metadata": {
    "pycharm": {
     "name": "#%%\n"
    }
   },
   "outputs": [],
   "source": [
    "import numpy as np\n",
    "import pandas as pd\n",
    "import timeit"
   ]
  },
  {
   "cell_type": "markdown",
   "source": [
    "**This notebook captures different ways in which to create new fields with if-else statements in dataframes and compares the execution time of these methods.**\n",
    "\n",
    "We will:\n",
    "1. Generate a set of dataframes with different number of rows (1, 10, 100, 1_000, 10_000, 100_000)\n",
    "2. Create different if-else methods\n",
    "3. Calculate the execution time for each and determine how much worse are the rest compared to the fastest (1-method time/fastest time)"
   ],
   "metadata": {
    "collapsed": false
   }
  },
  {
   "cell_type": "markdown",
   "metadata": {
    "pycharm": {
     "name": "#%% md\n"
    }
   },
   "source": [
    "**Helper functions**\n",
    "*Plotting/presenting*"
   ]
  },
  {
   "cell_type": "code",
   "execution_count": 34,
   "metadata": {
    "pycharm": {
     "name": "#%%\n"
    }
   },
   "outputs": [],
   "source": [
    "def style_negative(v, props=''):\n",
    "    return props if v < 0 else None\n",
    "\n",
    "def highlight_min(s, props=''):\n",
    "    return np.where(s == np.nanmin(s.values), props, '')\n",
    "\n",
    "def highlight_max(s, props=''):\n",
    "    return np.where(s == np.nanmax(s.values), props, '')"
   ]
  },
  {
   "cell_type": "markdown",
   "metadata": {
    "pycharm": {
     "name": "#%% md\n"
    }
   },
   "source": [
    "*Data creation*"
   ]
  },
  {
   "cell_type": "code",
   "execution_count": 35,
   "metadata": {
    "pycharm": {
     "name": "#%%\n"
    }
   },
   "outputs": [
    {
     "name": "stdout",
     "output_type": "stream",
     "text": [
      "[[0.24932918 0.19839753]]\n",
      "\n",
      "[[0.15676042 0.2415717 ]\n",
      " [0.68507674 0.76818031]\n",
      " [0.56051054 0.8186549 ]\n",
      " [0.29662026 0.48085418]\n",
      " [0.09488237 0.82308512]\n",
      " [0.19580033 0.97157598]\n",
      " [0.1620105  0.74571507]\n",
      " [0.89065339 0.65271713]\n",
      " [0.13194536 0.35161891]\n",
      " [0.33391404 0.91563293]]\n"
     ]
    }
   ],
   "source": [
    "def random_array(rows, columns):\n",
    "    return np.random.rand(int(rows), columns)\n",
    "\n",
    "a1 = random_array(1, 2)\n",
    "a2 = random_array(10, 2)\n",
    "a3 = random_array(100, 2)\n",
    "a4 = random_array(1_000, 2)\n",
    "a5 = random_array(10_000, 2)\n",
    "a6 = random_array(100_000, 2)\n",
    "a7 = random_array(1_000_000, 2)\n",
    "a8 = random_array(10_000_000, 2)\n",
    "\n",
    "# Example output\n",
    "print(a1, a2, sep='\\n\\n')"
   ]
  },
  {
   "cell_type": "code",
   "execution_count": 36,
   "metadata": {
    "pycharm": {
     "name": "#%%\n"
    }
   },
   "outputs": [
    {
     "name": "stdout",
     "output_type": "stream",
     "text": [
      "       Col0      Col1\n",
      "0  0.249329  0.198398\n",
      "\n",
      "       Col0      Col1\n",
      "0  0.156760  0.241572\n",
      "1  0.685077  0.768180\n",
      "2  0.560511  0.818655\n",
      "3  0.296620  0.480854\n",
      "4  0.094882  0.823085\n",
      "5  0.195800  0.971576\n",
      "6  0.162011  0.745715\n",
      "7  0.890653  0.652717\n",
      "8  0.131945  0.351619\n",
      "9  0.333914  0.915633\n"
     ]
    }
   ],
   "source": [
    "def random_dataframe(np_array):\n",
    "    df = pd.DataFrame(np_array)\n",
    "    df.columns = 'Col' + df.columns.astype(str)\n",
    "\n",
    "    return df\n",
    "\n",
    "d1 = random_dataframe(a1)\n",
    "d2 = random_dataframe(a2)\n",
    "d3 = random_dataframe(a3)\n",
    "d4 = random_dataframe(a4)\n",
    "d5 = random_dataframe(a5)\n",
    "d6 = random_dataframe(a6)\n",
    "d7 = random_dataframe(a7)\n",
    "d8 = random_dataframe(a8)\n",
    "\n",
    "# Example output\n",
    "print(d1, d2, sep='\\n\\n')"
   ]
  },
  {
   "cell_type": "markdown",
   "metadata": {},
   "source": [
    "## Filter methods"
   ]
  },
  {
   "cell_type": "code",
   "execution_count": 47,
   "metadata": {
    "pycharm": {
     "name": "#%%\n"
    }
   },
   "outputs": [],
   "source": [
    "class IfElseMethods:\n",
    "    def __init__(self, pd_df):\n",
    "        self.pd_df = pd_df\n",
    "\n",
    "    def _new_column(self, row):\n",
    "        if row['Col0'] < 0.2:\n",
    "            return 'blue'\n",
    "        elif row['Col0'] > 0.8:\n",
    "            return 'green'\n",
    "        else:\n",
    "            return 'red'\n",
    "\n",
    "    def ifelse_apply(self):\n",
    "        self.pd_df['new_column'] = self.pd_df.apply(self._new_column, axis=1)\n",
    "        return self.pd_df\n",
    "\n",
    "    def ifelse_lambda(self):\n",
    "        self.pd_df['new_column'] = self.pd_df.apply(lambda x: 'blue' if x['Col0'] < 0.2 else ('green' if x['Col0'] > 0.8 else 'red'), axis=1)\n",
    "        return self.pd_df\n",
    "\n",
    "    def ifelse_loc(self):\n",
    "        self.pd_df.loc[self.pd_df['Col0'] < 0.2, 'new_column'] = 'blue'\n",
    "        self.pd_df.loc[self.pd_df['Col0'] > 0.8, 'new_column'] = 'green'\n",
    "        self.pd_df.loc[(self.pd_df['Col0'] >= 0.2) & (self.pd_df['Col0'] <= 0.8), 'new_column'] = 'red'\n",
    "        return self.pd_df\n",
    "\n",
    "    def ifelse_where(self):\n",
    "        self.pd_df['new_column'] = np.where(self.pd_df['Col0']<0.2, 'blue', np.where(self.pd_df['Col0'] > 0.8, 'green', 'red'))\n",
    "        return self.pd_df\n",
    "\n",
    "    def ifelse_select(self):\n",
    "        self.pd_df['new_column'] = np.select(condlist=[self.pd_df['Col0'] < 0.2, self.pd_df['Col0']>0.8],\n",
    "                                             choicelist=['blue', 'green'],\n",
    "                                             default='red')\n",
    "        return self.pd_df\n",
    "\n",
    "fm = IfElseMethods(pd_df=d2)"
   ]
  },
  {
   "cell_type": "code",
   "execution_count": 48,
   "metadata": {
    "pycharm": {
     "name": "#%%\n"
    }
   },
   "outputs": [
    {
     "data": {
      "text/plain": "       Col0      Col1 new_column\n0  0.156760  0.241572       blue\n1  0.685077  0.768180        red\n2  0.560511  0.818655        red\n3  0.296620  0.480854        red\n4  0.094882  0.823085       blue\n5  0.195800  0.971576       blue\n6  0.162011  0.745715       blue\n7  0.890653  0.652717      green\n8  0.131945  0.351619       blue\n9  0.333914  0.915633        red",
      "text/html": "<div>\n<style scoped>\n    .dataframe tbody tr th:only-of-type {\n        vertical-align: middle;\n    }\n\n    .dataframe tbody tr th {\n        vertical-align: top;\n    }\n\n    .dataframe thead th {\n        text-align: right;\n    }\n</style>\n<table border=\"1\" class=\"dataframe\">\n  <thead>\n    <tr style=\"text-align: right;\">\n      <th></th>\n      <th>Col0</th>\n      <th>Col1</th>\n      <th>new_column</th>\n    </tr>\n  </thead>\n  <tbody>\n    <tr>\n      <th>0</th>\n      <td>0.156760</td>\n      <td>0.241572</td>\n      <td>blue</td>\n    </tr>\n    <tr>\n      <th>1</th>\n      <td>0.685077</td>\n      <td>0.768180</td>\n      <td>red</td>\n    </tr>\n    <tr>\n      <th>2</th>\n      <td>0.560511</td>\n      <td>0.818655</td>\n      <td>red</td>\n    </tr>\n    <tr>\n      <th>3</th>\n      <td>0.296620</td>\n      <td>0.480854</td>\n      <td>red</td>\n    </tr>\n    <tr>\n      <th>4</th>\n      <td>0.094882</td>\n      <td>0.823085</td>\n      <td>blue</td>\n    </tr>\n    <tr>\n      <th>5</th>\n      <td>0.195800</td>\n      <td>0.971576</td>\n      <td>blue</td>\n    </tr>\n    <tr>\n      <th>6</th>\n      <td>0.162011</td>\n      <td>0.745715</td>\n      <td>blue</td>\n    </tr>\n    <tr>\n      <th>7</th>\n      <td>0.890653</td>\n      <td>0.652717</td>\n      <td>green</td>\n    </tr>\n    <tr>\n      <th>8</th>\n      <td>0.131945</td>\n      <td>0.351619</td>\n      <td>blue</td>\n    </tr>\n    <tr>\n      <th>9</th>\n      <td>0.333914</td>\n      <td>0.915633</td>\n      <td>red</td>\n    </tr>\n  </tbody>\n</table>\n</div>"
     },
     "execution_count": 48,
     "metadata": {},
     "output_type": "execute_result"
    }
   ],
   "source": [
    "fm.ifelse_apply()"
   ]
  },
  {
   "cell_type": "code",
   "execution_count": 49,
   "outputs": [],
   "source": [
    "# fm.ifelse_lambda()"
   ],
   "metadata": {
    "collapsed": false,
    "pycharm": {
     "name": "#%%\n"
    }
   }
  },
  {
   "cell_type": "code",
   "execution_count": 50,
   "outputs": [],
   "source": [
    "# fm.ifelse_loc()"
   ],
   "metadata": {
    "collapsed": false,
    "pycharm": {
     "name": "#%%\n"
    }
   }
  },
  {
   "cell_type": "code",
   "execution_count": 51,
   "outputs": [],
   "source": [
    "# fm.ifelse_where()"
   ],
   "metadata": {
    "collapsed": false,
    "pycharm": {
     "name": "#%%\n"
    }
   }
  },
  {
   "cell_type": "code",
   "execution_count": 53,
   "outputs": [],
   "source": [
    "# fm.ifelse_select()"
   ],
   "metadata": {
    "collapsed": false,
    "pycharm": {
     "name": "#%%\n"
    }
   }
  },
  {
   "cell_type": "markdown",
   "metadata": {
    "pycharm": {
     "name": "#%% md\n"
    }
   },
   "source": [
    "# Execution time summary\n",
    "We display the final output as the ratio of each execution method vs the fastest method. Instead of looking at the absolute execution time, we prefer the relative time. This is because you might run the code in different machines, and it might be more interesting to know that method A was 3x slower, than to know it was 35 seconds slower."
   ]
  },
  {
   "cell_type": "code",
   "execution_count": 54,
   "metadata": {
    "pycharm": {
     "name": "#%%\n"
    }
   },
   "outputs": [],
   "source": [
    "results_dict = {'rows': [], 'apply': [], 'lambda': [], 'loc': [], 'where': [], 'select': []}\n",
    "\n",
    "n = 10\n",
    "\n",
    "for dataframe in [d1, d2, d3, d4, d5, d6, d7, d8]:\n",
    "    results_dict['rows'].append(dataframe.shape[0])\n",
    "\n",
    "    fm = IfElseMethods(pd_df=dataframe)\n",
    "    results_dict['apply'].append(timeit.timeit(lambda: fm.ifelse_apply(), number=n))\n",
    "    results_dict['lambda'].append(timeit.timeit(lambda: fm.ifelse_lambda(), number=n))\n",
    "    results_dict['loc'].append(timeit.timeit(lambda: fm.ifelse_loc(), number=n))\n",
    "    results_dict['where'].append(timeit.timeit(lambda: fm.ifelse_where(), number=n))\n",
    "    results_dict['select'].append(timeit.timeit(lambda: fm.ifelse_select(), number=n))\n",
    "\n",
    "results_df = pd.DataFrame(results_dict)\n",
    "results_df.index = results_df['rows']\n",
    "results_df = results_df.drop('rows', axis=1)\n",
    "\n",
    "results_df['min_time_of_all_methods'] = results_df.min(axis=1)\n",
    "results_df['apply_deterioration'] = (results_df['apply']/results_df['min_time_of_all_methods'])-1\n",
    "results_df['lambda_deterioration'] = (results_df['lambda']/results_df['min_time_of_all_methods'])-1\n",
    "results_df['loc_deterioration'] = (results_df['loc']/results_df['min_time_of_all_methods'])-1\n",
    "results_df['where_deterioration'] = (results_df['where']/results_df['min_time_of_all_methods'])-1\n",
    "results_df['select_deterioration'] = (results_df['select']/results_df['min_time_of_all_methods'])-1"
   ]
  },
  {
   "cell_type": "code",
   "execution_count": 55,
   "metadata": {
    "pycharm": {
     "name": "#%%\n"
    }
   },
   "outputs": [
    {
     "data": {
      "text/plain": "<pandas.io.formats.style.Styler at 0x127a66d00>",
      "text/html": "<style type=\"text/css\">\n#T_cf934_row0_col3, #T_cf934_row0_col4, #T_cf934_row0_col6, #T_cf934_row0_col7, #T_cf934_row1_col5, #T_cf934_row2_col0, #T_cf934_row2_col1, #T_cf934_row2_col2 {\n  color: white;\n  background-color: red;\n}\n#T_cf934_row2_col5, #T_cf934_row2_col6, #T_cf934_row2_col7, #T_cf934_row3_col0, #T_cf934_row3_col1, #T_cf934_row3_col3, #T_cf934_row4_col2, #T_cf934_row4_col4 {\n  color: white;\n  background-color: darkgreen;\n}\n</style>\n<table id=\"T_cf934_\">\n  <thead>\n    <tr>\n      <th class=\"index_name level0\" >rows</th>\n      <th class=\"col_heading level0 col0\" >1</th>\n      <th class=\"col_heading level0 col1\" >10</th>\n      <th class=\"col_heading level0 col2\" >100</th>\n      <th class=\"col_heading level0 col3\" >1000</th>\n      <th class=\"col_heading level0 col4\" >10000</th>\n      <th class=\"col_heading level0 col5\" >100000</th>\n      <th class=\"col_heading level0 col6\" >1000000</th>\n      <th class=\"col_heading level0 col7\" >10000000</th>\n    </tr>\n  </thead>\n  <tbody>\n    <tr>\n      <th id=\"T_cf934_level0_row0\" class=\"row_heading level0 row0\" >apply_deterioration</th>\n      <td id=\"T_cf934_row0_col0\" class=\"data row0 col0\" >0.63</td>\n      <td id=\"T_cf934_row0_col1\" class=\"data row0 col1\" >0.78</td>\n      <td id=\"T_cf934_row0_col2\" class=\"data row0 col2\" >2.14</td>\n      <td id=\"T_cf934_row0_col3\" class=\"data row0 col3\" >36.08</td>\n      <td id=\"T_cf934_row0_col4\" class=\"data row0 col4\" >121.19</td>\n      <td id=\"T_cf934_row0_col5\" class=\"data row0 col5\" >145.26</td>\n      <td id=\"T_cf934_row0_col6\" class=\"data row0 col6\" >139.92</td>\n      <td id=\"T_cf934_row0_col7\" class=\"data row0 col7\" >165.93</td>\n    </tr>\n    <tr>\n      <th id=\"T_cf934_level0_row1\" class=\"row_heading level0 row1\" >lambda_deterioration</th>\n      <td id=\"T_cf934_row1_col0\" class=\"data row1 col0\" >0.48</td>\n      <td id=\"T_cf934_row1_col1\" class=\"data row1 col1\" >0.79</td>\n      <td id=\"T_cf934_row1_col2\" class=\"data row1 col2\" >2.63</td>\n      <td id=\"T_cf934_row1_col3\" class=\"data row1 col3\" >29.03</td>\n      <td id=\"T_cf934_row1_col4\" class=\"data row1 col4\" >119.87</td>\n      <td id=\"T_cf934_row1_col5\" class=\"data row1 col5\" >146.80</td>\n      <td id=\"T_cf934_row1_col6\" class=\"data row1 col6\" >132.59</td>\n      <td id=\"T_cf934_row1_col7\" class=\"data row1 col7\" >153.75</td>\n    </tr>\n    <tr>\n      <th id=\"T_cf934_level0_row2\" class=\"row_heading level0 row2\" >loc_deterioration</th>\n      <td id=\"T_cf934_row2_col0\" class=\"data row2 col0\" >2.79</td>\n      <td id=\"T_cf934_row2_col1\" class=\"data row2 col1\" >2.82</td>\n      <td id=\"T_cf934_row2_col2\" class=\"data row2 col2\" >2.81</td>\n      <td id=\"T_cf934_row2_col3\" class=\"data row2 col3\" >2.22</td>\n      <td id=\"T_cf934_row2_col4\" class=\"data row2 col4\" >0.82</td>\n      <td id=\"T_cf934_row2_col5\" class=\"data row2 col5\" >0.00</td>\n      <td id=\"T_cf934_row2_col6\" class=\"data row2 col6\" >0.00</td>\n      <td id=\"T_cf934_row2_col7\" class=\"data row2 col7\" >0.00</td>\n    </tr>\n    <tr>\n      <th id=\"T_cf934_level0_row3\" class=\"row_heading level0 row3\" >where_deterioration</th>\n      <td id=\"T_cf934_row3_col0\" class=\"data row3 col0\" >0.00</td>\n      <td id=\"T_cf934_row3_col1\" class=\"data row3 col1\" >0.00</td>\n      <td id=\"T_cf934_row3_col2\" class=\"data row3 col2\" >0.13</td>\n      <td id=\"T_cf934_row3_col3\" class=\"data row3 col3\" >0.00</td>\n      <td id=\"T_cf934_row3_col4\" class=\"data row3 col4\" >0.08</td>\n      <td id=\"T_cf934_row3_col5\" class=\"data row3 col5\" >0.58</td>\n      <td id=\"T_cf934_row3_col6\" class=\"data row3 col6\" >0.57</td>\n      <td id=\"T_cf934_row3_col7\" class=\"data row3 col7\" >0.84</td>\n    </tr>\n    <tr>\n      <th id=\"T_cf934_level0_row4\" class=\"row_heading level0 row4\" >select_deterioration</th>\n      <td id=\"T_cf934_row4_col0\" class=\"data row4 col0\" >0.33</td>\n      <td id=\"T_cf934_row4_col1\" class=\"data row4 col1\" >0.09</td>\n      <td id=\"T_cf934_row4_col2\" class=\"data row4 col2\" >0.00</td>\n      <td id=\"T_cf934_row4_col3\" class=\"data row4 col3\" >0.09</td>\n      <td id=\"T_cf934_row4_col4\" class=\"data row4 col4\" >0.00</td>\n      <td id=\"T_cf934_row4_col5\" class=\"data row4 col5\" >0.48</td>\n      <td id=\"T_cf934_row4_col6\" class=\"data row4 col6\" >0.52</td>\n      <td id=\"T_cf934_row4_col7\" class=\"data row4 col7\" >0.76</td>\n    </tr>\n  </tbody>\n</table>\n"
     },
     "execution_count": 55,
     "metadata": {},
     "output_type": "execute_result"
    }
   ],
   "source": [
    "# Execution time proportion between of method/fastest.\n",
    "present_df = results_df[['apply_deterioration','lambda_deterioration','loc_deterioration','where_deterioration','select_deterioration']].transpose()\n",
    "present_df = (present_df.style.format(precision=2)\n",
    "              .apply(highlight_min, props='color:white;background-color:darkgreen', axis=0)\n",
    "              .apply(highlight_max, props='color:white;background-color:red', axis=0)\n",
    "             )\n",
    "present_df"
   ]
  },
  {
   "cell_type": "code",
   "execution_count": null,
   "outputs": [],
   "source": [],
   "metadata": {
    "collapsed": false,
    "pycharm": {
     "name": "#%%\n"
    }
   }
  }
 ],
 "metadata": {
  "kernelspec": {
   "display_name": "Python 3",
   "language": "python",
   "name": "python3"
  },
  "language_info": {
   "codemirror_mode": {
    "name": "ipython",
    "version": 3
   },
   "file_extension": ".py",
   "mimetype": "text/x-python",
   "name": "python",
   "nbconvert_exporter": "python",
   "pygments_lexer": "ipython3",
   "version": "3.8.8"
  },
  "toc": {
   "base_numbering": 1,
   "nav_menu": {},
   "number_sections": true,
   "sideBar": true,
   "skip_h1_title": false,
   "title_cell": "Table of Contents",
   "title_sidebar": "Contents",
   "toc_cell": false,
   "toc_position": {},
   "toc_section_display": true,
   "toc_window_display": false
  },
  "varInspector": {
   "cols": {
    "lenName": 16,
    "lenType": 16,
    "lenVar": 40
   },
   "kernels_config": {
    "python": {
     "delete_cmd_postfix": "",
     "delete_cmd_prefix": "del ",
     "library": "var_list.py",
     "varRefreshCmd": "print(var_dic_list())"
    },
    "r": {
     "delete_cmd_postfix": ") ",
     "delete_cmd_prefix": "rm(",
     "library": "var_list.r",
     "varRefreshCmd": "cat(var_dic_list()) "
    }
   },
   "types_to_exclude": [
    "module",
    "function",
    "builtin_function_or_method",
    "instance",
    "_Feature"
   ],
   "window_display": false
  }
 },
 "nbformat": 4,
 "nbformat_minor": 1
}