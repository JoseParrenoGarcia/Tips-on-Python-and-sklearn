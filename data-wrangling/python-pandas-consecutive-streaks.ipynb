{
 "cells": [
  {
   "cell_type": "code",
   "execution_count": 1,
   "metadata": {
    "collapsed": true
   },
   "outputs": [],
   "source": [
    "import pandas as pd"
   ]
  },
  {
   "cell_type": "markdown",
   "source": [
    "# Group an ID by consecutive dates\n",
    "Calculate the number of consecutive days for a given ID. If there is a gap of days for an ID, we should capture both streaks as different rows"
   ],
   "metadata": {
    "collapsed": false,
    "pycharm": {
     "name": "#%% md\n"
    }
   }
  },
  {
   "cell_type": "code",
   "execution_count": 26,
   "outputs": [
    {
     "data": {
      "text/plain": "   ID       Date\n0   1 2017-01-07\n1   1 2017-01-08\n2   1 2017-01-09\n3   1 2017-01-23\n4   2 2017-01-05\n5   2 2017-01-06\n6   2 2017-01-10\n7   2 2017-01-11",
      "text/html": "<div>\n<style scoped>\n    .dataframe tbody tr th:only-of-type {\n        vertical-align: middle;\n    }\n\n    .dataframe tbody tr th {\n        vertical-align: top;\n    }\n\n    .dataframe thead th {\n        text-align: right;\n    }\n</style>\n<table border=\"1\" class=\"dataframe\">\n  <thead>\n    <tr style=\"text-align: right;\">\n      <th></th>\n      <th>ID</th>\n      <th>Date</th>\n    </tr>\n  </thead>\n  <tbody>\n    <tr>\n      <th>0</th>\n      <td>1</td>\n      <td>2017-01-07</td>\n    </tr>\n    <tr>\n      <th>1</th>\n      <td>1</td>\n      <td>2017-01-08</td>\n    </tr>\n    <tr>\n      <th>2</th>\n      <td>1</td>\n      <td>2017-01-09</td>\n    </tr>\n    <tr>\n      <th>3</th>\n      <td>1</td>\n      <td>2017-01-23</td>\n    </tr>\n    <tr>\n      <th>4</th>\n      <td>2</td>\n      <td>2017-01-05</td>\n    </tr>\n    <tr>\n      <th>5</th>\n      <td>2</td>\n      <td>2017-01-06</td>\n    </tr>\n    <tr>\n      <th>6</th>\n      <td>2</td>\n      <td>2017-01-10</td>\n    </tr>\n    <tr>\n      <th>7</th>\n      <td>2</td>\n      <td>2017-01-11</td>\n    </tr>\n  </tbody>\n</table>\n</div>"
     },
     "execution_count": 26,
     "metadata": {},
     "output_type": "execute_result"
    }
   ],
   "source": [
    "df1 = pd.DataFrame({'ID': [1, 1, 1, 1, 2, 2, 2, 2],\n",
    "                    'Date': ['2017-01-07', '2017-01-08', '2017-01-09', '2017-01-23',\n",
    "                             '2017-01-05', '2017-01-06', '2017-01-10', '2017-01-11']\n",
    "                    })\n",
    "df1['Date'] = pd.to_datetime(df1['Date'])\n",
    "df1"
   ],
   "metadata": {
    "collapsed": false,
    "pycharm": {
     "name": "#%%\n"
    }
   }
  },
  {
   "cell_type": "markdown",
   "source": [
    "## Method 1: using diff for datetime datatype"
   ],
   "metadata": {
    "collapsed": false,
    "pycharm": {
     "name": "#%% md\n"
    }
   }
  },
  {
   "cell_type": "code",
   "execution_count": 41,
   "outputs": [
    {
     "data": {
      "text/plain": "   ID       Date  is_there_more_than_one_day_difference  grouped_streaks  \\\n0   1 2017-01-07                                   True                1   \n1   1 2017-01-08                                  False                1   \n2   1 2017-01-09                                  False                1   \n3   1 2017-01-23                                   True                2   \n4   2 2017-01-05                                   True                3   \n5   2 2017-01-06                                  False                3   \n6   2 2017-01-10                                   True                4   \n7   2 2017-01-11                                  False                4   \n\n   size_of_streaks  longest_streak  \n0                3             1.0  \n1                3             1.0  \n2                3             1.0  \n3                1             2.0  \n4                2             1.0  \n5                2             1.0  \n6                2             1.0  \n7                2             1.0  ",
      "text/html": "<div>\n<style scoped>\n    .dataframe tbody tr th:only-of-type {\n        vertical-align: middle;\n    }\n\n    .dataframe tbody tr th {\n        vertical-align: top;\n    }\n\n    .dataframe thead th {\n        text-align: right;\n    }\n</style>\n<table border=\"1\" class=\"dataframe\">\n  <thead>\n    <tr style=\"text-align: right;\">\n      <th></th>\n      <th>ID</th>\n      <th>Date</th>\n      <th>is_there_more_than_one_day_difference</th>\n      <th>grouped_streaks</th>\n      <th>size_of_streaks</th>\n      <th>longest_streak</th>\n    </tr>\n  </thead>\n  <tbody>\n    <tr>\n      <th>0</th>\n      <td>1</td>\n      <td>2017-01-07</td>\n      <td>True</td>\n      <td>1</td>\n      <td>3</td>\n      <td>1.0</td>\n    </tr>\n    <tr>\n      <th>1</th>\n      <td>1</td>\n      <td>2017-01-08</td>\n      <td>False</td>\n      <td>1</td>\n      <td>3</td>\n      <td>1.0</td>\n    </tr>\n    <tr>\n      <th>2</th>\n      <td>1</td>\n      <td>2017-01-09</td>\n      <td>False</td>\n      <td>1</td>\n      <td>3</td>\n      <td>1.0</td>\n    </tr>\n    <tr>\n      <th>3</th>\n      <td>1</td>\n      <td>2017-01-23</td>\n      <td>True</td>\n      <td>2</td>\n      <td>1</td>\n      <td>2.0</td>\n    </tr>\n    <tr>\n      <th>4</th>\n      <td>2</td>\n      <td>2017-01-05</td>\n      <td>True</td>\n      <td>3</td>\n      <td>2</td>\n      <td>1.0</td>\n    </tr>\n    <tr>\n      <th>5</th>\n      <td>2</td>\n      <td>2017-01-06</td>\n      <td>False</td>\n      <td>3</td>\n      <td>2</td>\n      <td>1.0</td>\n    </tr>\n    <tr>\n      <th>6</th>\n      <td>2</td>\n      <td>2017-01-10</td>\n      <td>True</td>\n      <td>4</td>\n      <td>2</td>\n      <td>1.0</td>\n    </tr>\n    <tr>\n      <th>7</th>\n      <td>2</td>\n      <td>2017-01-11</td>\n      <td>False</td>\n      <td>4</td>\n      <td>2</td>\n      <td>1.0</td>\n    </tr>\n  </tbody>\n</table>\n</div>"
     },
     "execution_count": 41,
     "metadata": {},
     "output_type": "execute_result"
    }
   ],
   "source": [
    "# Solution: Create a Series which checks for the difference between Dates within each ID. Check if that's not 1 day (ne method), and then groupby the ID and the cumulative sum of that Series.\n",
    "\n",
    "# 1. Is there more than 1 day difference with the previous day? (use the not equal method ne(1))\n",
    "df1['is_there_more_than_one_day_difference'] = df1.groupby('ID')['Date'].diff().dt.days.ne(1)\n",
    "\n",
    "# 2. Group the booleans by using cumsum()\n",
    "df1['grouped_streaks'] = df1['is_there_more_than_one_day_difference'].cumsum()\n",
    "\n",
    "# Calculate the size of each grouped_streaks by ID\n",
    "df1['size_of_streaks'] = df1.groupby(['ID', 'grouped_streaks'])['grouped_streaks'].transform('size')\n",
    "\n",
    "# With this we could extract, for each ID, what is the longest streak\n",
    "df1['longest_streak'] = df1.groupby('ID')['size_of_streaks'].rank(method='dense', ascending=False)\n",
    "df1"
   ],
   "metadata": {
    "collapsed": false,
    "pycharm": {
     "name": "#%%\n"
    }
   }
  },
  {
   "cell_type": "code",
   "execution_count": 45,
   "outputs": [
    {
     "data": {
      "text/plain": "   ID  size_of_streaks  longest_streak\n0   1                3             1.0\n3   1                1             2.0\n4   2                2             1.0",
      "text/html": "<div>\n<style scoped>\n    .dataframe tbody tr th:only-of-type {\n        vertical-align: middle;\n    }\n\n    .dataframe tbody tr th {\n        vertical-align: top;\n    }\n\n    .dataframe thead th {\n        text-align: right;\n    }\n</style>\n<table border=\"1\" class=\"dataframe\">\n  <thead>\n    <tr style=\"text-align: right;\">\n      <th></th>\n      <th>ID</th>\n      <th>size_of_streaks</th>\n      <th>longest_streak</th>\n    </tr>\n  </thead>\n  <tbody>\n    <tr>\n      <th>0</th>\n      <td>1</td>\n      <td>3</td>\n      <td>1.0</td>\n    </tr>\n    <tr>\n      <th>3</th>\n      <td>1</td>\n      <td>1</td>\n      <td>2.0</td>\n    </tr>\n    <tr>\n      <th>4</th>\n      <td>2</td>\n      <td>2</td>\n      <td>1.0</td>\n    </tr>\n  </tbody>\n</table>\n</div>"
     },
     "execution_count": 45,
     "metadata": {},
     "output_type": "execute_result"
    }
   ],
   "source": [
    "df1[['ID', 'size_of_streaks', 'longest_streak']].drop_duplicates().sort_values(['ID','longest_streak'])"
   ],
   "metadata": {
    "collapsed": false,
    "pycharm": {
     "name": "#%%\n"
    }
   }
  },
  {
   "cell_type": "markdown",
   "source": [
    "# Groupby an ID by consecutive events\n",
    "For example, wins and losses"
   ],
   "metadata": {
    "collapsed": false,
    "pycharm": {
     "name": "#%% md\n"
    }
   }
  },
  {
   "cell_type": "code",
   "execution_count": 64,
   "outputs": [
    {
     "data": {
      "text/plain": "   Group Score\n0      A   win\n1      A  loss\n2      A  loss\n3      A  loss\n4      A   win\n5      A   win\n6      B   win\n7      B   win\n8      B   win\n9      B  loss\n10     B   win\n11     B  loss\n12     B  loss",
      "text/html": "<div>\n<style scoped>\n    .dataframe tbody tr th:only-of-type {\n        vertical-align: middle;\n    }\n\n    .dataframe tbody tr th {\n        vertical-align: top;\n    }\n\n    .dataframe thead th {\n        text-align: right;\n    }\n</style>\n<table border=\"1\" class=\"dataframe\">\n  <thead>\n    <tr style=\"text-align: right;\">\n      <th></th>\n      <th>Group</th>\n      <th>Score</th>\n    </tr>\n  </thead>\n  <tbody>\n    <tr>\n      <th>0</th>\n      <td>A</td>\n      <td>win</td>\n    </tr>\n    <tr>\n      <th>1</th>\n      <td>A</td>\n      <td>loss</td>\n    </tr>\n    <tr>\n      <th>2</th>\n      <td>A</td>\n      <td>loss</td>\n    </tr>\n    <tr>\n      <th>3</th>\n      <td>A</td>\n      <td>loss</td>\n    </tr>\n    <tr>\n      <th>4</th>\n      <td>A</td>\n      <td>win</td>\n    </tr>\n    <tr>\n      <th>5</th>\n      <td>A</td>\n      <td>win</td>\n    </tr>\n    <tr>\n      <th>6</th>\n      <td>B</td>\n      <td>win</td>\n    </tr>\n    <tr>\n      <th>7</th>\n      <td>B</td>\n      <td>win</td>\n    </tr>\n    <tr>\n      <th>8</th>\n      <td>B</td>\n      <td>win</td>\n    </tr>\n    <tr>\n      <th>9</th>\n      <td>B</td>\n      <td>loss</td>\n    </tr>\n    <tr>\n      <th>10</th>\n      <td>B</td>\n      <td>win</td>\n    </tr>\n    <tr>\n      <th>11</th>\n      <td>B</td>\n      <td>loss</td>\n    </tr>\n    <tr>\n      <th>12</th>\n      <td>B</td>\n      <td>loss</td>\n    </tr>\n  </tbody>\n</table>\n</div>"
     },
     "execution_count": 64,
     "metadata": {},
     "output_type": "execute_result"
    }
   ],
   "source": [
    "df2 = pd.DataFrame({'Group':['A','A', 'A','A','A','A','B','B','B','B','B','B','B'],\n",
    "                   'Score':['win', 'loss', 'loss', 'loss', 'win', 'win', 'win', 'win', 'win', 'loss', 'win', 'loss', 'loss']})\n",
    "df2"
   ],
   "metadata": {
    "collapsed": false,
    "pycharm": {
     "name": "#%%\n"
    }
   }
  },
  {
   "cell_type": "markdown",
   "source": [
    "## Overall win streak"
   ],
   "metadata": {
    "collapsed": false,
    "pycharm": {
     "name": "#%% md\n"
    }
   }
  },
  {
   "cell_type": "code",
   "execution_count": 65,
   "outputs": [
    {
     "data": {
      "text/plain": "   Group Score previous_score  is_score_equal_to_previous  \\\n0      A   win            NaN                        True   \n1      A  loss            win                        True   \n2      A  loss           loss                       False   \n3      A  loss           loss                       False   \n4      A   win           loss                        True   \n5      A   win            win                       False   \n6      B   win            win                       False   \n7      B   win            win                       False   \n8      B   win            win                       False   \n9      B  loss            win                        True   \n10     B   win           loss                        True   \n11     B  loss            win                        True   \n12     B  loss           loss                       False   \n\n    equal_grouped_scores  streaks  \n0                      1        1  \n1                      2        1  \n2                      2        2  \n3                      2        3  \n4                      3        1  \n5                      3        2  \n6                      3        3  \n7                      3        4  \n8                      3        5  \n9                      4        1  \n10                     5        1  \n11                     6        1  \n12                     6        2  ",
      "text/html": "<div>\n<style scoped>\n    .dataframe tbody tr th:only-of-type {\n        vertical-align: middle;\n    }\n\n    .dataframe tbody tr th {\n        vertical-align: top;\n    }\n\n    .dataframe thead th {\n        text-align: right;\n    }\n</style>\n<table border=\"1\" class=\"dataframe\">\n  <thead>\n    <tr style=\"text-align: right;\">\n      <th></th>\n      <th>Group</th>\n      <th>Score</th>\n      <th>previous_score</th>\n      <th>is_score_equal_to_previous</th>\n      <th>equal_grouped_scores</th>\n      <th>streaks</th>\n    </tr>\n  </thead>\n  <tbody>\n    <tr>\n      <th>0</th>\n      <td>A</td>\n      <td>win</td>\n      <td>NaN</td>\n      <td>True</td>\n      <td>1</td>\n      <td>1</td>\n    </tr>\n    <tr>\n      <th>1</th>\n      <td>A</td>\n      <td>loss</td>\n      <td>win</td>\n      <td>True</td>\n      <td>2</td>\n      <td>1</td>\n    </tr>\n    <tr>\n      <th>2</th>\n      <td>A</td>\n      <td>loss</td>\n      <td>loss</td>\n      <td>False</td>\n      <td>2</td>\n      <td>2</td>\n    </tr>\n    <tr>\n      <th>3</th>\n      <td>A</td>\n      <td>loss</td>\n      <td>loss</td>\n      <td>False</td>\n      <td>2</td>\n      <td>3</td>\n    </tr>\n    <tr>\n      <th>4</th>\n      <td>A</td>\n      <td>win</td>\n      <td>loss</td>\n      <td>True</td>\n      <td>3</td>\n      <td>1</td>\n    </tr>\n    <tr>\n      <th>5</th>\n      <td>A</td>\n      <td>win</td>\n      <td>win</td>\n      <td>False</td>\n      <td>3</td>\n      <td>2</td>\n    </tr>\n    <tr>\n      <th>6</th>\n      <td>B</td>\n      <td>win</td>\n      <td>win</td>\n      <td>False</td>\n      <td>3</td>\n      <td>3</td>\n    </tr>\n    <tr>\n      <th>7</th>\n      <td>B</td>\n      <td>win</td>\n      <td>win</td>\n      <td>False</td>\n      <td>3</td>\n      <td>4</td>\n    </tr>\n    <tr>\n      <th>8</th>\n      <td>B</td>\n      <td>win</td>\n      <td>win</td>\n      <td>False</td>\n      <td>3</td>\n      <td>5</td>\n    </tr>\n    <tr>\n      <th>9</th>\n      <td>B</td>\n      <td>loss</td>\n      <td>win</td>\n      <td>True</td>\n      <td>4</td>\n      <td>1</td>\n    </tr>\n    <tr>\n      <th>10</th>\n      <td>B</td>\n      <td>win</td>\n      <td>loss</td>\n      <td>True</td>\n      <td>5</td>\n      <td>1</td>\n    </tr>\n    <tr>\n      <th>11</th>\n      <td>B</td>\n      <td>loss</td>\n      <td>win</td>\n      <td>True</td>\n      <td>6</td>\n      <td>1</td>\n    </tr>\n    <tr>\n      <th>12</th>\n      <td>B</td>\n      <td>loss</td>\n      <td>loss</td>\n      <td>False</td>\n      <td>6</td>\n      <td>2</td>\n    </tr>\n  </tbody>\n</table>\n</div>"
     },
     "execution_count": 65,
     "metadata": {},
     "output_type": "execute_result"
    }
   ],
   "source": [
    "# 1. Extract previous score by using the shift() method\n",
    "df2['previous_score'] = df2['Score'].shift(periods=1)\n",
    "\n",
    "# 2. Compare if they are equal\n",
    "df2['is_score_equal_to_previous'] = df2['Score'] != df2['previous_score']\n",
    "\n",
    "# 3. Calculate the grouped scores streaks by using cumsum() and the booleans from is_score_equal_to_previous\n",
    "df2['equal_grouped_scores'] = df2['is_score_equal_to_previous'].cumsum()\n",
    "\n",
    "# 4. Calculate the streaks\n",
    "df2['streaks'] = df2.groupby('equal_grouped_scores')['Score'].cumcount()+1\n",
    "\n",
    "df2"
   ],
   "metadata": {
    "collapsed": false,
    "pycharm": {
     "name": "#%%\n"
    }
   }
  },
  {
   "cell_type": "markdown",
   "source": [
    "## Win streak by group"
   ],
   "metadata": {
    "collapsed": false,
    "pycharm": {
     "name": "#%% md\n"
    }
   }
  },
  {
   "cell_type": "code",
   "execution_count": 68,
   "outputs": [
    {
     "data": {
      "text/plain": "   Group Score previous_score  is_score_equal_to_previous  \\\n0      A   win            NaN                        True   \n1      A  loss            win                        True   \n2      A  loss           loss                       False   \n3      A  loss           loss                       False   \n4      A   win           loss                        True   \n5      A   win            win                       False   \n6      B   win            NaN                        True   \n7      B   win            win                       False   \n8      B   win            win                       False   \n9      B  loss            win                        True   \n10     B   win           loss                        True   \n11     B  loss            win                        True   \n12     B  loss           loss                       False   \n\n    equal_grouped_scores  streaks  \n0                      1        1  \n1                      2        1  \n2                      2        2  \n3                      2        3  \n4                      3        1  \n5                      3        2  \n6                      4        1  \n7                      4        2  \n8                      4        3  \n9                      5        1  \n10                     6        1  \n11                     7        1  \n12                     7        2  ",
      "text/html": "<div>\n<style scoped>\n    .dataframe tbody tr th:only-of-type {\n        vertical-align: middle;\n    }\n\n    .dataframe tbody tr th {\n        vertical-align: top;\n    }\n\n    .dataframe thead th {\n        text-align: right;\n    }\n</style>\n<table border=\"1\" class=\"dataframe\">\n  <thead>\n    <tr style=\"text-align: right;\">\n      <th></th>\n      <th>Group</th>\n      <th>Score</th>\n      <th>previous_score</th>\n      <th>is_score_equal_to_previous</th>\n      <th>equal_grouped_scores</th>\n      <th>streaks</th>\n    </tr>\n  </thead>\n  <tbody>\n    <tr>\n      <th>0</th>\n      <td>A</td>\n      <td>win</td>\n      <td>NaN</td>\n      <td>True</td>\n      <td>1</td>\n      <td>1</td>\n    </tr>\n    <tr>\n      <th>1</th>\n      <td>A</td>\n      <td>loss</td>\n      <td>win</td>\n      <td>True</td>\n      <td>2</td>\n      <td>1</td>\n    </tr>\n    <tr>\n      <th>2</th>\n      <td>A</td>\n      <td>loss</td>\n      <td>loss</td>\n      <td>False</td>\n      <td>2</td>\n      <td>2</td>\n    </tr>\n    <tr>\n      <th>3</th>\n      <td>A</td>\n      <td>loss</td>\n      <td>loss</td>\n      <td>False</td>\n      <td>2</td>\n      <td>3</td>\n    </tr>\n    <tr>\n      <th>4</th>\n      <td>A</td>\n      <td>win</td>\n      <td>loss</td>\n      <td>True</td>\n      <td>3</td>\n      <td>1</td>\n    </tr>\n    <tr>\n      <th>5</th>\n      <td>A</td>\n      <td>win</td>\n      <td>win</td>\n      <td>False</td>\n      <td>3</td>\n      <td>2</td>\n    </tr>\n    <tr>\n      <th>6</th>\n      <td>B</td>\n      <td>win</td>\n      <td>NaN</td>\n      <td>True</td>\n      <td>4</td>\n      <td>1</td>\n    </tr>\n    <tr>\n      <th>7</th>\n      <td>B</td>\n      <td>win</td>\n      <td>win</td>\n      <td>False</td>\n      <td>4</td>\n      <td>2</td>\n    </tr>\n    <tr>\n      <th>8</th>\n      <td>B</td>\n      <td>win</td>\n      <td>win</td>\n      <td>False</td>\n      <td>4</td>\n      <td>3</td>\n    </tr>\n    <tr>\n      <th>9</th>\n      <td>B</td>\n      <td>loss</td>\n      <td>win</td>\n      <td>True</td>\n      <td>5</td>\n      <td>1</td>\n    </tr>\n    <tr>\n      <th>10</th>\n      <td>B</td>\n      <td>win</td>\n      <td>loss</td>\n      <td>True</td>\n      <td>6</td>\n      <td>1</td>\n    </tr>\n    <tr>\n      <th>11</th>\n      <td>B</td>\n      <td>loss</td>\n      <td>win</td>\n      <td>True</td>\n      <td>7</td>\n      <td>1</td>\n    </tr>\n    <tr>\n      <th>12</th>\n      <td>B</td>\n      <td>loss</td>\n      <td>loss</td>\n      <td>False</td>\n      <td>7</td>\n      <td>2</td>\n    </tr>\n  </tbody>\n</table>\n</div>"
     },
     "execution_count": 68,
     "metadata": {},
     "output_type": "execute_result"
    }
   ],
   "source": [
    "df2 = pd.DataFrame({'Group':['A','A', 'A','A','A','A','B','B','B','B','B','B','B'],\n",
    "                   'Score':['win', 'loss', 'loss', 'loss', 'win', 'win', 'win', 'win', 'win', 'loss', 'win', 'loss', 'loss']})\n",
    "\n",
    "# 1. Extract previous score by using the shift() method\n",
    "df2['previous_score'] = df2.groupby(['Group'])['Score'].shift(periods=1)\n",
    "\n",
    "# 2. Compare if they are equal\n",
    "df2['is_score_equal_to_previous'] = df2['Score'] != df2['previous_score']\n",
    "\n",
    "# 3. Calculate the grouped scores streaks by using cumsum() and the booleans from is_score_equal_to_previous\n",
    "df2['equal_grouped_scores'] = df2['is_score_equal_to_previous'].cumsum()\n",
    "\n",
    "# 4. Calculate the streaks\n",
    "df2['streaks'] = df2.groupby('equal_grouped_scores')['Score'].cumcount()+1\n",
    "\n",
    "df2"
   ],
   "metadata": {
    "collapsed": false,
    "pycharm": {
     "name": "#%%\n"
    }
   }
  },
  {
   "cell_type": "code",
   "execution_count": null,
   "outputs": [],
   "source": [],
   "metadata": {
    "collapsed": false,
    "pycharm": {
     "name": "#%%\n"
    }
   }
  }
 ],
 "metadata": {
  "kernelspec": {
   "display_name": "Python 3",
   "language": "python",
   "name": "python3"
  },
  "language_info": {
   "codemirror_mode": {
    "name": "ipython",
    "version": 2
   },
   "file_extension": ".py",
   "mimetype": "text/x-python",
   "name": "python",
   "nbconvert_exporter": "python",
   "pygments_lexer": "ipython2",
   "version": "2.7.6"
  }
 },
 "nbformat": 4,
 "nbformat_minor": 0
}