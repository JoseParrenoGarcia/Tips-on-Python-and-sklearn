{
 "cells": [
  {
   "cell_type": "code",
   "execution_count": 2,
   "metadata": {
    "collapsed": true
   },
   "outputs": [],
   "source": [
    "import pandas as pd\n",
    "\n",
    "from pandasql import sqldf\n",
    "mysql = lambda q: sqldf(q, globals())"
   ]
  },
  {
   "cell_type": "markdown",
   "source": [
    "# Group an ID by consecutive dates\n",
    "Calculate the number of consecutive days for a given ID. If there is a gap of days for an ID, we should capture both streaks as different rows"
   ],
   "metadata": {
    "collapsed": false,
    "pycharm": {
     "name": "#%% md\n"
    }
   }
  },
  {
   "cell_type": "code",
   "execution_count": 3,
   "outputs": [
    {
     "data": {
      "text/plain": "   ID       Date\n0   1 2017-01-07\n1   1 2017-01-08\n2   1 2017-01-09\n3   1 2017-01-23\n4   2 2017-01-05\n5   2 2017-01-06\n6   2 2017-01-10\n7   2 2017-01-11",
      "text/html": "<div>\n<style scoped>\n    .dataframe tbody tr th:only-of-type {\n        vertical-align: middle;\n    }\n\n    .dataframe tbody tr th {\n        vertical-align: top;\n    }\n\n    .dataframe thead th {\n        text-align: right;\n    }\n</style>\n<table border=\"1\" class=\"dataframe\">\n  <thead>\n    <tr style=\"text-align: right;\">\n      <th></th>\n      <th>ID</th>\n      <th>Date</th>\n    </tr>\n  </thead>\n  <tbody>\n    <tr>\n      <th>0</th>\n      <td>1</td>\n      <td>2017-01-07</td>\n    </tr>\n    <tr>\n      <th>1</th>\n      <td>1</td>\n      <td>2017-01-08</td>\n    </tr>\n    <tr>\n      <th>2</th>\n      <td>1</td>\n      <td>2017-01-09</td>\n    </tr>\n    <tr>\n      <th>3</th>\n      <td>1</td>\n      <td>2017-01-23</td>\n    </tr>\n    <tr>\n      <th>4</th>\n      <td>2</td>\n      <td>2017-01-05</td>\n    </tr>\n    <tr>\n      <th>5</th>\n      <td>2</td>\n      <td>2017-01-06</td>\n    </tr>\n    <tr>\n      <th>6</th>\n      <td>2</td>\n      <td>2017-01-10</td>\n    </tr>\n    <tr>\n      <th>7</th>\n      <td>2</td>\n      <td>2017-01-11</td>\n    </tr>\n  </tbody>\n</table>\n</div>"
     },
     "execution_count": 3,
     "metadata": {},
     "output_type": "execute_result"
    }
   ],
   "source": [
    "df1 = pd.DataFrame({'ID': [1, 1, 1, 1, 2, 2, 2, 2],\n",
    "                    'Date': ['2017-01-07', '2017-01-08', '2017-01-09', '2017-01-23',\n",
    "                             '2017-01-05', '2017-01-06', '2017-01-10', '2017-01-11']\n",
    "                    })\n",
    "df1['Date'] = pd.to_datetime(df1['Date'])\n",
    "df1"
   ],
   "metadata": {
    "collapsed": false,
    "pycharm": {
     "name": "#%%\n"
    }
   }
  },
  {
   "cell_type": "markdown",
   "source": [
    "#### PYTHON - Method 1: using diff for datetime datatype"
   ],
   "metadata": {
    "collapsed": false,
    "pycharm": {
     "name": "#%% md\n"
    }
   }
  },
  {
   "cell_type": "code",
   "execution_count": 4,
   "outputs": [
    {
     "data": {
      "text/plain": "   ID       Date  is_there_more_than_one_day_difference  streak_id  \\\n0   1 2017-01-07                                   True          1   \n1   1 2017-01-08                                  False          1   \n2   1 2017-01-09                                  False          1   \n3   1 2017-01-23                                   True          2   \n4   2 2017-01-05                                   True          3   \n5   2 2017-01-06                                  False          3   \n6   2 2017-01-10                                   True          4   \n7   2 2017-01-11                                  False          4   \n\n   streak_size_days  longest_streak_rank  \n0                 3                  1.0  \n1                 3                  1.0  \n2                 3                  1.0  \n3                 1                  2.0  \n4                 2                  1.0  \n5                 2                  1.0  \n6                 2                  1.0  \n7                 2                  1.0  ",
      "text/html": "<div>\n<style scoped>\n    .dataframe tbody tr th:only-of-type {\n        vertical-align: middle;\n    }\n\n    .dataframe tbody tr th {\n        vertical-align: top;\n    }\n\n    .dataframe thead th {\n        text-align: right;\n    }\n</style>\n<table border=\"1\" class=\"dataframe\">\n  <thead>\n    <tr style=\"text-align: right;\">\n      <th></th>\n      <th>ID</th>\n      <th>Date</th>\n      <th>is_there_more_than_one_day_difference</th>\n      <th>streak_id</th>\n      <th>streak_size_days</th>\n      <th>longest_streak_rank</th>\n    </tr>\n  </thead>\n  <tbody>\n    <tr>\n      <th>0</th>\n      <td>1</td>\n      <td>2017-01-07</td>\n      <td>True</td>\n      <td>1</td>\n      <td>3</td>\n      <td>1.0</td>\n    </tr>\n    <tr>\n      <th>1</th>\n      <td>1</td>\n      <td>2017-01-08</td>\n      <td>False</td>\n      <td>1</td>\n      <td>3</td>\n      <td>1.0</td>\n    </tr>\n    <tr>\n      <th>2</th>\n      <td>1</td>\n      <td>2017-01-09</td>\n      <td>False</td>\n      <td>1</td>\n      <td>3</td>\n      <td>1.0</td>\n    </tr>\n    <tr>\n      <th>3</th>\n      <td>1</td>\n      <td>2017-01-23</td>\n      <td>True</td>\n      <td>2</td>\n      <td>1</td>\n      <td>2.0</td>\n    </tr>\n    <tr>\n      <th>4</th>\n      <td>2</td>\n      <td>2017-01-05</td>\n      <td>True</td>\n      <td>3</td>\n      <td>2</td>\n      <td>1.0</td>\n    </tr>\n    <tr>\n      <th>5</th>\n      <td>2</td>\n      <td>2017-01-06</td>\n      <td>False</td>\n      <td>3</td>\n      <td>2</td>\n      <td>1.0</td>\n    </tr>\n    <tr>\n      <th>6</th>\n      <td>2</td>\n      <td>2017-01-10</td>\n      <td>True</td>\n      <td>4</td>\n      <td>2</td>\n      <td>1.0</td>\n    </tr>\n    <tr>\n      <th>7</th>\n      <td>2</td>\n      <td>2017-01-11</td>\n      <td>False</td>\n      <td>4</td>\n      <td>2</td>\n      <td>1.0</td>\n    </tr>\n  </tbody>\n</table>\n</div>"
     },
     "execution_count": 4,
     "metadata": {},
     "output_type": "execute_result"
    }
   ],
   "source": [
    "# In order for SHIFT to work properly, we would probably need to sort the dataframe\n",
    "\n",
    "# 1. Is there more than 1 day difference with the previous day? (use the not equal method ne(1))\n",
    "df1['is_there_more_than_one_day_difference'] = df1.groupby('ID')['Date'].diff().dt.days.ne(1)\n",
    "\n",
    "# 2. Group the booleans by using cumsum()\n",
    "df1['streak_id'] = df1['is_there_more_than_one_day_difference'].cumsum()\n",
    "\n",
    "# Calculate the size of each grouped_streaks by ID\n",
    "df1['streak_size_days'] = df1.groupby(['ID', 'streak_id'])['streak_id'].transform('size')\n",
    "\n",
    "# With this we could extract, for each ID, what is the longest streak\n",
    "df1['longest_streak_rank'] = df1.groupby('ID')['streak_size_days'].rank(method='dense', ascending=False)\n",
    "df1"
   ],
   "metadata": {
    "collapsed": false,
    "pycharm": {
     "name": "#%%\n"
    }
   }
  },
  {
   "cell_type": "code",
   "execution_count": 5,
   "outputs": [
    {
     "data": {
      "text/plain": "   ID  streak_size_days  longest_streak_rank\n0   1                 3                  1.0\n3   1                 1                  2.0\n4   2                 2                  1.0",
      "text/html": "<div>\n<style scoped>\n    .dataframe tbody tr th:only-of-type {\n        vertical-align: middle;\n    }\n\n    .dataframe tbody tr th {\n        vertical-align: top;\n    }\n\n    .dataframe thead th {\n        text-align: right;\n    }\n</style>\n<table border=\"1\" class=\"dataframe\">\n  <thead>\n    <tr style=\"text-align: right;\">\n      <th></th>\n      <th>ID</th>\n      <th>streak_size_days</th>\n      <th>longest_streak_rank</th>\n    </tr>\n  </thead>\n  <tbody>\n    <tr>\n      <th>0</th>\n      <td>1</td>\n      <td>3</td>\n      <td>1.0</td>\n    </tr>\n    <tr>\n      <th>3</th>\n      <td>1</td>\n      <td>1</td>\n      <td>2.0</td>\n    </tr>\n    <tr>\n      <th>4</th>\n      <td>2</td>\n      <td>2</td>\n      <td>1.0</td>\n    </tr>\n  </tbody>\n</table>\n</div>"
     },
     "execution_count": 5,
     "metadata": {},
     "output_type": "execute_result"
    }
   ],
   "source": [
    "df1[['ID', 'streak_size_days', 'longest_streak_rank']].drop_duplicates().sort_values(['ID','longest_streak_rank'])"
   ],
   "metadata": {
    "collapsed": false,
    "pycharm": {
     "name": "#%%\n"
    }
   }
  },
  {
   "cell_type": "markdown",
   "source": [
    "#### SQL"
   ],
   "metadata": {
    "collapsed": false,
    "pycharm": {
     "name": "#%% md\n"
    }
   }
  },
  {
   "cell_type": "code",
   "execution_count": 6,
   "outputs": [],
   "source": [
    "df1 = pd.DataFrame({'ID': [1, 1, 1, 1, 2, 2, 2, 2],\n",
    "                    'Date': ['2017-01-07', '2017-01-08', '2017-01-09', '2017-01-23',\n",
    "                             '2017-01-05', '2017-01-06', '2017-01-10', '2017-01-11']\n",
    "                    })\n",
    "df1['Date'] = pd.to_datetime(df1['Date'])"
   ],
   "metadata": {
    "collapsed": false,
    "pycharm": {
     "name": "#%%\n"
    }
   }
  },
  {
   "cell_type": "code",
   "execution_count": 7,
   "outputs": [
    {
     "data": {
      "text/plain": "   ID  streak_id  streak_size_days\n0   1          1                 3\n1   1          2                 1\n2   2          3                 2\n3   2          4                 2",
      "text/html": "<div>\n<style scoped>\n    .dataframe tbody tr th:only-of-type {\n        vertical-align: middle;\n    }\n\n    .dataframe tbody tr th {\n        vertical-align: top;\n    }\n\n    .dataframe thead th {\n        text-align: right;\n    }\n</style>\n<table border=\"1\" class=\"dataframe\">\n  <thead>\n    <tr style=\"text-align: right;\">\n      <th></th>\n      <th>ID</th>\n      <th>streak_id</th>\n      <th>streak_size_days</th>\n    </tr>\n  </thead>\n  <tbody>\n    <tr>\n      <th>0</th>\n      <td>1</td>\n      <td>1</td>\n      <td>3</td>\n    </tr>\n    <tr>\n      <th>1</th>\n      <td>1</td>\n      <td>2</td>\n      <td>1</td>\n    </tr>\n    <tr>\n      <th>2</th>\n      <td>2</td>\n      <td>3</td>\n      <td>2</td>\n    </tr>\n    <tr>\n      <th>3</th>\n      <td>2</td>\n      <td>4</td>\n      <td>2</td>\n    </tr>\n  </tbody>\n</table>\n</div>"
     },
     "execution_count": 7,
     "metadata": {},
     "output_type": "execute_result"
    }
   ],
   "source": [
    "# In order for LAG to work properly, we would probably need to sort the dataframe\n",
    "query = \"WITH previous_date_df AS (\" \\\n",
    "        \"SELECT ID, \" \\\n",
    "        \"       Date AS first_date, \" \\\n",
    "        \"       COALESCE(LAG(Date) OVER (PARTITION BY ID ORDER BY Date), Date) AS previous_date \" \\\n",
    "        \"FROM df1), \" \\\n",
    "        \"date_difference_is_not_one_df AS (\" \\\n",
    "        \"SELECT *, \" \\\n",
    "        \"       CASE WHEN (julianday(first_date) - (julianday(previous_date))) != 1 THEN True ELSE False END AS is_there_more_than_one_day_difference \" \\\n",
    "        \"FROM previous_date_df), \" \\\n",
    "        \"grouped_streaks_df AS (\" \\\n",
    "        \"SELECT *, \" \\\n",
    "        \"       SUM(is_there_more_than_one_day_difference) OVER (ORDER BY ID, first_date ROWS BETWEEN UNBOUNDED PRECEDING AND CURRENT ROW) as streak_id \" \\\n",
    "        \"FROM date_difference_is_not_one_df) \" \\\n",
    "        \"SELECT ID, streak_id, COUNT(*) AS streak_size_days FROM grouped_streaks_df GROUP BY ID, streak_id \"\n",
    "\n",
    "mysql(query)"
   ],
   "metadata": {
    "collapsed": false,
    "pycharm": {
     "name": "#%%\n"
    }
   }
  },
  {
   "cell_type": "markdown",
   "source": [
    "# Groupby an ID by consecutive events\n",
    "For example, wins and losses"
   ],
   "metadata": {
    "collapsed": false,
    "pycharm": {
     "name": "#%% md\n"
    }
   }
  },
  {
   "cell_type": "code",
   "execution_count": 8,
   "outputs": [
    {
     "data": {
      "text/plain": "   Group Score\n0      A   win\n1      A  loss\n2      A  loss\n3      A  loss\n4      A   win\n5      A   win\n6      B   win\n7      B   win\n8      B   win\n9      B  loss\n10     B   win\n11     B  loss\n12     B  loss",
      "text/html": "<div>\n<style scoped>\n    .dataframe tbody tr th:only-of-type {\n        vertical-align: middle;\n    }\n\n    .dataframe tbody tr th {\n        vertical-align: top;\n    }\n\n    .dataframe thead th {\n        text-align: right;\n    }\n</style>\n<table border=\"1\" class=\"dataframe\">\n  <thead>\n    <tr style=\"text-align: right;\">\n      <th></th>\n      <th>Group</th>\n      <th>Score</th>\n    </tr>\n  </thead>\n  <tbody>\n    <tr>\n      <th>0</th>\n      <td>A</td>\n      <td>win</td>\n    </tr>\n    <tr>\n      <th>1</th>\n      <td>A</td>\n      <td>loss</td>\n    </tr>\n    <tr>\n      <th>2</th>\n      <td>A</td>\n      <td>loss</td>\n    </tr>\n    <tr>\n      <th>3</th>\n      <td>A</td>\n      <td>loss</td>\n    </tr>\n    <tr>\n      <th>4</th>\n      <td>A</td>\n      <td>win</td>\n    </tr>\n    <tr>\n      <th>5</th>\n      <td>A</td>\n      <td>win</td>\n    </tr>\n    <tr>\n      <th>6</th>\n      <td>B</td>\n      <td>win</td>\n    </tr>\n    <tr>\n      <th>7</th>\n      <td>B</td>\n      <td>win</td>\n    </tr>\n    <tr>\n      <th>8</th>\n      <td>B</td>\n      <td>win</td>\n    </tr>\n    <tr>\n      <th>9</th>\n      <td>B</td>\n      <td>loss</td>\n    </tr>\n    <tr>\n      <th>10</th>\n      <td>B</td>\n      <td>win</td>\n    </tr>\n    <tr>\n      <th>11</th>\n      <td>B</td>\n      <td>loss</td>\n    </tr>\n    <tr>\n      <th>12</th>\n      <td>B</td>\n      <td>loss</td>\n    </tr>\n  </tbody>\n</table>\n</div>"
     },
     "execution_count": 8,
     "metadata": {},
     "output_type": "execute_result"
    }
   ],
   "source": [
    "df2 = pd.DataFrame({'Group':['A','A', 'A','A','A','A','B','B','B','B','B','B','B'],\n",
    "                   'Score':['win', 'loss', 'loss', 'loss', 'win', 'win', 'win', 'win', 'win', 'loss', 'win', 'loss', 'loss']})\n",
    "df2"
   ],
   "metadata": {
    "collapsed": false,
    "pycharm": {
     "name": "#%%\n"
    }
   }
  },
  {
   "cell_type": "markdown",
   "source": [
    "#### PYTHON - Overall win streak"
   ],
   "metadata": {
    "collapsed": false,
    "pycharm": {
     "name": "#%% md\n"
    }
   }
  },
  {
   "cell_type": "code",
   "execution_count": 9,
   "outputs": [
    {
     "data": {
      "text/plain": "   Group Score previous_score  is_score_not_equal_to_previous  streak_id  \\\n0      A   win            NaN                            True          1   \n1      A  loss            win                            True          2   \n2      A  loss           loss                           False          2   \n3      A  loss           loss                           False          2   \n4      A   win           loss                            True          3   \n5      A   win            win                           False          3   \n6      B   win            win                           False          3   \n7      B   win            win                           False          3   \n8      B   win            win                           False          3   \n9      B  loss            win                            True          4   \n10     B   win           loss                            True          5   \n11     B  loss            win                            True          6   \n12     B  loss           loss                           False          6   \n\n    cumulative_streaks  \n0                    1  \n1                    1  \n2                    2  \n3                    3  \n4                    1  \n5                    2  \n6                    3  \n7                    4  \n8                    5  \n9                    1  \n10                   1  \n11                   1  \n12                   2  ",
      "text/html": "<div>\n<style scoped>\n    .dataframe tbody tr th:only-of-type {\n        vertical-align: middle;\n    }\n\n    .dataframe tbody tr th {\n        vertical-align: top;\n    }\n\n    .dataframe thead th {\n        text-align: right;\n    }\n</style>\n<table border=\"1\" class=\"dataframe\">\n  <thead>\n    <tr style=\"text-align: right;\">\n      <th></th>\n      <th>Group</th>\n      <th>Score</th>\n      <th>previous_score</th>\n      <th>is_score_not_equal_to_previous</th>\n      <th>streak_id</th>\n      <th>cumulative_streaks</th>\n    </tr>\n  </thead>\n  <tbody>\n    <tr>\n      <th>0</th>\n      <td>A</td>\n      <td>win</td>\n      <td>NaN</td>\n      <td>True</td>\n      <td>1</td>\n      <td>1</td>\n    </tr>\n    <tr>\n      <th>1</th>\n      <td>A</td>\n      <td>loss</td>\n      <td>win</td>\n      <td>True</td>\n      <td>2</td>\n      <td>1</td>\n    </tr>\n    <tr>\n      <th>2</th>\n      <td>A</td>\n      <td>loss</td>\n      <td>loss</td>\n      <td>False</td>\n      <td>2</td>\n      <td>2</td>\n    </tr>\n    <tr>\n      <th>3</th>\n      <td>A</td>\n      <td>loss</td>\n      <td>loss</td>\n      <td>False</td>\n      <td>2</td>\n      <td>3</td>\n    </tr>\n    <tr>\n      <th>4</th>\n      <td>A</td>\n      <td>win</td>\n      <td>loss</td>\n      <td>True</td>\n      <td>3</td>\n      <td>1</td>\n    </tr>\n    <tr>\n      <th>5</th>\n      <td>A</td>\n      <td>win</td>\n      <td>win</td>\n      <td>False</td>\n      <td>3</td>\n      <td>2</td>\n    </tr>\n    <tr>\n      <th>6</th>\n      <td>B</td>\n      <td>win</td>\n      <td>win</td>\n      <td>False</td>\n      <td>3</td>\n      <td>3</td>\n    </tr>\n    <tr>\n      <th>7</th>\n      <td>B</td>\n      <td>win</td>\n      <td>win</td>\n      <td>False</td>\n      <td>3</td>\n      <td>4</td>\n    </tr>\n    <tr>\n      <th>8</th>\n      <td>B</td>\n      <td>win</td>\n      <td>win</td>\n      <td>False</td>\n      <td>3</td>\n      <td>5</td>\n    </tr>\n    <tr>\n      <th>9</th>\n      <td>B</td>\n      <td>loss</td>\n      <td>win</td>\n      <td>True</td>\n      <td>4</td>\n      <td>1</td>\n    </tr>\n    <tr>\n      <th>10</th>\n      <td>B</td>\n      <td>win</td>\n      <td>loss</td>\n      <td>True</td>\n      <td>5</td>\n      <td>1</td>\n    </tr>\n    <tr>\n      <th>11</th>\n      <td>B</td>\n      <td>loss</td>\n      <td>win</td>\n      <td>True</td>\n      <td>6</td>\n      <td>1</td>\n    </tr>\n    <tr>\n      <th>12</th>\n      <td>B</td>\n      <td>loss</td>\n      <td>loss</td>\n      <td>False</td>\n      <td>6</td>\n      <td>2</td>\n    </tr>\n  </tbody>\n</table>\n</div>"
     },
     "execution_count": 9,
     "metadata": {},
     "output_type": "execute_result"
    }
   ],
   "source": [
    "# 1. Extract previous score by using the shift() method\n",
    "df2['previous_score'] = df2['Score'].shift(periods=1)\n",
    "\n",
    "# 2. Compare if they are not equal\n",
    "df2['is_score_not_equal_to_previous'] = df2['Score'] != df2['previous_score']\n",
    "\n",
    "# 3. Calculate the grouped scores streaks by using cumsum() and the booleans from is_score_equal_to_previous\n",
    "df2['streak_id'] = df2['is_score_not_equal_to_previous'].cumsum()\n",
    "\n",
    "# 4. Calculate the streaks\n",
    "df2['cumulative_streaks'] = df2.groupby('streak_id')['Score'].cumcount()+1\n",
    "\n",
    "df2"
   ],
   "metadata": {
    "collapsed": false,
    "pycharm": {
     "name": "#%%\n"
    }
   }
  },
  {
   "cell_type": "markdown",
   "source": [
    "#### SQL - Overall win streak"
   ],
   "metadata": {
    "collapsed": false,
    "pycharm": {
     "name": "#%% md\n"
    }
   }
  },
  {
   "cell_type": "code",
   "execution_count": 10,
   "outputs": [
    {
     "data": {
      "text/plain": "  first_score  streak_id  streak_size_days\n0         win          0                 1\n1        loss          1                 3\n2         win          2                 5\n3        loss          3                 1\n4         win          4                 1\n5        loss          5                 2",
      "text/html": "<div>\n<style scoped>\n    .dataframe tbody tr th:only-of-type {\n        vertical-align: middle;\n    }\n\n    .dataframe tbody tr th {\n        vertical-align: top;\n    }\n\n    .dataframe thead th {\n        text-align: right;\n    }\n</style>\n<table border=\"1\" class=\"dataframe\">\n  <thead>\n    <tr style=\"text-align: right;\">\n      <th></th>\n      <th>first_score</th>\n      <th>streak_id</th>\n      <th>streak_size_days</th>\n    </tr>\n  </thead>\n  <tbody>\n    <tr>\n      <th>0</th>\n      <td>win</td>\n      <td>0</td>\n      <td>1</td>\n    </tr>\n    <tr>\n      <th>1</th>\n      <td>loss</td>\n      <td>1</td>\n      <td>3</td>\n    </tr>\n    <tr>\n      <th>2</th>\n      <td>win</td>\n      <td>2</td>\n      <td>5</td>\n    </tr>\n    <tr>\n      <th>3</th>\n      <td>loss</td>\n      <td>3</td>\n      <td>1</td>\n    </tr>\n    <tr>\n      <th>4</th>\n      <td>win</td>\n      <td>4</td>\n      <td>1</td>\n    </tr>\n    <tr>\n      <th>5</th>\n      <td>loss</td>\n      <td>5</td>\n      <td>2</td>\n    </tr>\n  </tbody>\n</table>\n</div>"
     },
     "execution_count": 10,
     "metadata": {},
     "output_type": "execute_result"
    }
   ],
   "source": [
    "df2 = pd.DataFrame({'ID': [1, 2, 3, 4, 5, 6, 7, 8, 9, 10, 11, 12, 13],\n",
    "                    'Group_':['A','A', 'A','A','A','A','B','B','B','B','B','B','B'],\n",
    "                   'Score':['win', 'loss', 'loss', 'loss', 'win', 'win', 'win', 'win', 'win', 'loss', 'win', 'loss', 'loss']})\n",
    "\n",
    "# In order for LAG to work properly, we would probably need to sort the dataframe\n",
    "query = \"WITH previous_score_df AS (\" \\\n",
    "        \"SELECT ID, \" \\\n",
    "        \"       Score AS first_score, \" \\\n",
    "        \"       COALESCE(LAG(Score) OVER (ORDER BY ID, Score), Score) AS previous_score \" \\\n",
    "        \"FROM df2), \" \\\n",
    "        \"are_scores_equal_df AS (\" \\\n",
    "        \"SELECT *, \" \\\n",
    "        \"       CASE WHEN first_score != previous_score THEN True ELSE False END AS is_previous_score_equal \" \\\n",
    "        \"FROM previous_score_df), \" \\\n",
    "        \"grouped_streaks_df AS (\" \\\n",
    "        \"SELECT *, \" \\\n",
    "        \"       SUM(is_previous_score_equal) OVER (ORDER BY ID ROWS BETWEEN UNBOUNDED PRECEDING AND CURRENT ROW) as streak_id \" \\\n",
    "        \"FROM are_scores_equal_df) \" \\\n",
    "        \"SELECT first_score, streak_id, COUNT(*) AS streak_size_days \" \\\n",
    "        \"FROM grouped_streaks_df \" \\\n",
    "        \"GROUP BY first_score, streak_id \" \\\n",
    "        \"ORDER BY streak_id\"\n",
    "\n",
    "mysql(query)"
   ],
   "metadata": {
    "collapsed": false,
    "pycharm": {
     "name": "#%%\n"
    }
   }
  },
  {
   "cell_type": "markdown",
   "source": [
    "#### PYTHON - Win streak by group"
   ],
   "metadata": {
    "collapsed": false,
    "pycharm": {
     "name": "#%% md\n"
    }
   }
  },
  {
   "cell_type": "code",
   "execution_count": 11,
   "outputs": [
    {
     "data": {
      "text/plain": "   Group Score previous_score  is_score_equal_to_previous  \\\n0      A   win            NaN                        True   \n1      A  loss            win                        True   \n2      A  loss           loss                       False   \n3      A  loss           loss                       False   \n4      A   win           loss                        True   \n5      A   win            win                       False   \n6      B   win            NaN                        True   \n7      B   win            win                       False   \n8      B   win            win                       False   \n9      B  loss            win                        True   \n10     B   win           loss                        True   \n11     B  loss            win                        True   \n12     B  loss           loss                       False   \n\n    equal_grouped_scores  streaks  \n0                      1        1  \n1                      2        1  \n2                      2        2  \n3                      2        3  \n4                      3        1  \n5                      3        2  \n6                      4        1  \n7                      4        2  \n8                      4        3  \n9                      5        1  \n10                     6        1  \n11                     7        1  \n12                     7        2  ",
      "text/html": "<div>\n<style scoped>\n    .dataframe tbody tr th:only-of-type {\n        vertical-align: middle;\n    }\n\n    .dataframe tbody tr th {\n        vertical-align: top;\n    }\n\n    .dataframe thead th {\n        text-align: right;\n    }\n</style>\n<table border=\"1\" class=\"dataframe\">\n  <thead>\n    <tr style=\"text-align: right;\">\n      <th></th>\n      <th>Group</th>\n      <th>Score</th>\n      <th>previous_score</th>\n      <th>is_score_equal_to_previous</th>\n      <th>equal_grouped_scores</th>\n      <th>streaks</th>\n    </tr>\n  </thead>\n  <tbody>\n    <tr>\n      <th>0</th>\n      <td>A</td>\n      <td>win</td>\n      <td>NaN</td>\n      <td>True</td>\n      <td>1</td>\n      <td>1</td>\n    </tr>\n    <tr>\n      <th>1</th>\n      <td>A</td>\n      <td>loss</td>\n      <td>win</td>\n      <td>True</td>\n      <td>2</td>\n      <td>1</td>\n    </tr>\n    <tr>\n      <th>2</th>\n      <td>A</td>\n      <td>loss</td>\n      <td>loss</td>\n      <td>False</td>\n      <td>2</td>\n      <td>2</td>\n    </tr>\n    <tr>\n      <th>3</th>\n      <td>A</td>\n      <td>loss</td>\n      <td>loss</td>\n      <td>False</td>\n      <td>2</td>\n      <td>3</td>\n    </tr>\n    <tr>\n      <th>4</th>\n      <td>A</td>\n      <td>win</td>\n      <td>loss</td>\n      <td>True</td>\n      <td>3</td>\n      <td>1</td>\n    </tr>\n    <tr>\n      <th>5</th>\n      <td>A</td>\n      <td>win</td>\n      <td>win</td>\n      <td>False</td>\n      <td>3</td>\n      <td>2</td>\n    </tr>\n    <tr>\n      <th>6</th>\n      <td>B</td>\n      <td>win</td>\n      <td>NaN</td>\n      <td>True</td>\n      <td>4</td>\n      <td>1</td>\n    </tr>\n    <tr>\n      <th>7</th>\n      <td>B</td>\n      <td>win</td>\n      <td>win</td>\n      <td>False</td>\n      <td>4</td>\n      <td>2</td>\n    </tr>\n    <tr>\n      <th>8</th>\n      <td>B</td>\n      <td>win</td>\n      <td>win</td>\n      <td>False</td>\n      <td>4</td>\n      <td>3</td>\n    </tr>\n    <tr>\n      <th>9</th>\n      <td>B</td>\n      <td>loss</td>\n      <td>win</td>\n      <td>True</td>\n      <td>5</td>\n      <td>1</td>\n    </tr>\n    <tr>\n      <th>10</th>\n      <td>B</td>\n      <td>win</td>\n      <td>loss</td>\n      <td>True</td>\n      <td>6</td>\n      <td>1</td>\n    </tr>\n    <tr>\n      <th>11</th>\n      <td>B</td>\n      <td>loss</td>\n      <td>win</td>\n      <td>True</td>\n      <td>7</td>\n      <td>1</td>\n    </tr>\n    <tr>\n      <th>12</th>\n      <td>B</td>\n      <td>loss</td>\n      <td>loss</td>\n      <td>False</td>\n      <td>7</td>\n      <td>2</td>\n    </tr>\n  </tbody>\n</table>\n</div>"
     },
     "execution_count": 11,
     "metadata": {},
     "output_type": "execute_result"
    }
   ],
   "source": [
    "df2 = pd.DataFrame({'Group':['A','A', 'A','A','A','A','B','B','B','B','B','B','B'],\n",
    "                   'Score':['win', 'loss', 'loss', 'loss', 'win', 'win', 'win', 'win', 'win', 'loss', 'win', 'loss', 'loss']})\n",
    "\n",
    "# 1. Extract previous score by using the shift() method\n",
    "df2['previous_score'] = df2.groupby(['Group'])['Score'].shift(periods=1)\n",
    "\n",
    "# 2. Compare if they are equal\n",
    "df2['is_score_equal_to_previous'] = df2['Score'] != df2['previous_score']\n",
    "\n",
    "# 3. Calculate the grouped scores streaks by using cumsum() and the booleans from is_score_equal_to_previous\n",
    "df2['equal_grouped_scores'] = df2['is_score_equal_to_previous'].cumsum()\n",
    "\n",
    "# 4. Calculate the streaks\n",
    "df2['streaks'] = df2.groupby('equal_grouped_scores')['Score'].cumcount()+1\n",
    "\n",
    "df2"
   ],
   "metadata": {
    "collapsed": false,
    "pycharm": {
     "name": "#%%\n"
    }
   }
  },
  {
   "cell_type": "markdown",
   "source": [
    "#### SQL - Win streak by group"
   ],
   "metadata": {
    "collapsed": false,
    "pycharm": {
     "name": "#%% md\n"
    }
   }
  },
  {
   "cell_type": "code",
   "execution_count": 12,
   "outputs": [
    {
     "data": {
      "text/plain": "  Group_ first_score  streak_id  streak_size_days\n0      A         win          0                 1\n1      A        loss          1                 3\n2      A         win          2                 2\n3      B         win          2                 3\n4      B        loss          3                 1\n5      B         win          4                 1\n6      B        loss          5                 2",
      "text/html": "<div>\n<style scoped>\n    .dataframe tbody tr th:only-of-type {\n        vertical-align: middle;\n    }\n\n    .dataframe tbody tr th {\n        vertical-align: top;\n    }\n\n    .dataframe thead th {\n        text-align: right;\n    }\n</style>\n<table border=\"1\" class=\"dataframe\">\n  <thead>\n    <tr style=\"text-align: right;\">\n      <th></th>\n      <th>Group_</th>\n      <th>first_score</th>\n      <th>streak_id</th>\n      <th>streak_size_days</th>\n    </tr>\n  </thead>\n  <tbody>\n    <tr>\n      <th>0</th>\n      <td>A</td>\n      <td>win</td>\n      <td>0</td>\n      <td>1</td>\n    </tr>\n    <tr>\n      <th>1</th>\n      <td>A</td>\n      <td>loss</td>\n      <td>1</td>\n      <td>3</td>\n    </tr>\n    <tr>\n      <th>2</th>\n      <td>A</td>\n      <td>win</td>\n      <td>2</td>\n      <td>2</td>\n    </tr>\n    <tr>\n      <th>3</th>\n      <td>B</td>\n      <td>win</td>\n      <td>2</td>\n      <td>3</td>\n    </tr>\n    <tr>\n      <th>4</th>\n      <td>B</td>\n      <td>loss</td>\n      <td>3</td>\n      <td>1</td>\n    </tr>\n    <tr>\n      <th>5</th>\n      <td>B</td>\n      <td>win</td>\n      <td>4</td>\n      <td>1</td>\n    </tr>\n    <tr>\n      <th>6</th>\n      <td>B</td>\n      <td>loss</td>\n      <td>5</td>\n      <td>2</td>\n    </tr>\n  </tbody>\n</table>\n</div>"
     },
     "execution_count": 12,
     "metadata": {},
     "output_type": "execute_result"
    }
   ],
   "source": [
    "df2 = pd.DataFrame({'ID': [1, 2, 3, 4, 5, 6, 7, 8, 9, 10, 11, 12, 13],\n",
    "                    'Group_':['A','A', 'A','A','A','A','B','B','B','B','B','B','B'],\n",
    "                   'Score':['win', 'loss', 'loss', 'loss', 'win', 'win', 'win', 'win', 'win', 'loss', 'win', 'loss', 'loss']})\n",
    "\n",
    "# In order for LAG to work properly, we would probably need to sort the dataframe\n",
    "query = \"WITH previous_score_df AS (\" \\\n",
    "        \"SELECT ID, \" \\\n",
    "        \"       Group_, \" \\\n",
    "        \"       Score AS first_score, \" \\\n",
    "        \"       COALESCE(LAG(Score) OVER (PARTITION BY Group_ ORDER BY ID, Score), Score) AS previous_score \" \\\n",
    "        \"FROM df2), \" \\\n",
    "        \"are_scores_equal_df AS (\" \\\n",
    "        \"SELECT *, \" \\\n",
    "        \"       CASE WHEN first_score != previous_score THEN True ELSE False END AS is_previous_score_equal \" \\\n",
    "        \"FROM previous_score_df), \" \\\n",
    "        \"grouped_streaks_df AS (\" \\\n",
    "        \"SELECT *, \" \\\n",
    "        \"       SUM(is_previous_score_equal) OVER (ORDER BY ID, Group_ ROWS BETWEEN UNBOUNDED PRECEDING AND CURRENT ROW) as streak_id \" \\\n",
    "        \"FROM are_scores_equal_df) \" \\\n",
    "        \"SELECT Group_, first_score, streak_id, COUNT(*) AS streak_size_days \" \\\n",
    "        \"FROM grouped_streaks_df \" \\\n",
    "        \"GROUP BY Group_, first_score, streak_id \" \\\n",
    "        \"ORDER BY streak_id\"\n",
    "\n",
    "mysql(query)"
   ],
   "metadata": {
    "collapsed": false,
    "pycharm": {
     "name": "#%%\n"
    }
   }
  }
 ],
 "metadata": {
  "kernelspec": {
   "display_name": "Python 3",
   "language": "python",
   "name": "python3"
  },
  "language_info": {
   "codemirror_mode": {
    "name": "ipython",
    "version": 2
   },
   "file_extension": ".py",
   "mimetype": "text/x-python",
   "name": "python",
   "nbconvert_exporter": "python",
   "pygments_lexer": "ipython2",
   "version": "2.7.6"
  }
 },
 "nbformat": 4,
 "nbformat_minor": 0
}