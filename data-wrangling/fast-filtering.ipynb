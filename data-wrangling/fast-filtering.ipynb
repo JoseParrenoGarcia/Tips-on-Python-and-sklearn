{
 "cells": [
  {
   "cell_type": "markdown",
   "metadata": {
    "pycharm": {
     "name": "#%% md\n"
    }
   },
   "source": [
    "This notebook captures different ways in which to filter data (arrays, dataframes and lists) and compares the execution time of these methods."
   ]
  },
  {
   "cell_type": "markdown",
   "metadata": {},
   "source": [
    "#### Import required libraries"
   ]
  },
  {
   "cell_type": "code",
   "execution_count": 10,
   "metadata": {
    "pycharm": {
     "name": "#%%\n"
    }
   },
   "outputs": [],
   "source": [
    "import numpy as np\n",
    "import pandas as pd\n",
    "import timeit"
   ]
  },
  {
   "cell_type": "markdown",
   "source": [
    "TO DO LIST\n",
    "* Filter continuous variable pandas\n",
    "* Filter strings in pandas\n",
    "* Filter lists\n",
    "* Filter numpy arrays"
   ],
   "metadata": {
    "collapsed": false,
    "pycharm": {
     "name": "#%% md\n"
    }
   }
  },
  {
   "cell_type": "markdown",
   "metadata": {
    "pycharm": {
     "name": "#%% md\n"
    }
   },
   "source": [
    "#### Helper functions\n",
    "##### Data creation"
   ]
  },
  {
   "cell_type": "code",
   "execution_count": 11,
   "metadata": {
    "pycharm": {
     "name": "#%%\n"
    }
   },
   "outputs": [
    {
     "name": "stdout",
     "output_type": "stream",
     "text": [
      "[[0.10825116 0.50528468 0.45775421]]\n",
      "\n",
      "[[0.80769024 0.621332   0.19212521]\n",
      " [0.04525548 0.61689994 0.04908778]\n",
      " [0.03305066 0.20014432 0.11344962]\n",
      " [0.02120582 0.42039958 0.78732384]\n",
      " [0.24121096 0.90254837 0.65840456]\n",
      " [0.34529858 0.35916948 0.07903664]\n",
      " [0.30154708 0.88742273 0.75994022]\n",
      " [0.9047726  0.844301   0.18578411]\n",
      " [0.84955282 0.38876652 0.05343542]\n",
      " [0.68943409 0.22901931 0.56031095]]\n"
     ]
    }
   ],
   "source": [
    "def random_array(rows, columns):\n",
    "    return np.random.rand(int(rows), columns)\n",
    "\n",
    "a1 = random_array(1, 3)\n",
    "a2 = random_array(10, 3)\n",
    "a3 = random_array(100, 3)\n",
    "a4 = random_array(1000, 3)\n",
    "a5 = random_array(10000, 3)\n",
    "\n",
    "# Example output\n",
    "print(a1, a2, sep='\\n\\n')"
   ]
  },
  {
   "cell_type": "code",
   "execution_count": 12,
   "metadata": {
    "pycharm": {
     "name": "#%%\n"
    }
   },
   "outputs": [],
   "source": [
    "# def random_list(np_array):\n",
    "#     return np_array.flatten().tolist()\n",
    "#\n",
    "# # Testing output\n",
    "# l1 = random_list(a1)\n",
    "# l2 = random_list(a2)\n",
    "# l3 = random_list(a3)\n",
    "#\n",
    "# print(l1, l2, l3, sep='\\n\\n')"
   ]
  },
  {
   "cell_type": "code",
   "execution_count": 13,
   "metadata": {
    "pycharm": {
     "name": "#%%\n"
    }
   },
   "outputs": [
    {
     "name": "stdout",
     "output_type": "stream",
     "text": [
      "       Col0      Col1      Col2\n",
      "0  0.108251  0.505285  0.457754\n",
      "\n",
      "       Col0      Col1      Col2\n",
      "0  0.807690  0.621332  0.192125\n",
      "1  0.045255  0.616900  0.049088\n",
      "2  0.033051  0.200144  0.113450\n",
      "3  0.021206  0.420400  0.787324\n",
      "4  0.241211  0.902548  0.658405\n",
      "5  0.345299  0.359169  0.079037\n",
      "6  0.301547  0.887423  0.759940\n",
      "7  0.904773  0.844301  0.185784\n",
      "8  0.849553  0.388767  0.053435\n",
      "9  0.689434  0.229019  0.560311\n"
     ]
    }
   ],
   "source": [
    "def random_dataframe(np_array, add_categorical_variable=False):\n",
    "    df = pd.DataFrame(np_array)\n",
    "    df.columns = 'Col' + df.columns.astype(str)\n",
    "\n",
    "    if add_categorical_variable:\n",
    "        df['cat'] = np.where(df['Col0'] <= 0.2, 'Blue', 'Red')\n",
    "\n",
    "    return df\n",
    "\n",
    "d1 = random_dataframe(a1)\n",
    "d2 = random_dataframe(a2)\n",
    "d3 = random_dataframe(a3)\n",
    "d4 = random_dataframe(a4)\n",
    "d5 = random_dataframe(a5)\n",
    "\n",
    "# Example output\n",
    "print(d1, d2, sep='\\n\\n')"
   ]
  },
  {
   "cell_type": "markdown",
   "source": [],
   "metadata": {
    "collapsed": false,
    "pycharm": {
     "name": "#%% md\n"
    }
   }
  },
  {
   "cell_type": "code",
   "execution_count": 45,
   "outputs": [],
   "source": [
    "class FilterMethods:\n",
    "    def __init__(self, pd_df, threshold=0.2):\n",
    "        self.pd_df = pd_df\n",
    "        self.threshold = threshold\n",
    "\n",
    "    def filter_for_loops(self):\n",
    "        index_to_drop = []\n",
    "        for i in range(self.pd_df.shape[0]):\n",
    "            if self.pd_df.iloc[i]['Col0'] > self.threshold:\n",
    "                index_to_drop.append(i)\n",
    "\n",
    "        return self.pd_df.drop(index_to_drop)\n",
    "\n",
    "    def filter_booleans(self):\n",
    "        return self.pd_df[self.pd_df['Col0'] <= self.threshold]\n",
    "\n",
    "    def filter_query(self):\n",
    "        return self.pd_df.query(f'Col0 <= {self.threshold}')\n",
    "\n"
   ],
   "metadata": {
    "collapsed": false,
    "pycharm": {
     "name": "#%%\n"
    }
   }
  },
  {
   "cell_type": "code",
   "execution_count": 46,
   "outputs": [
    {
     "data": {
      "text/plain": "       Col0      Col1      Col2\n1  0.045255  0.616900  0.049088\n2  0.033051  0.200144  0.113450\n3  0.021206  0.420400  0.787324",
      "text/html": "<div>\n<style scoped>\n    .dataframe tbody tr th:only-of-type {\n        vertical-align: middle;\n    }\n\n    .dataframe tbody tr th {\n        vertical-align: top;\n    }\n\n    .dataframe thead th {\n        text-align: right;\n    }\n</style>\n<table border=\"1\" class=\"dataframe\">\n  <thead>\n    <tr style=\"text-align: right;\">\n      <th></th>\n      <th>Col0</th>\n      <th>Col1</th>\n      <th>Col2</th>\n    </tr>\n  </thead>\n  <tbody>\n    <tr>\n      <th>1</th>\n      <td>0.045255</td>\n      <td>0.616900</td>\n      <td>0.049088</td>\n    </tr>\n    <tr>\n      <th>2</th>\n      <td>0.033051</td>\n      <td>0.200144</td>\n      <td>0.113450</td>\n    </tr>\n    <tr>\n      <th>3</th>\n      <td>0.021206</td>\n      <td>0.420400</td>\n      <td>0.787324</td>\n    </tr>\n  </tbody>\n</table>\n</div>"
     },
     "execution_count": 46,
     "metadata": {},
     "output_type": "execute_result"
    }
   ],
   "source": [
    "# Testing\n",
    "fm = FilterMethods(pd_df=d2, threshold=0.2)\n",
    "fm.filter_for_loops()"
   ],
   "metadata": {
    "collapsed": false,
    "pycharm": {
     "name": "#%%\n"
    }
   }
  },
  {
   "cell_type": "code",
   "execution_count": 47,
   "outputs": [
    {
     "data": {
      "text/plain": "       Col0      Col1      Col2\n1  0.045255  0.616900  0.049088\n2  0.033051  0.200144  0.113450\n3  0.021206  0.420400  0.787324",
      "text/html": "<div>\n<style scoped>\n    .dataframe tbody tr th:only-of-type {\n        vertical-align: middle;\n    }\n\n    .dataframe tbody tr th {\n        vertical-align: top;\n    }\n\n    .dataframe thead th {\n        text-align: right;\n    }\n</style>\n<table border=\"1\" class=\"dataframe\">\n  <thead>\n    <tr style=\"text-align: right;\">\n      <th></th>\n      <th>Col0</th>\n      <th>Col1</th>\n      <th>Col2</th>\n    </tr>\n  </thead>\n  <tbody>\n    <tr>\n      <th>1</th>\n      <td>0.045255</td>\n      <td>0.616900</td>\n      <td>0.049088</td>\n    </tr>\n    <tr>\n      <th>2</th>\n      <td>0.033051</td>\n      <td>0.200144</td>\n      <td>0.113450</td>\n    </tr>\n    <tr>\n      <th>3</th>\n      <td>0.021206</td>\n      <td>0.420400</td>\n      <td>0.787324</td>\n    </tr>\n  </tbody>\n</table>\n</div>"
     },
     "execution_count": 47,
     "metadata": {},
     "output_type": "execute_result"
    }
   ],
   "source": [
    "fm.filter_booleans()"
   ],
   "metadata": {
    "collapsed": false,
    "pycharm": {
     "name": "#%%\n"
    }
   }
  },
  {
   "cell_type": "code",
   "execution_count": 48,
   "outputs": [
    {
     "data": {
      "text/plain": "       Col0      Col1      Col2\n1  0.045255  0.616900  0.049088\n2  0.033051  0.200144  0.113450\n3  0.021206  0.420400  0.787324",
      "text/html": "<div>\n<style scoped>\n    .dataframe tbody tr th:only-of-type {\n        vertical-align: middle;\n    }\n\n    .dataframe tbody tr th {\n        vertical-align: top;\n    }\n\n    .dataframe thead th {\n        text-align: right;\n    }\n</style>\n<table border=\"1\" class=\"dataframe\">\n  <thead>\n    <tr style=\"text-align: right;\">\n      <th></th>\n      <th>Col0</th>\n      <th>Col1</th>\n      <th>Col2</th>\n    </tr>\n  </thead>\n  <tbody>\n    <tr>\n      <th>1</th>\n      <td>0.045255</td>\n      <td>0.616900</td>\n      <td>0.049088</td>\n    </tr>\n    <tr>\n      <th>2</th>\n      <td>0.033051</td>\n      <td>0.200144</td>\n      <td>0.113450</td>\n    </tr>\n    <tr>\n      <th>3</th>\n      <td>0.021206</td>\n      <td>0.420400</td>\n      <td>0.787324</td>\n    </tr>\n  </tbody>\n</table>\n</div>"
     },
     "execution_count": 48,
     "metadata": {},
     "output_type": "execute_result"
    }
   ],
   "source": [
    "fm.filter_query()"
   ],
   "metadata": {
    "collapsed": false,
    "pycharm": {
     "name": "#%%\n"
    }
   }
  },
  {
   "cell_type": "code",
   "execution_count": 17,
   "outputs": [],
   "source": [
    "# filter_for_loops_time = timeit.timeit(lambda: filter_for_loops(d2), number=100)\n",
    "# filter_for_loops_time"
   ],
   "metadata": {
    "collapsed": false,
    "pycharm": {
     "name": "#%%\n"
    }
   }
  },
  {
   "cell_type": "markdown",
   "source": [
    "# Execution time summary"
   ],
   "metadata": {
    "collapsed": false,
    "pycharm": {
     "name": "#%% md\n"
    }
   }
  },
  {
   "cell_type": "code",
   "execution_count": 51,
   "outputs": [],
   "source": [
    "results_dict = {'rows': [], 'for_loops': [], 'booleans': [], 'query': []}\n",
    "\n",
    "n = 10\n",
    "\n",
    "for dataframe in [d1, d2, d3, d4, d5]:\n",
    "    results_dict['rows'].append(dataframe.shape[0])\n",
    "\n",
    "    fm = FilterMethods(pd_df=dataframe, threshold=0.2)\n",
    "    results_dict['for_loops'].append(timeit.timeit(lambda: fm.filter_for_loops(), number=n))\n",
    "    results_dict['booleans'].append(timeit.timeit(lambda: fm.filter_booleans(), number=n))\n",
    "    results_dict['query'].append(timeit.timeit(lambda: fm.filter_query(), number=n))\n",
    "\n",
    "results_df = pd.DataFrame(results_dict)\n",
    "results_df['min_time_of_all_methods'] = results_df.min(axis=1)\n",
    "results_df['for_loop_improvement_over_min'] = 1-(results_df['for_loops']/results_df['min_time_of_all_methods'])\n",
    "results_df['booleans_improvement_over_min'] = 1-(results_df['booleans']/results_df['min_time_of_all_methods'])\n",
    "results_df['query_improvement_over_min'] = 1-(results_df['query']/results_df['min_time_of_all_methods'])"
   ],
   "metadata": {
    "collapsed": false,
    "pycharm": {
     "name": "#%%\n"
    }
   }
  },
  {
   "cell_type": "code",
   "execution_count": 52,
   "outputs": [
    {
     "data": {
      "text/plain": "    rows  for_loops  booleans     query  min_time_of_all_methods  \\\n0      1   0.006506  0.004149  0.013841                 0.004149   \n1     10   0.012817  0.002640  0.010056                 0.002640   \n2    100   0.068911  0.002351  0.008841                 0.002351   \n3   1000   0.682075  0.002712  0.009003                 0.002712   \n4  10000   5.460063  0.002551  0.007823                 0.002551   \n\n   for_loop_improvement_over_min  booleans_improvement_over_min  \\\n0                      -0.568106                            0.0   \n1                      -3.854755                            0.0   \n2                     -28.305672                            0.0   \n3                    -250.535376                            0.0   \n4                   -2139.093543                            0.0   \n\n   query_improvement_over_min  \n0                   -2.335966  \n1                   -2.808979  \n2                   -2.759692  \n3                   -2.320013  \n4                   -2.066232  ",
      "text/html": "<div>\n<style scoped>\n    .dataframe tbody tr th:only-of-type {\n        vertical-align: middle;\n    }\n\n    .dataframe tbody tr th {\n        vertical-align: top;\n    }\n\n    .dataframe thead th {\n        text-align: right;\n    }\n</style>\n<table border=\"1\" class=\"dataframe\">\n  <thead>\n    <tr style=\"text-align: right;\">\n      <th></th>\n      <th>rows</th>\n      <th>for_loops</th>\n      <th>booleans</th>\n      <th>query</th>\n      <th>min_time_of_all_methods</th>\n      <th>for_loop_improvement_over_min</th>\n      <th>booleans_improvement_over_min</th>\n      <th>query_improvement_over_min</th>\n    </tr>\n  </thead>\n  <tbody>\n    <tr>\n      <th>0</th>\n      <td>1</td>\n      <td>0.006506</td>\n      <td>0.004149</td>\n      <td>0.013841</td>\n      <td>0.004149</td>\n      <td>-0.568106</td>\n      <td>0.0</td>\n      <td>-2.335966</td>\n    </tr>\n    <tr>\n      <th>1</th>\n      <td>10</td>\n      <td>0.012817</td>\n      <td>0.002640</td>\n      <td>0.010056</td>\n      <td>0.002640</td>\n      <td>-3.854755</td>\n      <td>0.0</td>\n      <td>-2.808979</td>\n    </tr>\n    <tr>\n      <th>2</th>\n      <td>100</td>\n      <td>0.068911</td>\n      <td>0.002351</td>\n      <td>0.008841</td>\n      <td>0.002351</td>\n      <td>-28.305672</td>\n      <td>0.0</td>\n      <td>-2.759692</td>\n    </tr>\n    <tr>\n      <th>3</th>\n      <td>1000</td>\n      <td>0.682075</td>\n      <td>0.002712</td>\n      <td>0.009003</td>\n      <td>0.002712</td>\n      <td>-250.535376</td>\n      <td>0.0</td>\n      <td>-2.320013</td>\n    </tr>\n    <tr>\n      <th>4</th>\n      <td>10000</td>\n      <td>5.460063</td>\n      <td>0.002551</td>\n      <td>0.007823</td>\n      <td>0.002551</td>\n      <td>-2139.093543</td>\n      <td>0.0</td>\n      <td>-2.066232</td>\n    </tr>\n  </tbody>\n</table>\n</div>"
     },
     "execution_count": 52,
     "metadata": {},
     "output_type": "execute_result"
    }
   ],
   "source": [
    "results_df"
   ],
   "metadata": {
    "collapsed": false,
    "pycharm": {
     "name": "#%%\n"
    }
   }
  },
  {
   "cell_type": "code",
   "execution_count": 18,
   "outputs": [],
   "source": [],
   "metadata": {
    "collapsed": false,
    "pycharm": {
     "name": "#%%\n"
    }
   }
  },
  {
   "cell_type": "code",
   "execution_count": 18,
   "outputs": [],
   "source": [],
   "metadata": {
    "collapsed": false,
    "pycharm": {
     "name": "#%%\n"
    }
   }
  },
  {
   "cell_type": "code",
   "execution_count": 18,
   "outputs": [],
   "source": [],
   "metadata": {
    "collapsed": false,
    "pycharm": {
     "name": "#%%\n"
    }
   }
  }
 ],
 "metadata": {
  "kernelspec": {
   "display_name": "Python 3",
   "language": "python",
   "name": "python3"
  },
  "language_info": {
   "codemirror_mode": {
    "name": "ipython",
    "version": 3
   },
   "file_extension": ".py",
   "mimetype": "text/x-python",
   "name": "python",
   "nbconvert_exporter": "python",
   "pygments_lexer": "ipython3",
   "version": "3.8.8"
  },
  "toc": {
   "base_numbering": 1,
   "nav_menu": {},
   "number_sections": true,
   "sideBar": true,
   "skip_h1_title": false,
   "title_cell": "Table of Contents",
   "title_sidebar": "Contents",
   "toc_cell": false,
   "toc_position": {},
   "toc_section_display": true,
   "toc_window_display": false
  },
  "varInspector": {
   "cols": {
    "lenName": 16,
    "lenType": 16,
    "lenVar": 40
   },
   "kernels_config": {
    "python": {
     "delete_cmd_postfix": "",
     "delete_cmd_prefix": "del ",
     "library": "var_list.py",
     "varRefreshCmd": "print(var_dic_list())"
    },
    "r": {
     "delete_cmd_postfix": ") ",
     "delete_cmd_prefix": "rm(",
     "library": "var_list.r",
     "varRefreshCmd": "cat(var_dic_list()) "
    }
   },
   "types_to_exclude": [
    "module",
    "function",
    "builtin_function_or_method",
    "instance",
    "_Feature"
   ],
   "window_display": false
  }
 },
 "nbformat": 4,
 "nbformat_minor": 1
}