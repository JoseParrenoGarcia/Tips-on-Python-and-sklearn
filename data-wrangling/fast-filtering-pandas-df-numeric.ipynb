{
 "cells": [
  {
   "cell_type": "markdown",
   "metadata": {
    "pycharm": {
     "name": "#%% md\n"
    }
   },
   "source": [
    "**This notebook captures different ways in which to filter data dataframes with numeric data and compares the execution time of these methods.**"
   ]
  },
  {
   "cell_type": "markdown",
   "metadata": {},
   "source": [
    "# Import required libraries"
   ]
  },
  {
   "cell_type": "code",
   "execution_count": 1,
   "metadata": {
    "pycharm": {
     "name": "#%%\n"
    }
   },
   "outputs": [],
   "source": [
    "import numpy as np\n",
    "import pandas as pd\n",
    "import timeit"
   ]
  },
  {
   "cell_type": "markdown",
   "metadata": {
    "pycharm": {
     "name": "#%% md\n"
    }
   },
   "source": [
    "# Helper functions\n"
   ]
  },
  {
   "cell_type": "markdown",
   "metadata": {
    "pycharm": {
     "name": "#%% md\n"
    }
   },
   "source": [
    "## Plotting/presenting"
   ]
  },
  {
   "cell_type": "code",
   "execution_count": 19,
   "metadata": {
    "pycharm": {
     "name": "#%%\n"
    }
   },
   "outputs": [],
   "source": [
    "def style_negative(v, props=''):\n",
    "    return props if v < 0 else None\n",
    "\n",
    "def highlight_min(s, props=''):\n",
    "    return np.where(s == np.nanmin(s.values), props, '')\n",
    "\n",
    "def highlight_max(s, props=''):\n",
    "    return np.where(s == np.nanmax(s.values), props, '')"
   ]
  },
  {
   "cell_type": "markdown",
   "metadata": {
    "pycharm": {
     "name": "#%% md\n"
    }
   },
   "source": [
    "## Data creation"
   ]
  },
  {
   "cell_type": "code",
   "execution_count": 3,
   "metadata": {
    "pycharm": {
     "name": "#%%\n"
    }
   },
   "outputs": [
    {
     "name": "stdout",
     "output_type": "stream",
     "text": [
      "[[0.44269621 0.48588314 0.43797785]]\n",
      "\n",
      "[[0.3397854  0.33246919 0.09022564]\n",
      " [0.46119931 0.60575487 0.40024575]\n",
      " [0.53936067 0.99958495 0.77276803]\n",
      " [0.71741707 0.90390641 0.31956542]\n",
      " [0.58070596 0.02177606 0.15787757]\n",
      " [0.71603873 0.75159181 0.22766796]\n",
      " [0.768755   0.87832289 0.17592466]\n",
      " [0.05665252 0.4957822  0.32560798]\n",
      " [0.71831049 0.6586061  0.93823641]\n",
      " [0.88893692 0.75479253 0.70612879]]\n"
     ]
    }
   ],
   "source": [
    "def random_array(rows, columns):\n",
    "    return np.random.rand(int(rows), columns)\n",
    "\n",
    "a1 = random_array(1, 3)\n",
    "a2 = random_array(10, 3)\n",
    "a3 = random_array(100, 3)\n",
    "a4 = random_array(1000, 3)\n",
    "a5 = random_array(10000, 3)\n",
    "\n",
    "# Example output\n",
    "print(a1, a2, sep='\\n\\n')"
   ]
  },
  {
   "cell_type": "code",
   "execution_count": 5,
   "metadata": {
    "pycharm": {
     "name": "#%%\n"
    }
   },
   "outputs": [
    {
     "name": "stdout",
     "output_type": "stream",
     "text": [
      "       Col0      Col1      Col2\n",
      "0  0.442696  0.485883  0.437978\n",
      "\n",
      "       Col0      Col1      Col2\n",
      "0  0.339785  0.332469  0.090226\n",
      "1  0.461199  0.605755  0.400246\n",
      "2  0.539361  0.999585  0.772768\n",
      "3  0.717417  0.903906  0.319565\n",
      "4  0.580706  0.021776  0.157878\n",
      "5  0.716039  0.751592  0.227668\n",
      "6  0.768755  0.878323  0.175925\n",
      "7  0.056653  0.495782  0.325608\n",
      "8  0.718310  0.658606  0.938236\n",
      "9  0.888937  0.754793  0.706129\n"
     ]
    }
   ],
   "source": [
    "def random_dataframe(np_array):\n",
    "    df = pd.DataFrame(np_array)\n",
    "    df.columns = 'Col' + df.columns.astype(str)\n",
    "    return df\n",
    "\n",
    "d1 = random_dataframe(a1)\n",
    "d2 = random_dataframe(a2)\n",
    "d3 = random_dataframe(a3)\n",
    "d4 = random_dataframe(a4)\n",
    "d5 = random_dataframe(a5)\n",
    "\n",
    "# Example output\n",
    "print(d1, d2, sep='\\n\\n')"
   ]
  },
  {
   "cell_type": "markdown",
   "metadata": {},
   "source": [
    "## Filter methods"
   ]
  },
  {
   "cell_type": "code",
   "execution_count": 6,
   "metadata": {
    "pycharm": {
     "name": "#%%\n"
    }
   },
   "outputs": [],
   "source": [
    "class FilterMethods:\n",
    "    def __init__(self, pd_df, threshold=0.2):\n",
    "        self.pd_df = pd_df\n",
    "        self.threshold = threshold\n",
    "\n",
    "    def filter_for_loops(self):\n",
    "        index_to_drop = []\n",
    "        for i in range(self.pd_df.shape[0]):\n",
    "            if self.pd_df.iloc[i]['Col0'] > self.threshold:\n",
    "                index_to_drop.append(i)\n",
    "\n",
    "        return self.pd_df.drop(index_to_drop)\n",
    "\n",
    "    def filter_booleans(self):\n",
    "        return self.pd_df[self.pd_df['Col0'] <= self.threshold]\n",
    "\n",
    "    def filter_query(self):\n",
    "        return self.pd_df.query(f'Col0 <= {self.threshold}')"
   ]
  },
  {
   "cell_type": "code",
   "execution_count": 7,
   "metadata": {
    "pycharm": {
     "name": "#%%\n"
    }
   },
   "outputs": [
    {
     "data": {
      "text/html": [
       "<div>\n",
       "<style scoped>\n",
       "    .dataframe tbody tr th:only-of-type {\n",
       "        vertical-align: middle;\n",
       "    }\n",
       "\n",
       "    .dataframe tbody tr th {\n",
       "        vertical-align: top;\n",
       "    }\n",
       "\n",
       "    .dataframe thead th {\n",
       "        text-align: right;\n",
       "    }\n",
       "</style>\n",
       "<table border=\"1\" class=\"dataframe\">\n",
       "  <thead>\n",
       "    <tr style=\"text-align: right;\">\n",
       "      <th></th>\n",
       "      <th>Col0</th>\n",
       "      <th>Col1</th>\n",
       "      <th>Col2</th>\n",
       "    </tr>\n",
       "  </thead>\n",
       "  <tbody>\n",
       "    <tr>\n",
       "      <th>7</th>\n",
       "      <td>0.056653</td>\n",
       "      <td>0.495782</td>\n",
       "      <td>0.325608</td>\n",
       "    </tr>\n",
       "  </tbody>\n",
       "</table>\n",
       "</div>"
      ],
      "text/plain": [
       "       Col0      Col1      Col2\n",
       "7  0.056653  0.495782  0.325608"
      ]
     },
     "execution_count": 7,
     "metadata": {},
     "output_type": "execute_result"
    }
   ],
   "source": [
    "# Testing\n",
    "fm = FilterMethods(pd_df=d2, threshold=0.2)\n",
    "fm.filter_for_loops()"
   ]
  },
  {
   "cell_type": "code",
   "execution_count": 8,
   "metadata": {
    "pycharm": {
     "name": "#%%\n"
    }
   },
   "outputs": [
    {
     "data": {
      "text/html": [
       "<div>\n",
       "<style scoped>\n",
       "    .dataframe tbody tr th:only-of-type {\n",
       "        vertical-align: middle;\n",
       "    }\n",
       "\n",
       "    .dataframe tbody tr th {\n",
       "        vertical-align: top;\n",
       "    }\n",
       "\n",
       "    .dataframe thead th {\n",
       "        text-align: right;\n",
       "    }\n",
       "</style>\n",
       "<table border=\"1\" class=\"dataframe\">\n",
       "  <thead>\n",
       "    <tr style=\"text-align: right;\">\n",
       "      <th></th>\n",
       "      <th>Col0</th>\n",
       "      <th>Col1</th>\n",
       "      <th>Col2</th>\n",
       "    </tr>\n",
       "  </thead>\n",
       "  <tbody>\n",
       "    <tr>\n",
       "      <th>7</th>\n",
       "      <td>0.056653</td>\n",
       "      <td>0.495782</td>\n",
       "      <td>0.325608</td>\n",
       "    </tr>\n",
       "  </tbody>\n",
       "</table>\n",
       "</div>"
      ],
      "text/plain": [
       "       Col0      Col1      Col2\n",
       "7  0.056653  0.495782  0.325608"
      ]
     },
     "execution_count": 8,
     "metadata": {},
     "output_type": "execute_result"
    }
   ],
   "source": [
    "fm.filter_booleans()"
   ]
  },
  {
   "cell_type": "code",
   "execution_count": 9,
   "metadata": {
    "pycharm": {
     "name": "#%%\n"
    }
   },
   "outputs": [
    {
     "data": {
      "text/html": [
       "<div>\n",
       "<style scoped>\n",
       "    .dataframe tbody tr th:only-of-type {\n",
       "        vertical-align: middle;\n",
       "    }\n",
       "\n",
       "    .dataframe tbody tr th {\n",
       "        vertical-align: top;\n",
       "    }\n",
       "\n",
       "    .dataframe thead th {\n",
       "        text-align: right;\n",
       "    }\n",
       "</style>\n",
       "<table border=\"1\" class=\"dataframe\">\n",
       "  <thead>\n",
       "    <tr style=\"text-align: right;\">\n",
       "      <th></th>\n",
       "      <th>Col0</th>\n",
       "      <th>Col1</th>\n",
       "      <th>Col2</th>\n",
       "    </tr>\n",
       "  </thead>\n",
       "  <tbody>\n",
       "    <tr>\n",
       "      <th>7</th>\n",
       "      <td>0.056653</td>\n",
       "      <td>0.495782</td>\n",
       "      <td>0.325608</td>\n",
       "    </tr>\n",
       "  </tbody>\n",
       "</table>\n",
       "</div>"
      ],
      "text/plain": [
       "       Col0      Col1      Col2\n",
       "7  0.056653  0.495782  0.325608"
      ]
     },
     "execution_count": 9,
     "metadata": {},
     "output_type": "execute_result"
    }
   ],
   "source": [
    "fm.filter_query()"
   ]
  },
  {
   "cell_type": "markdown",
   "metadata": {
    "pycharm": {
     "name": "#%% md\n"
    }
   },
   "source": [
    "# Execution time summary"
   ]
  },
  {
   "cell_type": "code",
   "execution_count": 11,
   "metadata": {
    "pycharm": {
     "name": "#%%\n"
    }
   },
   "outputs": [],
   "source": [
    "results_dict = {'rows': [], 'for_loops': [], 'booleans': [], 'query': []}\n",
    "\n",
    "n = 10\n",
    "\n",
    "for dataframe in [d1, d2, d3, d4, d5]:\n",
    "    results_dict['rows'].append(dataframe.shape[0])\n",
    "\n",
    "    fm = FilterMethods(pd_df=dataframe, threshold=0.2)\n",
    "    results_dict['for_loops'].append(timeit.timeit(lambda: fm.filter_for_loops(), number=n))\n",
    "    results_dict['booleans'].append(timeit.timeit(lambda: fm.filter_booleans(), number=n))\n",
    "    results_dict['query'].append(timeit.timeit(lambda: fm.filter_query(), number=n))\n",
    "\n",
    "results_df = pd.DataFrame(results_dict)\n",
    "results_df.index = results_df['rows']\n",
    "results_df = results_df.drop('rows', axis=1)\n",
    "\n",
    "results_df['min_time_of_all_methods'] = results_df.min(axis=1)\n",
    "results_df['for_loop_deterioration'] = (results_df['for_loops']/results_df['min_time_of_all_methods'])-1\n",
    "results_df['booleans_deterioration'] = (results_df['booleans']/results_df['min_time_of_all_methods'])-1\n",
    "results_df['query_deterioration'] = (results_df['query']/results_df['min_time_of_all_methods'])-1"
   ]
  },
  {
   "cell_type": "code",
   "execution_count": 20,
   "metadata": {
    "pycharm": {
     "name": "#%%\n"
    }
   },
   "outputs": [
    {
     "data": {
      "text/html": [
       "<style  type=\"text/css\" >\n",
       "#T_f6249_row0_col2,#T_f6249_row0_col3,#T_f6249_row0_col4,#T_f6249_row2_col0,#T_f6249_row2_col1{\n",
       "            color: white;\n",
       "            background-color: red;\n",
       "        }#T_f6249_row1_col0,#T_f6249_row1_col1,#T_f6249_row1_col2,#T_f6249_row1_col3,#T_f6249_row1_col4{\n",
       "            color: white;\n",
       "            background-color: darkblue;\n",
       "        }</style><table id=\"T_f6249_\" ><thead>    <tr>        <th class=\"index_name level0\" >rows</th>        <th class=\"col_heading level0 col0\" >1</th>        <th class=\"col_heading level0 col1\" >10</th>        <th class=\"col_heading level0 col2\" >100</th>        <th class=\"col_heading level0 col3\" >1000</th>        <th class=\"col_heading level0 col4\" >10000</th>    </tr></thead><tbody>\n",
       "                <tr>\n",
       "                        <th id=\"T_f6249_level0_row0\" class=\"row_heading level0 row0\" >for_loop_deterioration</th>\n",
       "                        <td id=\"T_f6249_row0_col0\" class=\"data row0 col0\" >0.055619</td>\n",
       "                        <td id=\"T_f6249_row0_col1\" class=\"data row0 col1\" >1.119378</td>\n",
       "                        <td id=\"T_f6249_row0_col2\" class=\"data row0 col2\" >27.349150</td>\n",
       "                        <td id=\"T_f6249_row0_col3\" class=\"data row0 col3\" >224.614964</td>\n",
       "                        <td id=\"T_f6249_row0_col4\" class=\"data row0 col4\" >1855.693705</td>\n",
       "            </tr>\n",
       "            <tr>\n",
       "                        <th id=\"T_f6249_level0_row1\" class=\"row_heading level0 row1\" >booleans_deterioration</th>\n",
       "                        <td id=\"T_f6249_row1_col0\" class=\"data row1 col0\" >0.000000</td>\n",
       "                        <td id=\"T_f6249_row1_col1\" class=\"data row1 col1\" >0.000000</td>\n",
       "                        <td id=\"T_f6249_row1_col2\" class=\"data row1 col2\" >0.000000</td>\n",
       "                        <td id=\"T_f6249_row1_col3\" class=\"data row1 col3\" >0.000000</td>\n",
       "                        <td id=\"T_f6249_row1_col4\" class=\"data row1 col4\" >0.000000</td>\n",
       "            </tr>\n",
       "            <tr>\n",
       "                        <th id=\"T_f6249_level0_row2\" class=\"row_heading level0 row2\" >query_deterioration</th>\n",
       "                        <td id=\"T_f6249_row2_col0\" class=\"data row2 col0\" >3.268267</td>\n",
       "                        <td id=\"T_f6249_row2_col1\" class=\"data row2 col1\" >2.015899</td>\n",
       "                        <td id=\"T_f6249_row2_col2\" class=\"data row2 col2\" >3.846454</td>\n",
       "                        <td id=\"T_f6249_row2_col3\" class=\"data row2 col3\" >3.254351</td>\n",
       "                        <td id=\"T_f6249_row2_col4\" class=\"data row2 col4\" >3.029263</td>\n",
       "            </tr>\n",
       "    </tbody></table>"
      ],
      "text/plain": [
       "<pandas.io.formats.style.Styler at 0x7f83708d2610>"
      ]
     },
     "execution_count": 20,
     "metadata": {},
     "output_type": "execute_result"
    }
   ],
   "source": [
    "# Execution time proportion between of method/fastest.\n",
    "present_df = results_df[['for_loop_deterioration', 'booleans_deterioration','query_deterioration']].transpose()\n",
    "present_df = (present_df.style\n",
    "              .apply(highlight_min, props='color:white;background-color:darkblue', axis=0)\n",
    "              .apply(highlight_max, props='color:white;background-color:red', axis=0)\n",
    "             )\n",
    "present_df"
   ]
  }
 ],
 "metadata": {
  "kernelspec": {
   "display_name": "Python 3",
   "language": "python",
   "name": "python3"
  },
  "language_info": {
   "codemirror_mode": {
    "name": "ipython",
    "version": 3
   },
   "file_extension": ".py",
   "mimetype": "text/x-python",
   "name": "python",
   "nbconvert_exporter": "python",
   "pygments_lexer": "ipython3",
   "version": "3.8.8"
  },
  "toc": {
   "base_numbering": 1,
   "nav_menu": {},
   "number_sections": true,
   "sideBar": true,
   "skip_h1_title": false,
   "title_cell": "Table of Contents",
   "title_sidebar": "Contents",
   "toc_cell": false,
   "toc_position": {},
   "toc_section_display": true,
   "toc_window_display": false
  },
  "varInspector": {
   "cols": {
    "lenName": 16,
    "lenType": 16,
    "lenVar": 40
   },
   "kernels_config": {
    "python": {
     "delete_cmd_postfix": "",
     "delete_cmd_prefix": "del ",
     "library": "var_list.py",
     "varRefreshCmd": "print(var_dic_list())"
    },
    "r": {
     "delete_cmd_postfix": ") ",
     "delete_cmd_prefix": "rm(",
     "library": "var_list.r",
     "varRefreshCmd": "cat(var_dic_list()) "
    }
   },
   "types_to_exclude": [
    "module",
    "function",
    "builtin_function_or_method",
    "instance",
    "_Feature"
   ],
   "window_display": false
  }
 },
 "nbformat": 4,
 "nbformat_minor": 1
}