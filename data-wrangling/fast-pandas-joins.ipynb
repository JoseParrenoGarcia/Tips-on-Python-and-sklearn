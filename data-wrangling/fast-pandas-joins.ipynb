{
 "cells": [
  {
   "cell_type": "code",
   "execution_count": 1,
   "metadata": {
    "pycharm": {
     "name": "#%%\n"
    }
   },
   "outputs": [],
   "source": [
    "import numpy as np\n",
    "import pandas as pd\n",
    "import timeit"
   ]
  },
  {
   "cell_type": "markdown",
   "source": [
    "**This notebook captures different ways in which to join 2 pandas dataframes and compares the execution time of these methods.**\n",
    "\n",
    "We will:\n",
    "1. Generate a set of dataframes with different number of rows (1, 10, 100, 1_000, 10_000, 100_000). One dataframe will have duplicated strings or numbers, and the other will contain unique values.\n",
    "2. Create different join methods\n",
    "3. Calculate the execution time for each and determine how much worse are the rest compared to the fastest (1-method time/fastest time)"
   ],
   "metadata": {
    "collapsed": false
   }
  },
  {
   "cell_type": "markdown",
   "metadata": {
    "pycharm": {
     "name": "#%% md\n"
    }
   },
   "source": [
    "**Helper functions**\n",
    "*Plotting/presenting*"
   ]
  },
  {
   "cell_type": "code",
   "execution_count": 2,
   "metadata": {
    "pycharm": {
     "name": "#%%\n"
    }
   },
   "outputs": [],
   "source": [
    "def style_negative(v, props=''):\n",
    "    return props if v < 0 else None\n",
    "\n",
    "def highlight_min(s, props=''):\n",
    "    return np.where(s == np.nanmin(s.values), props, '')\n",
    "\n",
    "def highlight_max(s, props=''):\n",
    "    return np.where(s == np.nanmax(s.values), props, '')"
   ]
  },
  {
   "cell_type": "markdown",
   "metadata": {
    "pycharm": {
     "name": "#%% md\n"
    }
   },
   "source": [
    "*Data creation*"
   ]
  },
  {
   "cell_type": "code",
   "execution_count": 6,
   "metadata": {
    "pycharm": {
     "name": "#%%\n"
    }
   },
   "outputs": [
    {
     "name": "stdout",
     "output_type": "stream",
     "text": [
      "   r_numeric  u_numeric r_string u_string\n",
      "0          0          0      id0      id0\n",
      "1          0          1      id0      id1\n",
      "2          0          2      id0      id2\n",
      "3          0          3      id0      id3\n",
      "4          0          4      id0      id4\n",
      "5          0          5      id0      id5\n",
      "6          0          6      id0      id6\n",
      "7          0          7      id0      id7\n",
      "8          0          8      id0      id8\n",
      "9          0          9      id0      id9\n",
      "\n",
      "    r_numeric  u_numeric r_string u_string\n",
      "0           3          0      id3      id0\n",
      "1           6          1      id6      id1\n",
      "2           5          2      id5      id2\n",
      "3           7          3      id7      id3\n",
      "4           1          4      id1      id4\n",
      "..        ...        ...      ...      ...\n",
      "95          5         95      id5     id95\n",
      "96          2         96      id2     id96\n",
      "97          1         97      id1     id97\n",
      "98          5         98      id5     id98\n",
      "99          3         99      id3     id99\n",
      "\n",
      "[100 rows x 4 columns]\n"
     ]
    }
   ],
   "source": [
    "def random_dataframe(rows):\n",
    "    repeated_key_numeric = np.random.randint(low=0, high=rows/10, size=rows)\n",
    "    unique_key_numeric = np.arange(start=0, stop=rows, step=1, dtype=int)\n",
    "\n",
    "    repeated_key_string = ['id' + str(i) for i in repeated_key_numeric]\n",
    "    unique_key_string = ['id' + str(i) for i in unique_key_numeric]\n",
    "    df = pd.DataFrame({'r_numeric': repeated_key_numeric,\n",
    "                       'u_numeric': unique_key_numeric,\n",
    "                       'r_string': repeated_key_string,\n",
    "                       'u_string': unique_key_string})\n",
    "\n",
    "    return df\n",
    "\n",
    "d1 = random_dataframe(rows=10)\n",
    "d2 = random_dataframe(rows=100)\n",
    "d3 = random_dataframe(rows=1_000)\n",
    "d4 = random_dataframe(rows=10_000)\n",
    "d5 = random_dataframe(rows=100_000)\n",
    "d6 = random_dataframe(rows=1_000_000)\n",
    "d7 = random_dataframe(rows=10_000_000)\n",
    "\n",
    "# Example output\n",
    "print(d1, d2, sep='\\n\\n')"
   ]
  },
  {
   "cell_type": "markdown",
   "metadata": {},
   "source": [
    "## Filter methods"
   ]
  },
  {
   "cell_type": "code",
   "execution_count": 50,
   "metadata": {
    "pycharm": {
     "name": "#%%\n"
    }
   },
   "outputs": [],
   "source": [
    "class JoinMethods:\n",
    "    def __init__(self, pd_df):\n",
    "        self.pd_df = pd_df\n",
    "        self.left_df = self.pd_df[['u_numeric', 'u_string']]\n",
    "        self.right_df = self.pd_df[['r_numeric', 'r_string']].drop_duplicates()\n",
    "\n",
    "    def join_merge_numeric(self):\n",
    "        join_df = pd.merge(self.left_df, self.right_df, how='left', left_on=['u_numeric'], right_on=['r_numeric'])\n",
    "        return join_df\n",
    "\n",
    "    def join_merge_string(self):\n",
    "        join_df = pd.merge(self.left_df, self.right_df, how='left', left_on=['u_string'], right_on=['r_string'])\n",
    "        return join_df\n",
    "\n",
    "    def join_indexing_numeric(self):\n",
    "        return self.left_df.set_index('u_numeric').join(self.right_df.set_index('r_numeric'), how='left')\n",
    "\n",
    "    def join_indexing_string(self):\n",
    "        return self.left_df.set_index('u_string').join(self.right_df.set_index('r_string'), how='left')\n",
    "\n",
    "    def join_set_index_numeric(self):\n",
    "        self.left_df.set_index('u_numeric')\n",
    "        self.right_df.set_index('r_numeric')\n",
    "        return self.left_df.join(self.right_df, how='left')\n",
    "\n",
    "    def join_set_index_string(self):\n",
    "        self.left_df.set_index('u_string')\n",
    "        self.right_df.set_index('r_string')\n",
    "        return self.left_df.join(self.right_df, how='left')\n",
    "\n",
    "    def join_set_index_sorted_numeric(self):\n",
    "        self.left_df.set_index('u_numeric')\n",
    "        self.left_df.sort_index()\n",
    "        self.right_df.set_index('r_numeric')\n",
    "        self.right_df.sort_index()\n",
    "        return self.left_df.join(self.right_df, how='left')\n",
    "\n",
    "    def join_set_index_sorted_string(self):\n",
    "        self.left_df.set_index('u_string')\n",
    "        self.left_df.sort_index()\n",
    "        self.right_df.set_index('r_string')\n",
    "        self.right_df.sort_index()\n",
    "        return self.left_df.join(self.right_df, how='left')\n",
    "\n",
    "fm = JoinMethods(pd_df=d2)"
   ]
  },
  {
   "cell_type": "code",
   "execution_count": 51,
   "metadata": {
    "pycharm": {
     "name": "#%%\n"
    }
   },
   "outputs": [
    {
     "data": {
      "text/plain": "    u_numeric u_string  r_numeric r_string\n0           0      id0        0.0      id0\n1           1      id1        1.0      id1\n2           2      id2        2.0      id2\n3           3      id3        3.0      id3\n4           4      id4        4.0      id4\n..        ...      ...        ...      ...\n95         95     id95        NaN      NaN\n96         96     id96        NaN      NaN\n97         97     id97        NaN      NaN\n98         98     id98        NaN      NaN\n99         99     id99        NaN      NaN\n\n[100 rows x 4 columns]",
      "text/html": "<div>\n<style scoped>\n    .dataframe tbody tr th:only-of-type {\n        vertical-align: middle;\n    }\n\n    .dataframe tbody tr th {\n        vertical-align: top;\n    }\n\n    .dataframe thead th {\n        text-align: right;\n    }\n</style>\n<table border=\"1\" class=\"dataframe\">\n  <thead>\n    <tr style=\"text-align: right;\">\n      <th></th>\n      <th>u_numeric</th>\n      <th>u_string</th>\n      <th>r_numeric</th>\n      <th>r_string</th>\n    </tr>\n  </thead>\n  <tbody>\n    <tr>\n      <th>0</th>\n      <td>0</td>\n      <td>id0</td>\n      <td>0.0</td>\n      <td>id0</td>\n    </tr>\n    <tr>\n      <th>1</th>\n      <td>1</td>\n      <td>id1</td>\n      <td>1.0</td>\n      <td>id1</td>\n    </tr>\n    <tr>\n      <th>2</th>\n      <td>2</td>\n      <td>id2</td>\n      <td>2.0</td>\n      <td>id2</td>\n    </tr>\n    <tr>\n      <th>3</th>\n      <td>3</td>\n      <td>id3</td>\n      <td>3.0</td>\n      <td>id3</td>\n    </tr>\n    <tr>\n      <th>4</th>\n      <td>4</td>\n      <td>id4</td>\n      <td>4.0</td>\n      <td>id4</td>\n    </tr>\n    <tr>\n      <th>...</th>\n      <td>...</td>\n      <td>...</td>\n      <td>...</td>\n      <td>...</td>\n    </tr>\n    <tr>\n      <th>95</th>\n      <td>95</td>\n      <td>id95</td>\n      <td>NaN</td>\n      <td>NaN</td>\n    </tr>\n    <tr>\n      <th>96</th>\n      <td>96</td>\n      <td>id96</td>\n      <td>NaN</td>\n      <td>NaN</td>\n    </tr>\n    <tr>\n      <th>97</th>\n      <td>97</td>\n      <td>id97</td>\n      <td>NaN</td>\n      <td>NaN</td>\n    </tr>\n    <tr>\n      <th>98</th>\n      <td>98</td>\n      <td>id98</td>\n      <td>NaN</td>\n      <td>NaN</td>\n    </tr>\n    <tr>\n      <th>99</th>\n      <td>99</td>\n      <td>id99</td>\n      <td>NaN</td>\n      <td>NaN</td>\n    </tr>\n  </tbody>\n</table>\n<p>100 rows × 4 columns</p>\n</div>"
     },
     "execution_count": 51,
     "metadata": {},
     "output_type": "execute_result"
    }
   ],
   "source": [
    "fm.join_merge_numeric()\n",
    "# fm.join_merge_string()\n",
    "# fm.join_indexing_numeric()\n",
    "# fm.join_indexing_string()\n",
    "# fm.join_set_index_numeric()\n",
    "# fm.join_set_index_string()\n",
    "# fm.join_set_index_sorted_numeric()\n",
    "# fm.join_set_index_sorted_string()"
   ]
  },
  {
   "cell_type": "code",
   "execution_count": 49,
   "outputs": [],
   "source": [
    "# fm.ifelse_lambda()"
   ],
   "metadata": {
    "collapsed": false,
    "pycharm": {
     "name": "#%%\n"
    }
   }
  },
  {
   "cell_type": "code",
   "execution_count": 50,
   "outputs": [],
   "source": [
    "# fm.ifelse_loc()"
   ],
   "metadata": {
    "collapsed": false,
    "pycharm": {
     "name": "#%%\n"
    }
   }
  },
  {
   "cell_type": "code",
   "execution_count": 51,
   "outputs": [],
   "source": [
    "# fm.ifelse_where()"
   ],
   "metadata": {
    "collapsed": false,
    "pycharm": {
     "name": "#%%\n"
    }
   }
  },
  {
   "cell_type": "code",
   "execution_count": 53,
   "outputs": [],
   "source": [
    "# fm.ifelse_select()"
   ],
   "metadata": {
    "collapsed": false,
    "pycharm": {
     "name": "#%%\n"
    }
   }
  },
  {
   "cell_type": "markdown",
   "metadata": {
    "pycharm": {
     "name": "#%% md\n"
    }
   },
   "source": [
    "# Execution time summary - numeric\n",
    "We display the final output as the ratio of each execution method vs the fastest method. Instead of looking at the absolute execution time, we prefer the relative time. This is because you might run the code in different machines, and it might be more interesting to know that method A was 3x slower, than to know it was 35 seconds slower."
   ]
  },
  {
   "cell_type": "code",
   "execution_count": 52,
   "metadata": {
    "pycharm": {
     "name": "#%%\n"
    }
   },
   "outputs": [],
   "source": [
    "results_dict = {'rows': [], 'merge': [], 'indexing': [], 'set_index': [], 'set_index_sorted': []}\n",
    "\n",
    "n = 10\n",
    "\n",
    "for dataframe in [d1, d2, d3, d4, d5, d6, d7]:\n",
    "    results_dict['rows'].append(dataframe.shape[0])\n",
    "\n",
    "    fm = JoinMethods(pd_df=dataframe)\n",
    "    results_dict['merge'].append(timeit.timeit(lambda: fm.join_merge_numeric(), number=n))\n",
    "    results_dict['indexing'].append(timeit.timeit(lambda: fm.join_indexing_numeric(), number=n))\n",
    "    results_dict['set_index'].append(timeit.timeit(lambda: fm.join_set_index_numeric(), number=n))\n",
    "    results_dict['set_index_sorted'].append(timeit.timeit(lambda: fm.join_set_index_sorted_numeric(), number=n))\n",
    "\n",
    "results_df = pd.DataFrame(results_dict)\n",
    "results_df.index = results_df['rows']\n",
    "results_df = results_df.drop('rows', axis=1)\n",
    "\n",
    "results_df['min_time_of_all_methods'] = results_df.min(axis=1)\n",
    "results_df['merge_deterioration'] = (results_df['merge']/results_df['min_time_of_all_methods'])-1\n",
    "results_df['indexing_deterioration'] = (results_df['indexing']/results_df['min_time_of_all_methods'])-1\n",
    "results_df['set_index_deterioration'] = (results_df['set_index']/results_df['min_time_of_all_methods'])-1\n",
    "results_df['set_index_sorted_deterioration'] = (results_df['set_index_sorted']/results_df['min_time_of_all_methods'])-1"
   ]
  },
  {
   "cell_type": "code",
   "execution_count": 53,
   "metadata": {
    "pycharm": {
     "name": "#%%\n"
    }
   },
   "outputs": [
    {
     "data": {
      "text/plain": "<pandas.io.formats.style.Styler at 0x1347c0c40>",
      "text/html": "<style type=\"text/css\">\n#T_6e97c_row0_col3, #T_6e97c_row0_col4, #T_6e97c_row0_col5, #T_6e97c_row0_col6, #T_6e97c_row3_col0, #T_6e97c_row3_col1, #T_6e97c_row3_col2 {\n  color: white;\n  background-color: red;\n}\n#T_6e97c_row1_col0, #T_6e97c_row2_col1, #T_6e97c_row2_col2, #T_6e97c_row2_col3, #T_6e97c_row2_col4, #T_6e97c_row2_col5, #T_6e97c_row2_col6 {\n  color: white;\n  background-color: darkgreen;\n}\n</style>\n<table id=\"T_6e97c_\">\n  <thead>\n    <tr>\n      <th class=\"index_name level0\" >rows</th>\n      <th class=\"col_heading level0 col0\" >10</th>\n      <th class=\"col_heading level0 col1\" >100</th>\n      <th class=\"col_heading level0 col2\" >1000</th>\n      <th class=\"col_heading level0 col3\" >10000</th>\n      <th class=\"col_heading level0 col4\" >100000</th>\n      <th class=\"col_heading level0 col5\" >1000000</th>\n      <th class=\"col_heading level0 col6\" >10000000</th>\n    </tr>\n  </thead>\n  <tbody>\n    <tr>\n      <th id=\"T_6e97c_level0_row0\" class=\"row_heading level0 row0\" >merge_deterioration</th>\n      <td id=\"T_6e97c_row0_col0\" class=\"data row0 col0\" >0.10</td>\n      <td id=\"T_6e97c_row0_col1\" class=\"data row0 col1\" >0.06</td>\n      <td id=\"T_6e97c_row0_col2\" class=\"data row0 col2\" >0.08</td>\n      <td id=\"T_6e97c_row0_col3\" class=\"data row0 col3\" >0.72</td>\n      <td id=\"T_6e97c_row0_col4\" class=\"data row0 col4\" >2.64</td>\n      <td id=\"T_6e97c_row0_col5\" class=\"data row0 col5\" >2.80</td>\n      <td id=\"T_6e97c_row0_col6\" class=\"data row0 col6\" >5.41</td>\n    </tr>\n    <tr>\n      <th id=\"T_6e97c_level0_row1\" class=\"row_heading level0 row1\" >indexing_deterioration</th>\n      <td id=\"T_6e97c_row1_col0\" class=\"data row1 col0\" >0.00</td>\n      <td id=\"T_6e97c_row1_col1\" class=\"data row1 col1\" >0.08</td>\n      <td id=\"T_6e97c_row1_col2\" class=\"data row1 col2\" >0.04</td>\n      <td id=\"T_6e97c_row1_col3\" class=\"data row1 col3\" >0.17</td>\n      <td id=\"T_6e97c_row1_col4\" class=\"data row1 col4\" >0.66</td>\n      <td id=\"T_6e97c_row1_col5\" class=\"data row1 col5\" >0.51</td>\n      <td id=\"T_6e97c_row1_col6\" class=\"data row1 col6\" >1.35</td>\n    </tr>\n    <tr>\n      <th id=\"T_6e97c_level0_row2\" class=\"row_heading level0 row2\" >set_index_deterioration</th>\n      <td id=\"T_6e97c_row2_col0\" class=\"data row2 col0\" >0.17</td>\n      <td id=\"T_6e97c_row2_col1\" class=\"data row2 col1\" >0.00</td>\n      <td id=\"T_6e97c_row2_col2\" class=\"data row2 col2\" >0.00</td>\n      <td id=\"T_6e97c_row2_col3\" class=\"data row2 col3\" >0.00</td>\n      <td id=\"T_6e97c_row2_col4\" class=\"data row2 col4\" >0.00</td>\n      <td id=\"T_6e97c_row2_col5\" class=\"data row2 col5\" >0.00</td>\n      <td id=\"T_6e97c_row2_col6\" class=\"data row2 col6\" >0.00</td>\n    </tr>\n    <tr>\n      <th id=\"T_6e97c_level0_row3\" class=\"row_heading level0 row3\" >set_index_sorted_deterioration</th>\n      <td id=\"T_6e97c_row3_col0\" class=\"data row3 col0\" >0.20</td>\n      <td id=\"T_6e97c_row3_col1\" class=\"data row3 col1\" >0.15</td>\n      <td id=\"T_6e97c_row3_col2\" class=\"data row3 col2\" >0.13</td>\n      <td id=\"T_6e97c_row3_col3\" class=\"data row3 col3\" >0.18</td>\n      <td id=\"T_6e97c_row3_col4\" class=\"data row3 col4\" >0.36</td>\n      <td id=\"T_6e97c_row3_col5\" class=\"data row3 col5\" >0.24</td>\n      <td id=\"T_6e97c_row3_col6\" class=\"data row3 col6\" >0.25</td>\n    </tr>\n  </tbody>\n</table>\n"
     },
     "execution_count": 53,
     "metadata": {},
     "output_type": "execute_result"
    }
   ],
   "source": [
    "# Execution time proportion between of method/fastest.\n",
    "present_df = results_df[['merge_deterioration','indexing_deterioration','set_index_deterioration','set_index_sorted_deterioration']].transpose()\n",
    "present_df = (present_df.style.format(precision=2)\n",
    "              .apply(highlight_min, props='color:white;background-color:darkgreen', axis=0)\n",
    "              .apply(highlight_max, props='color:white;background-color:red', axis=0)\n",
    "             )\n",
    "present_df"
   ]
  },
  {
   "cell_type": "markdown",
   "source": [
    "# Execution time summary - string"
   ],
   "metadata": {
    "collapsed": false,
    "pycharm": {
     "name": "#%% md\n"
    }
   }
  },
  {
   "cell_type": "code",
   "execution_count": 54,
   "outputs": [],
   "source": [
    "results_dict = {'rows': [], 'merge': [], 'indexing': [], 'set_index': [], 'set_index_sorted': []}\n",
    "\n",
    "n = 10\n",
    "\n",
    "for dataframe in [d1, d2, d3, d4, d5, d6, d7]:\n",
    "    results_dict['rows'].append(dataframe.shape[0])\n",
    "\n",
    "    fm = JoinMethods(pd_df=dataframe)\n",
    "    results_dict['merge'].append(timeit.timeit(lambda: fm.join_merge_string(), number=n))\n",
    "    results_dict['indexing'].append(timeit.timeit(lambda: fm.join_indexing_string(), number=n))\n",
    "    results_dict['set_index'].append(timeit.timeit(lambda: fm.join_set_index_string(), number=n))\n",
    "    results_dict['set_index_sorted'].append(timeit.timeit(lambda: fm.join_set_index_sorted_string(), number=n))\n",
    "\n",
    "results_df = pd.DataFrame(results_dict)\n",
    "results_df.index = results_df['rows']\n",
    "results_df = results_df.drop('rows', axis=1)\n",
    "\n",
    "results_df['min_time_of_all_methods'] = results_df.min(axis=1)\n",
    "results_df['merge_deterioration'] = (results_df['merge']/results_df['min_time_of_all_methods'])-1\n",
    "results_df['indexing_deterioration'] = (results_df['indexing']/results_df['min_time_of_all_methods'])-1\n",
    "results_df['set_index_deterioration'] = (results_df['set_index']/results_df['min_time_of_all_methods'])-1\n",
    "results_df['set_index_sorted_deterioration'] = (results_df['set_index_sorted']/results_df['min_time_of_all_methods'])-1"
   ],
   "metadata": {
    "collapsed": false,
    "pycharm": {
     "name": "#%%\n"
    }
   }
  },
  {
   "cell_type": "code",
   "execution_count": 55,
   "outputs": [
    {
     "data": {
      "text/plain": "<pandas.io.formats.style.Styler at 0x1348bbeb0>",
      "text/html": "<style type=\"text/css\">\n#T_85f81_row0_col0, #T_85f81_row0_col1, #T_85f81_row2_col3, #T_85f81_row2_col5, #T_85f81_row2_col6, #T_85f81_row3_col2, #T_85f81_row3_col4 {\n  color: white;\n  background-color: darkgreen;\n}\n#T_85f81_row0_col4, #T_85f81_row0_col5, #T_85f81_row0_col6, #T_85f81_row1_col0, #T_85f81_row1_col1, #T_85f81_row1_col2, #T_85f81_row1_col3 {\n  color: white;\n  background-color: red;\n}\n</style>\n<table id=\"T_85f81_\">\n  <thead>\n    <tr>\n      <th class=\"index_name level0\" >rows</th>\n      <th class=\"col_heading level0 col0\" >10</th>\n      <th class=\"col_heading level0 col1\" >100</th>\n      <th class=\"col_heading level0 col2\" >1000</th>\n      <th class=\"col_heading level0 col3\" >10000</th>\n      <th class=\"col_heading level0 col4\" >100000</th>\n      <th class=\"col_heading level0 col5\" >1000000</th>\n      <th class=\"col_heading level0 col6\" >10000000</th>\n    </tr>\n  </thead>\n  <tbody>\n    <tr>\n      <th id=\"T_85f81_level0_row0\" class=\"row_heading level0 row0\" >merge_deterioration</th>\n      <td id=\"T_85f81_row0_col0\" class=\"data row0 col0\" >0.00</td>\n      <td id=\"T_85f81_row0_col1\" class=\"data row0 col1\" >0.00</td>\n      <td id=\"T_85f81_row0_col2\" class=\"data row0 col2\" >0.05</td>\n      <td id=\"T_85f81_row0_col3\" class=\"data row0 col3\" >0.59</td>\n      <td id=\"T_85f81_row0_col4\" class=\"data row0 col4\" >2.76</td>\n      <td id=\"T_85f81_row0_col5\" class=\"data row0 col5\" >4.67</td>\n      <td id=\"T_85f81_row0_col6\" class=\"data row0 col6\" >13.30</td>\n    </tr>\n    <tr>\n      <th id=\"T_85f81_level0_row1\" class=\"row_heading level0 row1\" >indexing_deterioration</th>\n      <td id=\"T_85f81_row1_col0\" class=\"data row1 col0\" >0.21</td>\n      <td id=\"T_85f81_row1_col1\" class=\"data row1 col1\" >0.16</td>\n      <td id=\"T_85f81_row1_col2\" class=\"data row1 col2\" >0.10</td>\n      <td id=\"T_85f81_row1_col3\" class=\"data row1 col3\" >0.68</td>\n      <td id=\"T_85f81_row1_col4\" class=\"data row1 col4\" >1.18</td>\n      <td id=\"T_85f81_row1_col5\" class=\"data row1 col5\" >3.54</td>\n      <td id=\"T_85f81_row1_col6\" class=\"data row1 col6\" >10.41</td>\n    </tr>\n    <tr>\n      <th id=\"T_85f81_level0_row2\" class=\"row_heading level0 row2\" >set_index_deterioration</th>\n      <td id=\"T_85f81_row2_col0\" class=\"data row2 col0\" >0.06</td>\n      <td id=\"T_85f81_row2_col1\" class=\"data row2 col1\" >0.02</td>\n      <td id=\"T_85f81_row2_col2\" class=\"data row2 col2\" >0.06</td>\n      <td id=\"T_85f81_row2_col3\" class=\"data row2 col3\" >0.00</td>\n      <td id=\"T_85f81_row2_col4\" class=\"data row2 col4\" >0.00</td>\n      <td id=\"T_85f81_row2_col5\" class=\"data row2 col5\" >0.00</td>\n      <td id=\"T_85f81_row2_col6\" class=\"data row2 col6\" >0.00</td>\n    </tr>\n    <tr>\n      <th id=\"T_85f81_level0_row3\" class=\"row_heading level0 row3\" >set_index_sorted_deterioration</th>\n      <td id=\"T_85f81_row3_col0\" class=\"data row3 col0\" >0.10</td>\n      <td id=\"T_85f81_row3_col1\" class=\"data row3 col1\" >0.10</td>\n      <td id=\"T_85f81_row3_col2\" class=\"data row3 col2\" >0.00</td>\n      <td id=\"T_85f81_row3_col3\" class=\"data row3 col3\" >0.27</td>\n      <td id=\"T_85f81_row3_col4\" class=\"data row3 col4\" >0.00</td>\n      <td id=\"T_85f81_row3_col5\" class=\"data row3 col5\" >0.24</td>\n      <td id=\"T_85f81_row3_col6\" class=\"data row3 col6\" >0.25</td>\n    </tr>\n  </tbody>\n</table>\n"
     },
     "execution_count": 55,
     "metadata": {},
     "output_type": "execute_result"
    }
   ],
   "source": [
    "# Execution time proportion between of method/fastest.\n",
    "present_df = results_df[['merge_deterioration','indexing_deterioration','set_index_deterioration','set_index_sorted_deterioration']].transpose()\n",
    "present_df = (present_df.style.format(precision=2)\n",
    "              .apply(highlight_min, props='color:white;background-color:darkgreen', axis=0)\n",
    "              .apply(highlight_max, props='color:white;background-color:red', axis=0)\n",
    "             )\n",
    "present_df"
   ],
   "metadata": {
    "collapsed": false,
    "pycharm": {
     "name": "#%%\n"
    }
   }
  },
  {
   "cell_type": "code",
   "execution_count": null,
   "outputs": [],
   "source": [],
   "metadata": {
    "collapsed": false,
    "pycharm": {
     "name": "#%%\n"
    }
   }
  }
 ],
 "metadata": {
  "kernelspec": {
   "display_name": "Python 3",
   "language": "python",
   "name": "python3"
  },
  "language_info": {
   "codemirror_mode": {
    "name": "ipython",
    "version": 3
   },
   "file_extension": ".py",
   "mimetype": "text/x-python",
   "name": "python",
   "nbconvert_exporter": "python",
   "pygments_lexer": "ipython3",
   "version": "3.8.8"
  },
  "toc": {
   "base_numbering": 1,
   "nav_menu": {},
   "number_sections": true,
   "sideBar": true,
   "skip_h1_title": false,
   "title_cell": "Table of Contents",
   "title_sidebar": "Contents",
   "toc_cell": false,
   "toc_position": {},
   "toc_section_display": true,
   "toc_window_display": false
  },
  "varInspector": {
   "cols": {
    "lenName": 16,
    "lenType": 16,
    "lenVar": 40
   },
   "kernels_config": {
    "python": {
     "delete_cmd_postfix": "",
     "delete_cmd_prefix": "del ",
     "library": "var_list.py",
     "varRefreshCmd": "print(var_dic_list())"
    },
    "r": {
     "delete_cmd_postfix": ") ",
     "delete_cmd_prefix": "rm(",
     "library": "var_list.r",
     "varRefreshCmd": "cat(var_dic_list()) "
    }
   },
   "types_to_exclude": [
    "module",
    "function",
    "builtin_function_or_method",
    "instance",
    "_Feature"
   ],
   "window_display": false
  }
 },
 "nbformat": 4,
 "nbformat_minor": 1
}