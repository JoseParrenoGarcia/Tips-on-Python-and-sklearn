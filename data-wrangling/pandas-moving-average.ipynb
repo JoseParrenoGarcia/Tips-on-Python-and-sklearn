{
 "cells": [
  {
   "cell_type": "code",
   "execution_count": 62,
   "outputs": [],
   "source": [
    "import pandas as pd\n",
    "\n",
    "from pandasql import sqldf\n",
    "mysql = lambda q: sqldf(q, globals())"
   ],
   "metadata": {
    "collapsed": false,
    "pycharm": {
     "name": "#%%\n"
    }
   }
  },
  {
   "cell_type": "markdown",
   "source": [
    "# Dataset: Bike Sharing Daily\n",
    "* Source: https://www.kaggle.com/contactprad/bike-share-daily-data\n",
    "* Licence: [1] Fanaee-T, Hadi, and Gama, Joao, \"Event labeling combining ensemble detectors and background knowledge\", Progress in Artificial Intelligence (2013): pp. 1-15, Springer Berlin Heidelberg, doi:10.1007/s13748-013-0040-3.\n",
    "\n",
    "@article{\n",
    "year={2013},\n",
    "issn={2192-6352},\n",
    "journal={Progress in Artificial Intelligence},\n",
    "doi={10.1007/s13748-013-0040-3},\n",
    "title={Event labeling combining ensemble detectors and background knowledge},\n",
    "url={http://dx.doi.org/10.1007/s13748-013-0040-3},\n",
    "publisher={Springer Berlin Heidelberg},\n",
    "keywords={Event labeling; Event detection; Ensemble learning; Background knowledge},\n",
    "author={Fanaee-T, Hadi and Gama, Joao},\n",
    "pages={1-15}\n",
    "}"
   ],
   "metadata": {
    "collapsed": false,
    "pycharm": {
     "name": "#%% md\n"
    }
   }
  },
  {
   "cell_type": "code",
   "execution_count": 58,
   "outputs": [
    {
     "data": {
      "text/plain": "     season     dteday      temp\n0         1 2011-01-01  0.344167\n1         1 2011-01-02  0.363478\n2         1 2011-01-03  0.196364\n3         1 2011-01-04  0.200000\n4         1 2011-01-05  0.226957\n..      ...        ...       ...\n726       1 2012-12-27  0.254167\n727       1 2012-12-28  0.253333\n728       1 2012-12-29  0.253333\n729       1 2012-12-30  0.255833\n730       1 2012-12-31  0.215833\n\n[731 rows x 3 columns]",
      "text/html": "<div>\n<style scoped>\n    .dataframe tbody tr th:only-of-type {\n        vertical-align: middle;\n    }\n\n    .dataframe tbody tr th {\n        vertical-align: top;\n    }\n\n    .dataframe thead th {\n        text-align: right;\n    }\n</style>\n<table border=\"1\" class=\"dataframe\">\n  <thead>\n    <tr style=\"text-align: right;\">\n      <th></th>\n      <th>season</th>\n      <th>dteday</th>\n      <th>temp</th>\n    </tr>\n  </thead>\n  <tbody>\n    <tr>\n      <th>0</th>\n      <td>1</td>\n      <td>2011-01-01</td>\n      <td>0.344167</td>\n    </tr>\n    <tr>\n      <th>1</th>\n      <td>1</td>\n      <td>2011-01-02</td>\n      <td>0.363478</td>\n    </tr>\n    <tr>\n      <th>2</th>\n      <td>1</td>\n      <td>2011-01-03</td>\n      <td>0.196364</td>\n    </tr>\n    <tr>\n      <th>3</th>\n      <td>1</td>\n      <td>2011-01-04</td>\n      <td>0.200000</td>\n    </tr>\n    <tr>\n      <th>4</th>\n      <td>1</td>\n      <td>2011-01-05</td>\n      <td>0.226957</td>\n    </tr>\n    <tr>\n      <th>...</th>\n      <td>...</td>\n      <td>...</td>\n      <td>...</td>\n    </tr>\n    <tr>\n      <th>726</th>\n      <td>1</td>\n      <td>2012-12-27</td>\n      <td>0.254167</td>\n    </tr>\n    <tr>\n      <th>727</th>\n      <td>1</td>\n      <td>2012-12-28</td>\n      <td>0.253333</td>\n    </tr>\n    <tr>\n      <th>728</th>\n      <td>1</td>\n      <td>2012-12-29</td>\n      <td>0.253333</td>\n    </tr>\n    <tr>\n      <th>729</th>\n      <td>1</td>\n      <td>2012-12-30</td>\n      <td>0.255833</td>\n    </tr>\n    <tr>\n      <th>730</th>\n      <td>1</td>\n      <td>2012-12-31</td>\n      <td>0.215833</td>\n    </tr>\n  </tbody>\n</table>\n<p>731 rows × 3 columns</p>\n</div>"
     },
     "execution_count": 58,
     "metadata": {},
     "output_type": "execute_result"
    }
   ],
   "source": [
    "data = pd.read_csv('../sklearn-pipelines/datasets/bike_sharing_daily.csv')\n",
    "\n",
    "df = data[['season', 'dteday', 'temp']].copy()\n",
    "df['dteday'] = pd.to_datetime(df['dteday'])\n",
    "df"
   ],
   "metadata": {
    "collapsed": false,
    "pycharm": {
     "name": "#%%\n"
    }
   }
  },
  {
   "cell_type": "markdown",
   "source": [
    "# Python - Moving average overall\n",
    "\n",
    "#### using 'rolling'\n",
    "* Pandas rolling documentation: https://pandas.pydata.org/docs/reference/api/pandas.DataFrame.rolling.html"
   ],
   "metadata": {
    "collapsed": false,
    "pycharm": {
     "name": "#%% md\n"
    }
   }
  },
  {
   "cell_type": "code",
   "execution_count": 59,
   "outputs": [
    {
     "data": {
      "text/plain": "     season     dteday      temp  average_5_periods_rolling  \\\n0         1 2011-01-01  0.344167                        NaN   \n1         1 2011-01-02  0.363478                        NaN   \n2         1 2011-01-03  0.196364                        NaN   \n3         1 2011-01-04  0.200000                        NaN   \n4         1 2011-01-05  0.226957                   0.266193   \n..      ...        ...       ...                        ...   \n726       1 2012-12-27  0.254167                   0.253188   \n727       1 2012-12-28  0.253333                   0.254688   \n728       1 2012-12-29  0.253333                   0.259094   \n729       1 2012-12-30  0.255833                   0.252000   \n730       1 2012-12-31  0.215833                   0.246500   \n\n     sum_5_periods_rolling  \n0                      NaN  \n1                      NaN  \n2                      NaN  \n3                      NaN  \n4                 1.330966  \n..                     ...  \n726               1.265941  \n727               1.273441  \n728               1.295470  \n729               1.259999  \n730               1.232499  \n\n[731 rows x 5 columns]",
      "text/html": "<div>\n<style scoped>\n    .dataframe tbody tr th:only-of-type {\n        vertical-align: middle;\n    }\n\n    .dataframe tbody tr th {\n        vertical-align: top;\n    }\n\n    .dataframe thead th {\n        text-align: right;\n    }\n</style>\n<table border=\"1\" class=\"dataframe\">\n  <thead>\n    <tr style=\"text-align: right;\">\n      <th></th>\n      <th>season</th>\n      <th>dteday</th>\n      <th>temp</th>\n      <th>average_5_periods_rolling</th>\n      <th>sum_5_periods_rolling</th>\n    </tr>\n  </thead>\n  <tbody>\n    <tr>\n      <th>0</th>\n      <td>1</td>\n      <td>2011-01-01</td>\n      <td>0.344167</td>\n      <td>NaN</td>\n      <td>NaN</td>\n    </tr>\n    <tr>\n      <th>1</th>\n      <td>1</td>\n      <td>2011-01-02</td>\n      <td>0.363478</td>\n      <td>NaN</td>\n      <td>NaN</td>\n    </tr>\n    <tr>\n      <th>2</th>\n      <td>1</td>\n      <td>2011-01-03</td>\n      <td>0.196364</td>\n      <td>NaN</td>\n      <td>NaN</td>\n    </tr>\n    <tr>\n      <th>3</th>\n      <td>1</td>\n      <td>2011-01-04</td>\n      <td>0.200000</td>\n      <td>NaN</td>\n      <td>NaN</td>\n    </tr>\n    <tr>\n      <th>4</th>\n      <td>1</td>\n      <td>2011-01-05</td>\n      <td>0.226957</td>\n      <td>0.266193</td>\n      <td>1.330966</td>\n    </tr>\n    <tr>\n      <th>...</th>\n      <td>...</td>\n      <td>...</td>\n      <td>...</td>\n      <td>...</td>\n      <td>...</td>\n    </tr>\n    <tr>\n      <th>726</th>\n      <td>1</td>\n      <td>2012-12-27</td>\n      <td>0.254167</td>\n      <td>0.253188</td>\n      <td>1.265941</td>\n    </tr>\n    <tr>\n      <th>727</th>\n      <td>1</td>\n      <td>2012-12-28</td>\n      <td>0.253333</td>\n      <td>0.254688</td>\n      <td>1.273441</td>\n    </tr>\n    <tr>\n      <th>728</th>\n      <td>1</td>\n      <td>2012-12-29</td>\n      <td>0.253333</td>\n      <td>0.259094</td>\n      <td>1.295470</td>\n    </tr>\n    <tr>\n      <th>729</th>\n      <td>1</td>\n      <td>2012-12-30</td>\n      <td>0.255833</td>\n      <td>0.252000</td>\n      <td>1.259999</td>\n    </tr>\n    <tr>\n      <th>730</th>\n      <td>1</td>\n      <td>2012-12-31</td>\n      <td>0.215833</td>\n      <td>0.246500</td>\n      <td>1.232499</td>\n    </tr>\n  </tbody>\n</table>\n<p>731 rows × 5 columns</p>\n</div>"
     },
     "execution_count": 59,
     "metadata": {},
     "output_type": "execute_result"
    }
   ],
   "source": [
    "period = 5\n",
    "df['average_5_periods_rolling'] = df['temp'].rolling(window=period).mean()\n",
    "df['sum_5_periods_rolling'] = df['temp'].rolling(window=period).sum()\n",
    "df"
   ],
   "metadata": {
    "collapsed": false,
    "pycharm": {
     "name": "#%%\n"
    }
   }
  },
  {
   "cell_type": "markdown",
   "source": [
    "# Python - Moving average by group"
   ],
   "metadata": {
    "collapsed": false,
    "pycharm": {
     "name": "#%% md\n"
    }
   }
  },
  {
   "cell_type": "code",
   "execution_count": 60,
   "outputs": [
    {
     "data": {
      "text/plain": "     season     dteday      temp  average_5_periods_rolling  \\\n0         1 2011-01-01  0.344167                        NaN   \n1         1 2011-01-02  0.363478                        NaN   \n2         1 2011-01-03  0.196364                        NaN   \n3         1 2011-01-04  0.200000                        NaN   \n4         1 2011-01-05  0.226957                   0.266193   \n..      ...        ...       ...                        ...   \n726       1 2012-12-27  0.254167                   0.253188   \n727       1 2012-12-28  0.253333                   0.254688   \n728       1 2012-12-29  0.253333                   0.259094   \n729       1 2012-12-30  0.255833                   0.252000   \n730       1 2012-12-31  0.215833                   0.246500   \n\n     sum_5_periods_rolling  average_5_periods_rolling_by_season  \n0                      NaN                                  NaN  \n1                      NaN                                  NaN  \n2                      NaN                                  NaN  \n3                      NaN                                  NaN  \n4                 1.330966                             0.266193  \n..                     ...                                  ...  \n726               1.265941                             0.253188  \n727               1.273441                             0.254688  \n728               1.295470                             0.259094  \n729               1.259999                             0.252000  \n730               1.232499                             0.246500  \n\n[731 rows x 6 columns]",
      "text/html": "<div>\n<style scoped>\n    .dataframe tbody tr th:only-of-type {\n        vertical-align: middle;\n    }\n\n    .dataframe tbody tr th {\n        vertical-align: top;\n    }\n\n    .dataframe thead th {\n        text-align: right;\n    }\n</style>\n<table border=\"1\" class=\"dataframe\">\n  <thead>\n    <tr style=\"text-align: right;\">\n      <th></th>\n      <th>season</th>\n      <th>dteday</th>\n      <th>temp</th>\n      <th>average_5_periods_rolling</th>\n      <th>sum_5_periods_rolling</th>\n      <th>average_5_periods_rolling_by_season</th>\n    </tr>\n  </thead>\n  <tbody>\n    <tr>\n      <th>0</th>\n      <td>1</td>\n      <td>2011-01-01</td>\n      <td>0.344167</td>\n      <td>NaN</td>\n      <td>NaN</td>\n      <td>NaN</td>\n    </tr>\n    <tr>\n      <th>1</th>\n      <td>1</td>\n      <td>2011-01-02</td>\n      <td>0.363478</td>\n      <td>NaN</td>\n      <td>NaN</td>\n      <td>NaN</td>\n    </tr>\n    <tr>\n      <th>2</th>\n      <td>1</td>\n      <td>2011-01-03</td>\n      <td>0.196364</td>\n      <td>NaN</td>\n      <td>NaN</td>\n      <td>NaN</td>\n    </tr>\n    <tr>\n      <th>3</th>\n      <td>1</td>\n      <td>2011-01-04</td>\n      <td>0.200000</td>\n      <td>NaN</td>\n      <td>NaN</td>\n      <td>NaN</td>\n    </tr>\n    <tr>\n      <th>4</th>\n      <td>1</td>\n      <td>2011-01-05</td>\n      <td>0.226957</td>\n      <td>0.266193</td>\n      <td>1.330966</td>\n      <td>0.266193</td>\n    </tr>\n    <tr>\n      <th>...</th>\n      <td>...</td>\n      <td>...</td>\n      <td>...</td>\n      <td>...</td>\n      <td>...</td>\n      <td>...</td>\n    </tr>\n    <tr>\n      <th>726</th>\n      <td>1</td>\n      <td>2012-12-27</td>\n      <td>0.254167</td>\n      <td>0.253188</td>\n      <td>1.265941</td>\n      <td>0.253188</td>\n    </tr>\n    <tr>\n      <th>727</th>\n      <td>1</td>\n      <td>2012-12-28</td>\n      <td>0.253333</td>\n      <td>0.254688</td>\n      <td>1.273441</td>\n      <td>0.254688</td>\n    </tr>\n    <tr>\n      <th>728</th>\n      <td>1</td>\n      <td>2012-12-29</td>\n      <td>0.253333</td>\n      <td>0.259094</td>\n      <td>1.295470</td>\n      <td>0.259094</td>\n    </tr>\n    <tr>\n      <th>729</th>\n      <td>1</td>\n      <td>2012-12-30</td>\n      <td>0.255833</td>\n      <td>0.252000</td>\n      <td>1.259999</td>\n      <td>0.252000</td>\n    </tr>\n    <tr>\n      <th>730</th>\n      <td>1</td>\n      <td>2012-12-31</td>\n      <td>0.215833</td>\n      <td>0.246500</td>\n      <td>1.232499</td>\n      <td>0.246500</td>\n    </tr>\n  </tbody>\n</table>\n<p>731 rows × 6 columns</p>\n</div>"
     },
     "execution_count": 60,
     "metadata": {},
     "output_type": "execute_result"
    }
   ],
   "source": [
    "df['average_5_periods_rolling_by_season'] = df.groupby('season')['temp'].transform(lambda x: x.rolling(window=period).mean())\n",
    "df"
   ],
   "metadata": {
    "collapsed": false,
    "pycharm": {
     "name": "#%%\n"
    }
   }
  },
  {
   "cell_type": "markdown",
   "source": [
    "# SQL - Moving average overall"
   ],
   "metadata": {
    "collapsed": false,
    "pycharm": {
     "name": "#%% md\n"
    }
   }
  },
  {
   "cell_type": "code",
   "execution_count": 66,
   "outputs": [
    {
     "data": {
      "text/plain": "     season                      dteday      temp  moving_average  moving_sum\n0         1  2011-01-01 00:00:00.000000  0.344167        0.344167    0.344167\n1         1  2011-01-02 00:00:00.000000  0.363478        0.353823    0.707645\n2         1  2011-01-03 00:00:00.000000  0.196364        0.301336    0.904009\n3         1  2011-01-04 00:00:00.000000  0.200000        0.276002    1.104009\n4         1  2011-01-05 00:00:00.000000  0.226957        0.266193    1.330966\n..      ...                         ...       ...             ...         ...\n726       1  2012-12-27 00:00:00.000000  0.254167        0.255296    1.531774\n727       1  2012-12-28 00:00:00.000000  0.253333        0.253212    1.519274\n728       1  2012-12-29 00:00:00.000000  0.253333        0.254462    1.526774\n729       1  2012-12-30 00:00:00.000000  0.255833        0.258550    1.551303\n730       1  2012-12-31 00:00:00.000000  0.215833        0.245972    1.475832\n\n[731 rows x 5 columns]",
      "text/html": "<div>\n<style scoped>\n    .dataframe tbody tr th:only-of-type {\n        vertical-align: middle;\n    }\n\n    .dataframe tbody tr th {\n        vertical-align: top;\n    }\n\n    .dataframe thead th {\n        text-align: right;\n    }\n</style>\n<table border=\"1\" class=\"dataframe\">\n  <thead>\n    <tr style=\"text-align: right;\">\n      <th></th>\n      <th>season</th>\n      <th>dteday</th>\n      <th>temp</th>\n      <th>moving_average</th>\n      <th>moving_sum</th>\n    </tr>\n  </thead>\n  <tbody>\n    <tr>\n      <th>0</th>\n      <td>1</td>\n      <td>2011-01-01 00:00:00.000000</td>\n      <td>0.344167</td>\n      <td>0.344167</td>\n      <td>0.344167</td>\n    </tr>\n    <tr>\n      <th>1</th>\n      <td>1</td>\n      <td>2011-01-02 00:00:00.000000</td>\n      <td>0.363478</td>\n      <td>0.353823</td>\n      <td>0.707645</td>\n    </tr>\n    <tr>\n      <th>2</th>\n      <td>1</td>\n      <td>2011-01-03 00:00:00.000000</td>\n      <td>0.196364</td>\n      <td>0.301336</td>\n      <td>0.904009</td>\n    </tr>\n    <tr>\n      <th>3</th>\n      <td>1</td>\n      <td>2011-01-04 00:00:00.000000</td>\n      <td>0.200000</td>\n      <td>0.276002</td>\n      <td>1.104009</td>\n    </tr>\n    <tr>\n      <th>4</th>\n      <td>1</td>\n      <td>2011-01-05 00:00:00.000000</td>\n      <td>0.226957</td>\n      <td>0.266193</td>\n      <td>1.330966</td>\n    </tr>\n    <tr>\n      <th>...</th>\n      <td>...</td>\n      <td>...</td>\n      <td>...</td>\n      <td>...</td>\n      <td>...</td>\n    </tr>\n    <tr>\n      <th>726</th>\n      <td>1</td>\n      <td>2012-12-27 00:00:00.000000</td>\n      <td>0.254167</td>\n      <td>0.255296</td>\n      <td>1.531774</td>\n    </tr>\n    <tr>\n      <th>727</th>\n      <td>1</td>\n      <td>2012-12-28 00:00:00.000000</td>\n      <td>0.253333</td>\n      <td>0.253212</td>\n      <td>1.519274</td>\n    </tr>\n    <tr>\n      <th>728</th>\n      <td>1</td>\n      <td>2012-12-29 00:00:00.000000</td>\n      <td>0.253333</td>\n      <td>0.254462</td>\n      <td>1.526774</td>\n    </tr>\n    <tr>\n      <th>729</th>\n      <td>1</td>\n      <td>2012-12-30 00:00:00.000000</td>\n      <td>0.255833</td>\n      <td>0.258550</td>\n      <td>1.551303</td>\n    </tr>\n    <tr>\n      <th>730</th>\n      <td>1</td>\n      <td>2012-12-31 00:00:00.000000</td>\n      <td>0.215833</td>\n      <td>0.245972</td>\n      <td>1.475832</td>\n    </tr>\n  </tbody>\n</table>\n<p>731 rows × 5 columns</p>\n</div>"
     },
     "execution_count": 66,
     "metadata": {},
     "output_type": "execute_result"
    }
   ],
   "source": [
    "data = pd.read_csv('../sklearn-pipelines/datasets/bike_sharing_daily.csv')\n",
    "\n",
    "df = data[['season', 'dteday', 'temp']].copy()\n",
    "df['dteday'] = pd.to_datetime(df['dteday'])\n",
    "\n",
    "query = 'SELECT *, ' \\\n",
    "        '       avg(temp) OVER (ORDER BY dteday ROWS BETWEEN 5 PRECEDING AND CURRENT ROW) AS moving_average, ' \\\n",
    "        '       sum(temp) OVER (ORDER BY dteday ROWS BETWEEN 5 PRECEDING AND CURRENT ROW) AS moving_sum ' \\\n",
    "        'FROM df' \\\n",
    "\n",
    "mysql(query)"
   ],
   "metadata": {
    "collapsed": false,
    "pycharm": {
     "name": "#%%\n"
    }
   }
  },
  {
   "cell_type": "markdown",
   "source": [
    "# SQL - Moving average per group"
   ],
   "metadata": {
    "collapsed": false,
    "pycharm": {
     "name": "#%% md\n"
    }
   }
  },
  {
   "cell_type": "code",
   "execution_count": 68,
   "outputs": [
    {
     "data": {
      "text/plain": "     season                      dteday      temp  moving_average  \\\n0         1  2011-01-01 00:00:00.000000  0.344167        0.344167   \n1         1  2011-01-02 00:00:00.000000  0.363478        0.353823   \n2         1  2011-01-03 00:00:00.000000  0.196364        0.301336   \n3         1  2011-01-04 00:00:00.000000  0.200000        0.276002   \n4         1  2011-01-05 00:00:00.000000  0.226957        0.266193   \n..      ...                         ...       ...             ...   \n726       1  2012-12-27 00:00:00.000000  0.254167        0.255296   \n727       1  2012-12-28 00:00:00.000000  0.253333        0.253212   \n728       1  2012-12-29 00:00:00.000000  0.253333        0.254462   \n729       1  2012-12-30 00:00:00.000000  0.255833        0.258550   \n730       1  2012-12-31 00:00:00.000000  0.215833        0.245972   \n\n     moving_average  \n0          0.344167  \n1          0.353823  \n2          0.301336  \n3          0.276002  \n4          0.266193  \n..              ...  \n726        0.255296  \n727        0.253212  \n728        0.254462  \n729        0.258550  \n730        0.245972  \n\n[731 rows x 5 columns]",
      "text/html": "<div>\n<style scoped>\n    .dataframe tbody tr th:only-of-type {\n        vertical-align: middle;\n    }\n\n    .dataframe tbody tr th {\n        vertical-align: top;\n    }\n\n    .dataframe thead th {\n        text-align: right;\n    }\n</style>\n<table border=\"1\" class=\"dataframe\">\n  <thead>\n    <tr style=\"text-align: right;\">\n      <th></th>\n      <th>season</th>\n      <th>dteday</th>\n      <th>temp</th>\n      <th>moving_average</th>\n      <th>moving_average</th>\n    </tr>\n  </thead>\n  <tbody>\n    <tr>\n      <th>0</th>\n      <td>1</td>\n      <td>2011-01-01 00:00:00.000000</td>\n      <td>0.344167</td>\n      <td>0.344167</td>\n      <td>0.344167</td>\n    </tr>\n    <tr>\n      <th>1</th>\n      <td>1</td>\n      <td>2011-01-02 00:00:00.000000</td>\n      <td>0.363478</td>\n      <td>0.353823</td>\n      <td>0.353823</td>\n    </tr>\n    <tr>\n      <th>2</th>\n      <td>1</td>\n      <td>2011-01-03 00:00:00.000000</td>\n      <td>0.196364</td>\n      <td>0.301336</td>\n      <td>0.301336</td>\n    </tr>\n    <tr>\n      <th>3</th>\n      <td>1</td>\n      <td>2011-01-04 00:00:00.000000</td>\n      <td>0.200000</td>\n      <td>0.276002</td>\n      <td>0.276002</td>\n    </tr>\n    <tr>\n      <th>4</th>\n      <td>1</td>\n      <td>2011-01-05 00:00:00.000000</td>\n      <td>0.226957</td>\n      <td>0.266193</td>\n      <td>0.266193</td>\n    </tr>\n    <tr>\n      <th>...</th>\n      <td>...</td>\n      <td>...</td>\n      <td>...</td>\n      <td>...</td>\n      <td>...</td>\n    </tr>\n    <tr>\n      <th>726</th>\n      <td>1</td>\n      <td>2012-12-27 00:00:00.000000</td>\n      <td>0.254167</td>\n      <td>0.255296</td>\n      <td>0.255296</td>\n    </tr>\n    <tr>\n      <th>727</th>\n      <td>1</td>\n      <td>2012-12-28 00:00:00.000000</td>\n      <td>0.253333</td>\n      <td>0.253212</td>\n      <td>0.253212</td>\n    </tr>\n    <tr>\n      <th>728</th>\n      <td>1</td>\n      <td>2012-12-29 00:00:00.000000</td>\n      <td>0.253333</td>\n      <td>0.254462</td>\n      <td>0.254462</td>\n    </tr>\n    <tr>\n      <th>729</th>\n      <td>1</td>\n      <td>2012-12-30 00:00:00.000000</td>\n      <td>0.255833</td>\n      <td>0.258550</td>\n      <td>0.258550</td>\n    </tr>\n    <tr>\n      <th>730</th>\n      <td>1</td>\n      <td>2012-12-31 00:00:00.000000</td>\n      <td>0.215833</td>\n      <td>0.245972</td>\n      <td>0.245972</td>\n    </tr>\n  </tbody>\n</table>\n<p>731 rows × 5 columns</p>\n</div>"
     },
     "execution_count": 68,
     "metadata": {},
     "output_type": "execute_result"
    }
   ],
   "source": [
    "query = 'SELECT *, ' \\\n",
    "        '       avg(temp) OVER (ORDER BY dteday ROWS BETWEEN 5 PRECEDING AND CURRENT ROW) AS moving_average, ' \\\n",
    "        '       avg(temp) OVER (PARTITION BY season ORDER BY dteday ROWS BETWEEN 5 PRECEDING AND CURRENT ROW) AS moving_average ' \\\n",
    "        'FROM df' \\\n",
    "\n",
    "mysql(query)"
   ],
   "metadata": {
    "collapsed": false,
    "pycharm": {
     "name": "#%%\n"
    }
   }
  },
  {
   "cell_type": "code",
   "execution_count": null,
   "outputs": [],
   "source": [],
   "metadata": {
    "collapsed": false,
    "pycharm": {
     "name": "#%%\n"
    }
   }
  }
 ],
 "metadata": {
  "kernelspec": {
   "display_name": "Python 3",
   "language": "python",
   "name": "python3"
  },
  "language_info": {
   "codemirror_mode": {
    "name": "ipython",
    "version": 2
   },
   "file_extension": ".py",
   "mimetype": "text/x-python",
   "name": "python",
   "nbconvert_exporter": "python",
   "pygments_lexer": "ipython2",
   "version": "2.7.6"
  }
 },
 "nbformat": 4,
 "nbformat_minor": 0
}