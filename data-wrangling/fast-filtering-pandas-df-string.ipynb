{
 "cells": [
  {
   "cell_type": "code",
   "execution_count": 1,
   "metadata": {
    "pycharm": {
     "name": "#%%\n"
    }
   },
   "outputs": [],
   "source": [
    "import numpy as np\n",
    "import pandas as pd\n",
    "import timeit"
   ]
  },
  {
   "cell_type": "markdown",
   "source": [
    "**This notebook captures different ways in which to filter data dataframes with string data and compares the execution time of these methods.**\n",
    "\n",
    "We will:\n",
    "1. Generate a set of dataframes with different number of rows (1, 10, 100, 1_000, 10_000, 100_000)\n",
    "2. Create different filter methods\n",
    "3. Calculate the execution time for each and determine how much worse are the rest compared to the fastest (1-method time/fastest time)"
   ],
   "metadata": {
    "collapsed": false
   }
  },
  {
   "cell_type": "markdown",
   "metadata": {
    "pycharm": {
     "name": "#%% md\n"
    }
   },
   "source": [
    "**Helper functions**\n",
    "*Plotting/presenting*"
   ]
  },
  {
   "cell_type": "code",
   "execution_count": 2,
   "metadata": {
    "pycharm": {
     "name": "#%%\n"
    }
   },
   "outputs": [],
   "source": [
    "def style_negative(v, props=''):\n",
    "    return props if v < 0 else None\n",
    "\n",
    "def highlight_min(s, props=''):\n",
    "    return np.where(s == np.nanmin(s.values), props, '')\n",
    "\n",
    "def highlight_max(s, props=''):\n",
    "    return np.where(s == np.nanmax(s.values), props, '')"
   ]
  },
  {
   "cell_type": "markdown",
   "metadata": {
    "pycharm": {
     "name": "#%% md\n"
    }
   },
   "source": [
    "*Data creation*"
   ]
  },
  {
   "cell_type": "code",
   "execution_count": 3,
   "metadata": {
    "pycharm": {
     "name": "#%%\n"
    }
   },
   "outputs": [
    {
     "name": "stdout",
     "output_type": "stream",
     "text": [
      "[[0.00976712 0.63378325 0.10083864]]\n",
      "\n",
      "[[0.78120957 0.76874644 0.75871791]\n",
      " [0.60406791 0.78987309 0.17163633]\n",
      " [0.32820779 0.2259688  0.24204104]\n",
      " [0.89634332 0.59647016 0.94259758]\n",
      " [0.78333348 0.93288204 0.83350076]\n",
      " [0.7686362  0.91446473 0.10439522]\n",
      " [0.53504098 0.36766139 0.69741891]\n",
      " [0.1843358  0.4890348  0.96643135]\n",
      " [0.26312983 0.08539515 0.02822771]\n",
      " [0.1133378  0.01583675 0.08775055]]\n"
     ]
    }
   ],
   "source": [
    "def random_array(rows, columns):\n",
    "    return np.random.rand(int(rows), columns)\n",
    "\n",
    "a1 = random_array(1, 3)\n",
    "a2 = random_array(10, 3)\n",
    "a3 = random_array(100, 3)\n",
    "a4 = random_array(1_000, 3)\n",
    "a5 = random_array(10_000, 3)\n",
    "a6 = random_array(100_000, 3)\n",
    "\n",
    "# Example output\n",
    "print(a1, a2, sep='\\n\\n')"
   ]
  },
  {
   "cell_type": "code",
   "execution_count": 11,
   "metadata": {
    "pycharm": {
     "name": "#%%\n"
    }
   },
   "outputs": [
    {
     "name": "stdout",
     "output_type": "stream",
     "text": [
      "       Col0      Col1      Col2   cat\n",
      "0  0.009767  0.633783  0.100839  blue\n",
      "\n",
      "       Col0      Col1      Col2    cat\n",
      "0  0.781210  0.768746  0.758718    red\n",
      "1  0.604068  0.789873  0.171636    red\n",
      "2  0.328208  0.225969  0.242041    red\n",
      "3  0.896343  0.596470  0.942598  green\n",
      "4  0.783333  0.932882  0.833501    red\n",
      "5  0.768636  0.914465  0.104395    red\n",
      "6  0.535041  0.367661  0.697419    red\n",
      "7  0.184336  0.489035  0.966431   blue\n",
      "8  0.263130  0.085395  0.028228    red\n",
      "9  0.113338  0.015837  0.087751   blue\n"
     ]
    }
   ],
   "source": [
    "def random_dataframe(np_array):\n",
    "    df = pd.DataFrame(np_array)\n",
    "    df.columns = 'Col' + df.columns.astype(str)\n",
    "\n",
    "    df['cat'] = np.where(df['Col0']<0.2, 'blue', np.where(df['Col0'] > 0.8, 'green', 'red'))\n",
    "\n",
    "    return df\n",
    "\n",
    "d1 = random_dataframe(a1)\n",
    "d2 = random_dataframe(a2)\n",
    "d3 = random_dataframe(a3)\n",
    "d4 = random_dataframe(a4)\n",
    "d5 = random_dataframe(a5)\n",
    "d6 = random_dataframe(a6)\n",
    "\n",
    "# Example output\n",
    "print(d1, d2, sep='\\n\\n')"
   ]
  },
  {
   "cell_type": "markdown",
   "metadata": {},
   "source": [
    "## Filter methods"
   ]
  },
  {
   "cell_type": "code",
   "execution_count": 31,
   "metadata": {
    "pycharm": {
     "name": "#%%\n"
    }
   },
   "outputs": [],
   "source": [
    "class FilterMethods:\n",
    "    def __init__(self, pd_df, cat1='blue', cat2='green'):\n",
    "        self.pd_df = pd_df\n",
    "        self.cat1 = cat1\n",
    "        self.cat2 = cat2\n",
    "\n",
    "    def filter_booleans(self):\n",
    "        return self.pd_df[(self.pd_df['cat']==self.cat1) | (self.pd_df['cat']==self.cat2)]\n",
    "\n",
    "    def filter_isin(self):\n",
    "        return self.pd_df[self.pd_df['cat'].isin([self.cat1, self.cat2])]\n",
    "\n",
    "    def filter_contains(self):\n",
    "        return self.pd_df[self.pd_df['cat'].str.contains(f'{self.cat1}|{self.cat2}')]\n",
    "\n",
    "    def filter_query_booleans(self):\n",
    "        return self.pd_df.query(f'cat == \"{self.cat1}\" or cat == \"{self.cat2}\"')\n",
    "\n",
    "    def filter_query_in(self):\n",
    "        return self.pd_df.query(f'cat in [\"{self.cat1}\" , \"{self.cat2}\"]')\n",
    "\n",
    "fm = FilterMethods(pd_df=d2)"
   ]
  },
  {
   "cell_type": "code",
   "execution_count": 32,
   "metadata": {
    "pycharm": {
     "name": "#%%\n"
    }
   },
   "outputs": [
    {
     "data": {
      "text/plain": "       Col0      Col1      Col2    cat\n3  0.896343  0.596470  0.942598  green\n7  0.184336  0.489035  0.966431   blue\n9  0.113338  0.015837  0.087751   blue",
      "text/html": "<div>\n<style scoped>\n    .dataframe tbody tr th:only-of-type {\n        vertical-align: middle;\n    }\n\n    .dataframe tbody tr th {\n        vertical-align: top;\n    }\n\n    .dataframe thead th {\n        text-align: right;\n    }\n</style>\n<table border=\"1\" class=\"dataframe\">\n  <thead>\n    <tr style=\"text-align: right;\">\n      <th></th>\n      <th>Col0</th>\n      <th>Col1</th>\n      <th>Col2</th>\n      <th>cat</th>\n    </tr>\n  </thead>\n  <tbody>\n    <tr>\n      <th>3</th>\n      <td>0.896343</td>\n      <td>0.596470</td>\n      <td>0.942598</td>\n      <td>green</td>\n    </tr>\n    <tr>\n      <th>7</th>\n      <td>0.184336</td>\n      <td>0.489035</td>\n      <td>0.966431</td>\n      <td>blue</td>\n    </tr>\n    <tr>\n      <th>9</th>\n      <td>0.113338</td>\n      <td>0.015837</td>\n      <td>0.087751</td>\n      <td>blue</td>\n    </tr>\n  </tbody>\n</table>\n</div>"
     },
     "execution_count": 32,
     "metadata": {},
     "output_type": "execute_result"
    }
   ],
   "source": [
    "fm.filter_booleans()"
   ]
  },
  {
   "cell_type": "code",
   "execution_count": 33,
   "outputs": [
    {
     "data": {
      "text/plain": "       Col0      Col1      Col2    cat\n3  0.896343  0.596470  0.942598  green\n7  0.184336  0.489035  0.966431   blue\n9  0.113338  0.015837  0.087751   blue",
      "text/html": "<div>\n<style scoped>\n    .dataframe tbody tr th:only-of-type {\n        vertical-align: middle;\n    }\n\n    .dataframe tbody tr th {\n        vertical-align: top;\n    }\n\n    .dataframe thead th {\n        text-align: right;\n    }\n</style>\n<table border=\"1\" class=\"dataframe\">\n  <thead>\n    <tr style=\"text-align: right;\">\n      <th></th>\n      <th>Col0</th>\n      <th>Col1</th>\n      <th>Col2</th>\n      <th>cat</th>\n    </tr>\n  </thead>\n  <tbody>\n    <tr>\n      <th>3</th>\n      <td>0.896343</td>\n      <td>0.596470</td>\n      <td>0.942598</td>\n      <td>green</td>\n    </tr>\n    <tr>\n      <th>7</th>\n      <td>0.184336</td>\n      <td>0.489035</td>\n      <td>0.966431</td>\n      <td>blue</td>\n    </tr>\n    <tr>\n      <th>9</th>\n      <td>0.113338</td>\n      <td>0.015837</td>\n      <td>0.087751</td>\n      <td>blue</td>\n    </tr>\n  </tbody>\n</table>\n</div>"
     },
     "execution_count": 33,
     "metadata": {},
     "output_type": "execute_result"
    }
   ],
   "source": [
    "fm.filter_isin()"
   ],
   "metadata": {
    "collapsed": false,
    "pycharm": {
     "name": "#%%\n"
    }
   }
  },
  {
   "cell_type": "code",
   "execution_count": 34,
   "outputs": [
    {
     "data": {
      "text/plain": "       Col0      Col1      Col2    cat\n3  0.896343  0.596470  0.942598  green\n7  0.184336  0.489035  0.966431   blue\n9  0.113338  0.015837  0.087751   blue",
      "text/html": "<div>\n<style scoped>\n    .dataframe tbody tr th:only-of-type {\n        vertical-align: middle;\n    }\n\n    .dataframe tbody tr th {\n        vertical-align: top;\n    }\n\n    .dataframe thead th {\n        text-align: right;\n    }\n</style>\n<table border=\"1\" class=\"dataframe\">\n  <thead>\n    <tr style=\"text-align: right;\">\n      <th></th>\n      <th>Col0</th>\n      <th>Col1</th>\n      <th>Col2</th>\n      <th>cat</th>\n    </tr>\n  </thead>\n  <tbody>\n    <tr>\n      <th>3</th>\n      <td>0.896343</td>\n      <td>0.596470</td>\n      <td>0.942598</td>\n      <td>green</td>\n    </tr>\n    <tr>\n      <th>7</th>\n      <td>0.184336</td>\n      <td>0.489035</td>\n      <td>0.966431</td>\n      <td>blue</td>\n    </tr>\n    <tr>\n      <th>9</th>\n      <td>0.113338</td>\n      <td>0.015837</td>\n      <td>0.087751</td>\n      <td>blue</td>\n    </tr>\n  </tbody>\n</table>\n</div>"
     },
     "execution_count": 34,
     "metadata": {},
     "output_type": "execute_result"
    }
   ],
   "source": [
    "fm.filter_contains()"
   ],
   "metadata": {
    "collapsed": false,
    "pycharm": {
     "name": "#%%\n"
    }
   }
  },
  {
   "cell_type": "code",
   "execution_count": 35,
   "metadata": {
    "pycharm": {
     "name": "#%%\n"
    }
   },
   "outputs": [
    {
     "data": {
      "text/plain": "       Col0      Col1      Col2    cat\n3  0.896343  0.596470  0.942598  green\n7  0.184336  0.489035  0.966431   blue\n9  0.113338  0.015837  0.087751   blue",
      "text/html": "<div>\n<style scoped>\n    .dataframe tbody tr th:only-of-type {\n        vertical-align: middle;\n    }\n\n    .dataframe tbody tr th {\n        vertical-align: top;\n    }\n\n    .dataframe thead th {\n        text-align: right;\n    }\n</style>\n<table border=\"1\" class=\"dataframe\">\n  <thead>\n    <tr style=\"text-align: right;\">\n      <th></th>\n      <th>Col0</th>\n      <th>Col1</th>\n      <th>Col2</th>\n      <th>cat</th>\n    </tr>\n  </thead>\n  <tbody>\n    <tr>\n      <th>3</th>\n      <td>0.896343</td>\n      <td>0.596470</td>\n      <td>0.942598</td>\n      <td>green</td>\n    </tr>\n    <tr>\n      <th>7</th>\n      <td>0.184336</td>\n      <td>0.489035</td>\n      <td>0.966431</td>\n      <td>blue</td>\n    </tr>\n    <tr>\n      <th>9</th>\n      <td>0.113338</td>\n      <td>0.015837</td>\n      <td>0.087751</td>\n      <td>blue</td>\n    </tr>\n  </tbody>\n</table>\n</div>"
     },
     "execution_count": 35,
     "metadata": {},
     "output_type": "execute_result"
    }
   ],
   "source": [
    "fm.filter_query_booleans()"
   ]
  },
  {
   "cell_type": "code",
   "execution_count": 36,
   "outputs": [
    {
     "data": {
      "text/plain": "       Col0      Col1      Col2    cat\n3  0.896343  0.596470  0.942598  green\n7  0.184336  0.489035  0.966431   blue\n9  0.113338  0.015837  0.087751   blue",
      "text/html": "<div>\n<style scoped>\n    .dataframe tbody tr th:only-of-type {\n        vertical-align: middle;\n    }\n\n    .dataframe tbody tr th {\n        vertical-align: top;\n    }\n\n    .dataframe thead th {\n        text-align: right;\n    }\n</style>\n<table border=\"1\" class=\"dataframe\">\n  <thead>\n    <tr style=\"text-align: right;\">\n      <th></th>\n      <th>Col0</th>\n      <th>Col1</th>\n      <th>Col2</th>\n      <th>cat</th>\n    </tr>\n  </thead>\n  <tbody>\n    <tr>\n      <th>3</th>\n      <td>0.896343</td>\n      <td>0.596470</td>\n      <td>0.942598</td>\n      <td>green</td>\n    </tr>\n    <tr>\n      <th>7</th>\n      <td>0.184336</td>\n      <td>0.489035</td>\n      <td>0.966431</td>\n      <td>blue</td>\n    </tr>\n    <tr>\n      <th>9</th>\n      <td>0.113338</td>\n      <td>0.015837</td>\n      <td>0.087751</td>\n      <td>blue</td>\n    </tr>\n  </tbody>\n</table>\n</div>"
     },
     "execution_count": 36,
     "metadata": {},
     "output_type": "execute_result"
    }
   ],
   "source": [
    "fm.filter_query_in()"
   ],
   "metadata": {
    "collapsed": false,
    "pycharm": {
     "name": "#%%\n"
    }
   }
  },
  {
   "cell_type": "markdown",
   "metadata": {
    "pycharm": {
     "name": "#%% md\n"
    }
   },
   "source": [
    "# Execution time summary\n",
    "We display the final output as the ratio of each execution method vs the fastest method. Instead of looking at the absolute execution time, we prefer the relative time. This is because you might run the code in different machines, and it might be more interesting to know that method A was 3x slower, than to know it was 35 seconds slower."
   ]
  },
  {
   "cell_type": "code",
   "execution_count": 37,
   "metadata": {
    "pycharm": {
     "name": "#%%\n"
    }
   },
   "outputs": [],
   "source": [
    "results_dict = {'rows': [], 'booleans': [], 'isin': [], 'contains': [], 'query_booleans': [], 'query_in': []}\n",
    "\n",
    "n = 10\n",
    "\n",
    "for dataframe in [d1, d2, d3, d4, d5, d6]:\n",
    "    results_dict['rows'].append(dataframe.shape[0])\n",
    "\n",
    "    fm = FilterMethods(pd_df=dataframe)\n",
    "    results_dict['booleans'].append(timeit.timeit(lambda: fm.filter_booleans(), number=n))\n",
    "    results_dict['isin'].append(timeit.timeit(lambda: fm.filter_isin(), number=n))\n",
    "    results_dict['contains'].append(timeit.timeit(lambda: fm.filter_contains(), number=n))\n",
    "    results_dict['query_booleans'].append(timeit.timeit(lambda: fm.filter_query_booleans(), number=n))\n",
    "    results_dict['query_in'].append(timeit.timeit(lambda: fm.filter_query_in(), number=n))\n",
    "\n",
    "results_df = pd.DataFrame(results_dict)\n",
    "results_df.index = results_df['rows']\n",
    "results_df = results_df.drop('rows', axis=1)\n",
    "\n",
    "results_df['min_time_of_all_methods'] = results_df.min(axis=1)\n",
    "results_df['booleans_deterioration'] = (results_df['booleans']/results_df['min_time_of_all_methods'])-1\n",
    "results_df['isin_deterioration'] = (results_df['isin']/results_df['min_time_of_all_methods'])-1\n",
    "results_df['contains_deterioration'] = (results_df['contains']/results_df['min_time_of_all_methods'])-1\n",
    "results_df['query_booleans_deterioration'] = (results_df['query_booleans']/results_df['min_time_of_all_methods'])-1\n",
    "results_df['query_in_deterioration'] = (results_df['query_in']/results_df['min_time_of_all_methods'])-1"
   ]
  },
  {
   "cell_type": "code",
   "execution_count": 39,
   "metadata": {
    "pycharm": {
     "name": "#%%\n"
    }
   },
   "outputs": [
    {
     "data": {
      "text/plain": "<pandas.io.formats.style.Styler at 0x125895d90>",
      "text/html": "<style type=\"text/css\">\n#T_d7e73_row1_col0, #T_d7e73_row1_col1, #T_d7e73_row1_col2, #T_d7e73_row1_col3, #T_d7e73_row1_col4, #T_d7e73_row1_col5 {\n  color: white;\n  background-color: darkgreen;\n}\n#T_d7e73_row2_col4, #T_d7e73_row2_col5, #T_d7e73_row3_col0, #T_d7e73_row3_col1, #T_d7e73_row3_col2, #T_d7e73_row3_col3 {\n  color: white;\n  background-color: red;\n}\n</style>\n<table id=\"T_d7e73_\">\n  <thead>\n    <tr>\n      <th class=\"index_name level0\" >rows</th>\n      <th class=\"col_heading level0 col0\" >1</th>\n      <th class=\"col_heading level0 col1\" >10</th>\n      <th class=\"col_heading level0 col2\" >100</th>\n      <th class=\"col_heading level0 col3\" >1000</th>\n      <th class=\"col_heading level0 col4\" >10000</th>\n      <th class=\"col_heading level0 col5\" >100000</th>\n    </tr>\n  </thead>\n  <tbody>\n    <tr>\n      <th id=\"T_d7e73_level0_row0\" class=\"row_heading level0 row0\" >booleans_deterioration</th>\n      <td id=\"T_d7e73_row0_col0\" class=\"data row0 col0\" >0.52</td>\n      <td id=\"T_d7e73_row0_col1\" class=\"data row0 col1\" >0.68</td>\n      <td id=\"T_d7e73_row0_col2\" class=\"data row0 col2\" >0.75</td>\n      <td id=\"T_d7e73_row0_col3\" class=\"data row0 col3\" >0.98</td>\n      <td id=\"T_d7e73_row0_col4\" class=\"data row0 col4\" >1.02</td>\n      <td id=\"T_d7e73_row0_col5\" class=\"data row0 col5\" >1.19</td>\n    </tr>\n    <tr>\n      <th id=\"T_d7e73_level0_row1\" class=\"row_heading level0 row1\" >isin_deterioration</th>\n      <td id=\"T_d7e73_row1_col0\" class=\"data row1 col0\" >0.00</td>\n      <td id=\"T_d7e73_row1_col1\" class=\"data row1 col1\" >0.00</td>\n      <td id=\"T_d7e73_row1_col2\" class=\"data row1 col2\" >0.00</td>\n      <td id=\"T_d7e73_row1_col3\" class=\"data row1 col3\" >0.00</td>\n      <td id=\"T_d7e73_row1_col4\" class=\"data row1 col4\" >0.00</td>\n      <td id=\"T_d7e73_row1_col5\" class=\"data row1 col5\" >0.00</td>\n    </tr>\n    <tr>\n      <th id=\"T_d7e73_level0_row2\" class=\"row_heading level0 row2\" >contains_deterioration</th>\n      <td id=\"T_d7e73_row2_col0\" class=\"data row2 col0\" >0.09</td>\n      <td id=\"T_d7e73_row2_col1\" class=\"data row2 col1\" >0.16</td>\n      <td id=\"T_d7e73_row2_col2\" class=\"data row2 col2\" >0.56</td>\n      <td id=\"T_d7e73_row2_col3\" class=\"data row2 col3\" >1.09</td>\n      <td id=\"T_d7e73_row2_col4\" class=\"data row2 col4\" >4.37</td>\n      <td id=\"T_d7e73_row2_col5\" class=\"data row2 col5\" >5.04</td>\n    </tr>\n    <tr>\n      <th id=\"T_d7e73_level0_row3\" class=\"row_heading level0 row3\" >query_booleans_deterioration</th>\n      <td id=\"T_d7e73_row3_col0\" class=\"data row3 col0\" >3.49</td>\n      <td id=\"T_d7e73_row3_col1\" class=\"data row3 col1\" >3.88</td>\n      <td id=\"T_d7e73_row3_col2\" class=\"data row3 col2\" >4.94</td>\n      <td id=\"T_d7e73_row3_col3\" class=\"data row3 col3\" >3.79</td>\n      <td id=\"T_d7e73_row3_col4\" class=\"data row3 col4\" >1.07</td>\n      <td id=\"T_d7e73_row3_col5\" class=\"data row3 col5\" >0.20</td>\n    </tr>\n    <tr>\n      <th id=\"T_d7e73_level0_row4\" class=\"row_heading level0 row4\" >query_in_deterioration</th>\n      <td id=\"T_d7e73_row4_col0\" class=\"data row4 col0\" >1.80</td>\n      <td id=\"T_d7e73_row4_col1\" class=\"data row4 col1\" >2.49</td>\n      <td id=\"T_d7e73_row4_col2\" class=\"data row4 col2\" >3.64</td>\n      <td id=\"T_d7e73_row4_col3\" class=\"data row4 col3\" >2.53</td>\n      <td id=\"T_d7e73_row4_col4\" class=\"data row4 col4\" >0.74</td>\n      <td id=\"T_d7e73_row4_col5\" class=\"data row4 col5\" >0.04</td>\n    </tr>\n  </tbody>\n</table>\n"
     },
     "execution_count": 39,
     "metadata": {},
     "output_type": "execute_result"
    }
   ],
   "source": [
    "# Execution time proportion between of method/fastest.\n",
    "present_df = results_df[['booleans_deterioration','isin_deterioration','contains_deterioration','query_booleans_deterioration','query_in_deterioration']].transpose()\n",
    "present_df = (present_df.style.format(precision=2)\n",
    "              .apply(highlight_min, props='color:white;background-color:darkgreen', axis=0)\n",
    "              .apply(highlight_max, props='color:white;background-color:red', axis=0)\n",
    "             )\n",
    "present_df"
   ]
  }
 ],
 "metadata": {
  "kernelspec": {
   "display_name": "Python 3",
   "language": "python",
   "name": "python3"
  },
  "language_info": {
   "codemirror_mode": {
    "name": "ipython",
    "version": 3
   },
   "file_extension": ".py",
   "mimetype": "text/x-python",
   "name": "python",
   "nbconvert_exporter": "python",
   "pygments_lexer": "ipython3",
   "version": "3.8.8"
  },
  "toc": {
   "base_numbering": 1,
   "nav_menu": {},
   "number_sections": true,
   "sideBar": true,
   "skip_h1_title": false,
   "title_cell": "Table of Contents",
   "title_sidebar": "Contents",
   "toc_cell": false,
   "toc_position": {},
   "toc_section_display": true,
   "toc_window_display": false
  },
  "varInspector": {
   "cols": {
    "lenName": 16,
    "lenType": 16,
    "lenVar": 40
   },
   "kernels_config": {
    "python": {
     "delete_cmd_postfix": "",
     "delete_cmd_prefix": "del ",
     "library": "var_list.py",
     "varRefreshCmd": "print(var_dic_list())"
    },
    "r": {
     "delete_cmd_postfix": ") ",
     "delete_cmd_prefix": "rm(",
     "library": "var_list.r",
     "varRefreshCmd": "cat(var_dic_list()) "
    }
   },
   "types_to_exclude": [
    "module",
    "function",
    "builtin_function_or_method",
    "instance",
    "_Feature"
   ],
   "window_display": false
  }
 },
 "nbformat": 4,
 "nbformat_minor": 1
}