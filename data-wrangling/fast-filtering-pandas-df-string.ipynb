{
 "cells": [
  {
   "cell_type": "code",
   "execution_count": null,
   "metadata": {
    "pycharm": {
     "name": "#%%\n",
     "is_executing": true
    }
   },
   "outputs": [],
   "source": [
    "import numpy as np\n",
    "import pandas as pd\n",
    "import timeit"
   ]
  },
  {
   "cell_type": "markdown",
   "source": [
    "**This notebook captures different ways in which to filter data dataframes with string data and compares the execution time of these methods.**\n",
    "\n",
    "We will:\n",
    "1. Generate a set of dataframes with different number of rows (1, 10, 100, 1_000, 10_000, 100_000)\n",
    "2. Create different filter methods\n",
    "3. Calculate the execution time for each and determine how much worst are the rest compared to the fastest (1-method time/fastest time)"
   ],
   "metadata": {
    "collapsed": false
   }
  },
  {
   "cell_type": "markdown",
   "metadata": {
    "pycharm": {
     "name": "#%% md\n"
    }
   },
   "source": [
    "**Helper functions**\n",
    "*Plotting/presenting*"
   ]
  },
  {
   "cell_type": "code",
   "execution_count": 12,
   "metadata": {
    "pycharm": {
     "name": "#%%\n"
    }
   },
   "outputs": [],
   "source": [
    "def style_negative(v, props=''):\n",
    "    return props if v < 0 else None\n",
    "\n",
    "def highlight_min(s, props=''):\n",
    "    return np.where(s == np.nanmin(s.values), props, '')\n",
    "\n",
    "def highlight_max(s, props=''):\n",
    "    return np.where(s == np.nanmax(s.values), props, '')"
   ]
  },
  {
   "cell_type": "markdown",
   "metadata": {
    "pycharm": {
     "name": "#%% md\n"
    }
   },
   "source": [
    "*Data creation*"
   ]
  },
  {
   "cell_type": "code",
   "execution_count": 13,
   "metadata": {
    "pycharm": {
     "name": "#%%\n"
    }
   },
   "outputs": [
    {
     "name": "stdout",
     "output_type": "stream",
     "text": [
      "[[0.74390648 0.56213611 0.62668242]]\n",
      "\n",
      "[[0.81485235 0.36854371 0.41038085]\n",
      " [0.40843746 0.49671776 0.76371875]\n",
      " [0.06417739 0.48729016 0.38110063]\n",
      " [0.63517912 0.80929681 0.04016806]\n",
      " [0.58092426 0.25081664 0.77342315]\n",
      " [0.87532778 0.71843202 0.63076544]\n",
      " [0.91690661 0.42540879 0.84439086]\n",
      " [0.160405   0.38311527 0.7100582 ]\n",
      " [0.21769687 0.26837316 0.55061125]\n",
      " [0.37342344 0.30770088 0.84103679]]\n"
     ]
    }
   ],
   "source": [
    "def random_array(rows, columns):\n",
    "    return np.random.rand(int(rows), columns)\n",
    "\n",
    "a1 = random_array(1, 3)\n",
    "a2 = random_array(10, 3)\n",
    "a3 = random_array(100, 3)\n",
    "a4 = random_array(1_000, 3)\n",
    "a5 = random_array(10_000, 3)\n",
    "a6 = random_array(100_000, 3)\n",
    "\n",
    "# Example output\n",
    "print(a1, a2, sep='\\n\\n')"
   ]
  },
  {
   "cell_type": "code",
   "execution_count": 14,
   "metadata": {
    "pycharm": {
     "name": "#%%\n"
    }
   },
   "outputs": [
    {
     "name": "stdout",
     "output_type": "stream",
     "text": [
      "       Col0      Col1      Col2\n",
      "0  0.743906  0.562136  0.626682\n",
      "\n",
      "       Col0      Col1      Col2\n",
      "0  0.814852  0.368544  0.410381\n",
      "1  0.408437  0.496718  0.763719\n",
      "2  0.064177  0.487290  0.381101\n",
      "3  0.635179  0.809297  0.040168\n",
      "4  0.580924  0.250817  0.773423\n",
      "5  0.875328  0.718432  0.630765\n",
      "6  0.916907  0.425409  0.844391\n",
      "7  0.160405  0.383115  0.710058\n",
      "8  0.217697  0.268373  0.550611\n",
      "9  0.373423  0.307701  0.841037\n"
     ]
    }
   ],
   "source": [
    "def random_dataframe(np_array):\n",
    "    df = pd.DataFrame(np_array)\n",
    "    df.columns = 'Col' + df.columns.astype(str)\n",
    "\n",
    "    df['cat'] = np.where(df['Col0']<0.2, 'Blue', np.where(df['Col0'] > 0.8, 'green', 'red'))\n",
    "\n",
    "    return df\n",
    "\n",
    "d1 = random_dataframe(a1)\n",
    "d2 = random_dataframe(a2)\n",
    "d3 = random_dataframe(a3)\n",
    "d4 = random_dataframe(a4)\n",
    "d5 = random_dataframe(a5)\n",
    "d6 = random_dataframe(a6)\n",
    "\n",
    "# Example output\n",
    "print(d1, d2, sep='\\n\\n')"
   ]
  },
  {
   "cell_type": "markdown",
   "metadata": {},
   "source": [
    "## Filter methods"
   ]
  },
  {
   "cell_type": "code",
   "execution_count": 15,
   "metadata": {
    "pycharm": {
     "name": "#%%\n"
    }
   },
   "outputs": [],
   "source": [
    "class FilterMethods:\n",
    "    def __init__(self, pd_df, threshold=0.2):\n",
    "        self.pd_df = pd_df\n",
    "        self.threshold = threshold\n",
    "\n",
    "    def filter_for_loops(self):\n",
    "        index_to_drop = []\n",
    "        for i in range(self.pd_df.shape[0]):\n",
    "            if self.pd_df.iloc[i]['Col0'] > self.threshold:\n",
    "                index_to_drop.append(i)\n",
    "\n",
    "        return self.pd_df.drop(index_to_drop)\n",
    "\n",
    "    def filter_booleans(self):\n",
    "        return self.pd_df[self.pd_df['Col0'] <= self.threshold]\n",
    "\n",
    "    def filter_query(self):\n",
    "        return self.pd_df.query(f'Col0 <= {self.threshold}')"
   ]
  },
  {
   "cell_type": "code",
   "execution_count": 16,
   "metadata": {
    "pycharm": {
     "name": "#%%\n"
    }
   },
   "outputs": [
    {
     "data": {
      "text/plain": "       Col0      Col1      Col2\n2  0.064177  0.487290  0.381101\n7  0.160405  0.383115  0.710058",
      "text/html": "<div>\n<style scoped>\n    .dataframe tbody tr th:only-of-type {\n        vertical-align: middle;\n    }\n\n    .dataframe tbody tr th {\n        vertical-align: top;\n    }\n\n    .dataframe thead th {\n        text-align: right;\n    }\n</style>\n<table border=\"1\" class=\"dataframe\">\n  <thead>\n    <tr style=\"text-align: right;\">\n      <th></th>\n      <th>Col0</th>\n      <th>Col1</th>\n      <th>Col2</th>\n    </tr>\n  </thead>\n  <tbody>\n    <tr>\n      <th>2</th>\n      <td>0.064177</td>\n      <td>0.487290</td>\n      <td>0.381101</td>\n    </tr>\n    <tr>\n      <th>7</th>\n      <td>0.160405</td>\n      <td>0.383115</td>\n      <td>0.710058</td>\n    </tr>\n  </tbody>\n</table>\n</div>"
     },
     "execution_count": 16,
     "metadata": {},
     "output_type": "execute_result"
    }
   ],
   "source": [
    "# Testing\n",
    "fm = FilterMethods(pd_df=d2, threshold=0.2)\n",
    "fm.filter_for_loops()"
   ]
  },
  {
   "cell_type": "code",
   "execution_count": 17,
   "metadata": {
    "pycharm": {
     "name": "#%%\n"
    }
   },
   "outputs": [
    {
     "data": {
      "text/plain": "       Col0      Col1      Col2\n2  0.064177  0.487290  0.381101\n7  0.160405  0.383115  0.710058",
      "text/html": "<div>\n<style scoped>\n    .dataframe tbody tr th:only-of-type {\n        vertical-align: middle;\n    }\n\n    .dataframe tbody tr th {\n        vertical-align: top;\n    }\n\n    .dataframe thead th {\n        text-align: right;\n    }\n</style>\n<table border=\"1\" class=\"dataframe\">\n  <thead>\n    <tr style=\"text-align: right;\">\n      <th></th>\n      <th>Col0</th>\n      <th>Col1</th>\n      <th>Col2</th>\n    </tr>\n  </thead>\n  <tbody>\n    <tr>\n      <th>2</th>\n      <td>0.064177</td>\n      <td>0.487290</td>\n      <td>0.381101</td>\n    </tr>\n    <tr>\n      <th>7</th>\n      <td>0.160405</td>\n      <td>0.383115</td>\n      <td>0.710058</td>\n    </tr>\n  </tbody>\n</table>\n</div>"
     },
     "execution_count": 17,
     "metadata": {},
     "output_type": "execute_result"
    }
   ],
   "source": [
    "fm.filter_booleans()"
   ]
  },
  {
   "cell_type": "code",
   "execution_count": 18,
   "metadata": {
    "pycharm": {
     "name": "#%%\n"
    }
   },
   "outputs": [
    {
     "data": {
      "text/plain": "       Col0      Col1      Col2\n2  0.064177  0.487290  0.381101\n7  0.160405  0.383115  0.710058",
      "text/html": "<div>\n<style scoped>\n    .dataframe tbody tr th:only-of-type {\n        vertical-align: middle;\n    }\n\n    .dataframe tbody tr th {\n        vertical-align: top;\n    }\n\n    .dataframe thead th {\n        text-align: right;\n    }\n</style>\n<table border=\"1\" class=\"dataframe\">\n  <thead>\n    <tr style=\"text-align: right;\">\n      <th></th>\n      <th>Col0</th>\n      <th>Col1</th>\n      <th>Col2</th>\n    </tr>\n  </thead>\n  <tbody>\n    <tr>\n      <th>2</th>\n      <td>0.064177</td>\n      <td>0.487290</td>\n      <td>0.381101</td>\n    </tr>\n    <tr>\n      <th>7</th>\n      <td>0.160405</td>\n      <td>0.383115</td>\n      <td>0.710058</td>\n    </tr>\n  </tbody>\n</table>\n</div>"
     },
     "execution_count": 18,
     "metadata": {},
     "output_type": "execute_result"
    }
   ],
   "source": [
    "fm.filter_query()"
   ]
  },
  {
   "cell_type": "markdown",
   "metadata": {
    "pycharm": {
     "name": "#%% md\n"
    }
   },
   "source": [
    "# Execution time summary\n",
    "We display the final output as the ratio of each execution method vs the fastest method. Instead of looking at the absolute execution time, we prefer the relative time. This is because you might run the code in different machines, and it might be more interesting to know that method A was 3x slower, than to know it was 35 seconds slower."
   ]
  },
  {
   "cell_type": "code",
   "execution_count": 30,
   "metadata": {
    "pycharm": {
     "name": "#%%\n"
    }
   },
   "outputs": [],
   "source": [
    "results_dict = {'rows': [], 'for_loops': [], 'booleans': [], 'query': []}\n",
    "\n",
    "n = 10\n",
    "\n",
    "for dataframe in [d1, d2, d3, d4, d5, d6]:\n",
    "    results_dict['rows'].append(dataframe.shape[0])\n",
    "\n",
    "    fm = FilterMethods(pd_df=dataframe, threshold=0.2)\n",
    "    results_dict['for_loops'].append(timeit.timeit(lambda: fm.filter_for_loops(), number=n))\n",
    "    results_dict['booleans'].append(timeit.timeit(lambda: fm.filter_booleans(), number=n))\n",
    "    results_dict['query'].append(timeit.timeit(lambda: fm.filter_query(), number=n))\n",
    "\n",
    "results_df = pd.DataFrame(results_dict)\n",
    "results_df.index = results_df['rows']\n",
    "results_df = results_df.drop('rows', axis=1)\n",
    "\n",
    "results_df['min_time_of_all_methods'] = results_df.min(axis=1)\n",
    "results_df['for_loop_deterioration'] = (results_df['for_loops']/results_df['min_time_of_all_methods'])-1\n",
    "results_df['booleans_deterioration'] = (results_df['booleans']/results_df['min_time_of_all_methods'])-1\n",
    "results_df['query_deterioration'] = (results_df['query']/results_df['min_time_of_all_methods'])-1"
   ]
  },
  {
   "cell_type": "markdown",
   "source": [],
   "metadata": {
    "collapsed": false
   }
  },
  {
   "cell_type": "code",
   "execution_count": 31,
   "metadata": {
    "pycharm": {
     "name": "#%%\n"
    }
   },
   "outputs": [
    {
     "data": {
      "text/plain": "<pandas.io.formats.style.Styler at 0x12dc339a0>",
      "text/html": "<style type=\"text/css\">\n#T_fbf4f_row0_col1, #T_fbf4f_row0_col2, #T_fbf4f_row0_col3, #T_fbf4f_row0_col4, #T_fbf4f_row0_col5, #T_fbf4f_row2_col0 {\n  color: white;\n  background-color: red;\n}\n#T_fbf4f_row1_col0, #T_fbf4f_row1_col1, #T_fbf4f_row1_col2, #T_fbf4f_row1_col3, #T_fbf4f_row1_col4, #T_fbf4f_row1_col5 {\n  color: white;\n  background-color: darkgreen;\n}\n</style>\n<table id=\"T_fbf4f_\">\n  <thead>\n    <tr>\n      <th class=\"index_name level0\" >rows</th>\n      <th class=\"col_heading level0 col0\" >1</th>\n      <th class=\"col_heading level0 col1\" >10</th>\n      <th class=\"col_heading level0 col2\" >100</th>\n      <th class=\"col_heading level0 col3\" >1000</th>\n      <th class=\"col_heading level0 col4\" >10000</th>\n      <th class=\"col_heading level0 col5\" >100000</th>\n    </tr>\n  </thead>\n  <tbody>\n    <tr>\n      <th id=\"T_fbf4f_level0_row0\" class=\"row_heading level0 row0\" >for_loop_deterioration</th>\n      <td id=\"T_fbf4f_row0_col0\" class=\"data row0 col0\" >0.84</td>\n      <td id=\"T_fbf4f_row0_col1\" class=\"data row0 col1\" >2.88</td>\n      <td id=\"T_fbf4f_row0_col2\" class=\"data row0 col2\" >28.20</td>\n      <td id=\"T_fbf4f_row0_col3\" class=\"data row0 col3\" >273.39</td>\n      <td id=\"T_fbf4f_row0_col4\" class=\"data row0 col4\" >1982.91</td>\n      <td id=\"T_fbf4f_row0_col5\" class=\"data row0 col5\" >7131.77</td>\n    </tr>\n    <tr>\n      <th id=\"T_fbf4f_level0_row1\" class=\"row_heading level0 row1\" >booleans_deterioration</th>\n      <td id=\"T_fbf4f_row1_col0\" class=\"data row1 col0\" >0.00</td>\n      <td id=\"T_fbf4f_row1_col1\" class=\"data row1 col1\" >0.00</td>\n      <td id=\"T_fbf4f_row1_col2\" class=\"data row1 col2\" >0.00</td>\n      <td id=\"T_fbf4f_row1_col3\" class=\"data row1 col3\" >0.00</td>\n      <td id=\"T_fbf4f_row1_col4\" class=\"data row1 col4\" >0.00</td>\n      <td id=\"T_fbf4f_row1_col5\" class=\"data row1 col5\" >0.00</td>\n    </tr>\n    <tr>\n      <th id=\"T_fbf4f_level0_row2\" class=\"row_heading level0 row2\" >query_deterioration</th>\n      <td id=\"T_fbf4f_row2_col0\" class=\"data row2 col0\" >2.16</td>\n      <td id=\"T_fbf4f_row2_col1\" class=\"data row2 col1\" >2.69</td>\n      <td id=\"T_fbf4f_row2_col2\" class=\"data row2 col2\" >2.64</td>\n      <td id=\"T_fbf4f_row2_col3\" class=\"data row2 col3\" >2.43</td>\n      <td id=\"T_fbf4f_row2_col4\" class=\"data row2 col4\" >2.10</td>\n      <td id=\"T_fbf4f_row2_col5\" class=\"data row2 col5\" >0.59</td>\n    </tr>\n  </tbody>\n</table>\n"
     },
     "execution_count": 31,
     "metadata": {},
     "output_type": "execute_result"
    }
   ],
   "source": [
    "# Execution time proportion between of method/fastest.\n",
    "present_df = results_df[['for_loop_deterioration', 'booleans_deterioration','query_deterioration']].transpose()\n",
    "present_df = (present_df.style.format(precision=2)\n",
    "              .apply(highlight_min, props='color:white;background-color:darkgreen', axis=0)\n",
    "              .apply(highlight_max, props='color:white;background-color:red', axis=0)\n",
    "             )\n",
    "present_df"
   ]
  },
  {
   "cell_type": "code",
   "execution_count": null,
   "outputs": [],
   "source": [],
   "metadata": {
    "collapsed": false,
    "pycharm": {
     "name": "#%%\n"
    }
   }
  }
 ],
 "metadata": {
  "kernelspec": {
   "display_name": "Python 3",
   "language": "python",
   "name": "python3"
  },
  "language_info": {
   "codemirror_mode": {
    "name": "ipython",
    "version": 3
   },
   "file_extension": ".py",
   "mimetype": "text/x-python",
   "name": "python",
   "nbconvert_exporter": "python",
   "pygments_lexer": "ipython3",
   "version": "3.8.8"
  },
  "toc": {
   "base_numbering": 1,
   "nav_menu": {},
   "number_sections": true,
   "sideBar": true,
   "skip_h1_title": false,
   "title_cell": "Table of Contents",
   "title_sidebar": "Contents",
   "toc_cell": false,
   "toc_position": {},
   "toc_section_display": true,
   "toc_window_display": false
  },
  "varInspector": {
   "cols": {
    "lenName": 16,
    "lenType": 16,
    "lenVar": 40
   },
   "kernels_config": {
    "python": {
     "delete_cmd_postfix": "",
     "delete_cmd_prefix": "del ",
     "library": "var_list.py",
     "varRefreshCmd": "print(var_dic_list())"
    },
    "r": {
     "delete_cmd_postfix": ") ",
     "delete_cmd_prefix": "rm(",
     "library": "var_list.r",
     "varRefreshCmd": "cat(var_dic_list()) "
    }
   },
   "types_to_exclude": [
    "module",
    "function",
    "builtin_function_or_method",
    "instance",
    "_Feature"
   ],
   "window_display": false
  }
 },
 "nbformat": 4,
 "nbformat_minor": 1
}