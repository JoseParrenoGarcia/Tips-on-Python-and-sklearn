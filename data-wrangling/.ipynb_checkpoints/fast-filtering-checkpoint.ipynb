{
 "cells": [
  {
   "cell_type": "markdown",
   "metadata": {
    "pycharm": {
     "name": "#%% md\n"
    }
   },
   "source": [
    "This notebook captures different ways in which to filter data (arrays, dataframes and lists) and compares the execution time of these methods."
   ]
  },
  {
   "cell_type": "markdown",
   "metadata": {},
   "source": [
    "#### Import required libraries"
   ]
  },
  {
   "cell_type": "code",
   "execution_count": 1,
   "metadata": {
    "pycharm": {
     "name": "#%%\n"
    }
   },
   "outputs": [],
   "source": [
    "import numpy as np\n",
    "import pandas as pd"
   ]
  },
  {
   "cell_type": "markdown",
   "metadata": {
    "pycharm": {
     "name": "#%% md\n"
    }
   },
   "source": [
    "#### Helper functions"
   ]
  },
  {
   "cell_type": "code",
   "execution_count": 2,
   "metadata": {
    "pycharm": {
     "name": "#%%\n"
    }
   },
   "outputs": [
    {
     "name": "stdout",
     "output_type": "stream",
     "text": [
      "[[0.64067685 0.3445654  0.26699002]]\n",
      "\n",
      "[[0.14784761 0.83982611 0.7302448 ]\n",
      " [0.56654292 0.02188372 0.71876539]]\n",
      "\n",
      "[[0.83074741 0.24347285 0.42359998]\n",
      " [0.0754758  0.74332495 0.76681744]\n",
      " [0.26508503 0.87463326 0.26554921]]\n"
     ]
    }
   ],
   "source": [
    "def random_array(rows, columns):\n",
    "    return np.random.rand(int(rows), columns)\n",
    "\n",
    "# Testing output\n",
    "a1 = random_array(1, 3)\n",
    "a2 = random_array(2, 3)\n",
    "a3 = random_array(3, 3)\n",
    "\n",
    "print(a1, a2, a3, sep='\\n\\n')"
   ]
  },
  {
   "cell_type": "code",
   "execution_count": 3,
   "metadata": {
    "pycharm": {
     "name": "#%%\n"
    }
   },
   "outputs": [
    {
     "name": "stdout",
     "output_type": "stream",
     "text": [
      "[0.6406768538482014, 0.34456539930743557, 0.26699001632532726]\n",
      "\n",
      "[0.1478476063036296, 0.839826110719553, 0.7302448040363785, 0.5665429218218165, 0.021883720916688665, 0.7187653936521986]\n",
      "\n",
      "[0.8307474122704303, 0.24347285138123098, 0.42359997704801866, 0.07547579946269345, 0.7433249503732215, 0.7668174430025958, 0.2650850275982136, 0.8746332646863106, 0.2655492134939359]\n"
     ]
    }
   ],
   "source": [
    "def random_list(np_array):\n",
    "    return np_array.flatten().tolist()\n",
    "\n",
    "# Testing output\n",
    "l1 = random_list(a1)\n",
    "l2 = random_list(a2)\n",
    "l3 = random_list(a3)\n",
    "\n",
    "print(l1, l2, l3, sep='\\n\\n')"
   ]
  },
  {
   "cell_type": "code",
   "execution_count": 4,
   "metadata": {
    "pycharm": {
     "name": "#%%\n"
    }
   },
   "outputs": [
    {
     "name": "stdout",
     "output_type": "stream",
     "text": [
      "          0         1        2\n",
      "0  0.640677  0.344565  0.26699\n",
      "\n",
      "          0         1         2\n",
      "0  0.147848  0.839826  0.730245\n",
      "1  0.566543  0.021884  0.718765\n",
      "\n",
      "          0         1         2\n",
      "0  0.830747  0.243473  0.423600\n",
      "1  0.075476  0.743325  0.766817\n",
      "2  0.265085  0.874633  0.265549\n"
     ]
    }
   ],
   "source": [
    "def random_dataframe(np_array):\n",
    "    return pd.DataFrame(np_array)\n",
    "\n",
    "# Testing output\n",
    "d1 = random_dataframe(a1)\n",
    "d2 = random_dataframe(a2)\n",
    "d3 = random_dataframe(a3)\n",
    "\n",
    "print(d1, d2, d3, sep='\\n\\n')"
   ]
  },
  {
   "cell_type": "code",
   "execution_count": 5,
   "metadata": {
    "pycharm": {
     "name": "#%%\n"
    }
   },
   "outputs": [
    {
     "name": "stdout",
     "output_type": "stream",
     "text": [
      "hello\n"
     ]
    }
   ],
   "source": [
    "print('hello')"
   ]
  }
 ],
 "metadata": {
  "kernelspec": {
   "display_name": "Python 3",
   "language": "python",
   "name": "python3"
  },
  "language_info": {
   "codemirror_mode": {
    "name": "ipython",
    "version": 3
   },
   "file_extension": ".py",
   "mimetype": "text/x-python",
   "name": "python",
   "nbconvert_exporter": "python",
   "pygments_lexer": "ipython3",
   "version": "3.8.8"
  },
  "toc": {
   "base_numbering": 1,
   "nav_menu": {},
   "number_sections": true,
   "sideBar": true,
   "skip_h1_title": false,
   "title_cell": "Table of Contents",
   "title_sidebar": "Contents",
   "toc_cell": false,
   "toc_position": {},
   "toc_section_display": true,
   "toc_window_display": false
  },
  "varInspector": {
   "cols": {
    "lenName": 16,
    "lenType": 16,
    "lenVar": 40
   },
   "kernels_config": {
    "python": {
     "delete_cmd_postfix": "",
     "delete_cmd_prefix": "del ",
     "library": "var_list.py",
     "varRefreshCmd": "print(var_dic_list())"
    },
    "r": {
     "delete_cmd_postfix": ") ",
     "delete_cmd_prefix": "rm(",
     "library": "var_list.r",
     "varRefreshCmd": "cat(var_dic_list()) "
    }
   },
   "types_to_exclude": [
    "module",
    "function",
    "builtin_function_or_method",
    "instance",
    "_Feature"
   ],
   "window_display": false
  }
 },
 "nbformat": 4,
 "nbformat_minor": 1
}
