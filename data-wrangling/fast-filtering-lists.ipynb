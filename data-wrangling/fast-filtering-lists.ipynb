{
 "cells": [
  {
   "cell_type": "code",
   "execution_count": 84,
   "metadata": {
    "pycharm": {
     "name": "#%%\n"
    }
   },
   "outputs": [],
   "source": [
    "import numpy as np\n",
    "import pandas as pd\n",
    "import timeit"
   ]
  },
  {
   "cell_type": "markdown",
   "source": [
    "**This notebook captures different ways in which to filter lists with numeric and string data and compares the execution time of these methods.**\n",
    "\n",
    "We will:\n",
    "1. Generate a set of lists with different number of elements (1, 10, 100, 1_000, 10_000, 100_000)\n",
    "2. Create different filter methods\n",
    "3. Calculate the execution time for each and determine how much worse are the rest compared to the fastest (1-method time/fastest time)"
   ],
   "metadata": {
    "collapsed": false
   }
  },
  {
   "cell_type": "markdown",
   "metadata": {
    "pycharm": {
     "name": "#%% md\n"
    }
   },
   "source": [
    "**Helper functions**\n",
    "*Plotting/presenting*"
   ]
  },
  {
   "cell_type": "code",
   "execution_count": 85,
   "metadata": {
    "pycharm": {
     "name": "#%%\n"
    }
   },
   "outputs": [],
   "source": [
    "def style_negative(v, props=''):\n",
    "    return props if v < 0 else None\n",
    "\n",
    "def highlight_min(s, props=''):\n",
    "    return np.where(s == np.nanmin(s.values), props, '')\n",
    "\n",
    "def highlight_max(s, props=''):\n",
    "    return np.where(s == np.nanmax(s.values), props, '')"
   ]
  },
  {
   "cell_type": "markdown",
   "metadata": {
    "pycharm": {
     "name": "#%% md\n"
    }
   },
   "source": [
    "*Data creation*"
   ]
  },
  {
   "cell_type": "code",
   "execution_count": 86,
   "metadata": {
    "pycharm": {
     "name": "#%%\n"
    }
   },
   "outputs": [
    {
     "name": "stdout",
     "output_type": "stream",
     "text": [
      "[[0.70027988]]\n",
      "\n",
      "[[0.35595219]\n",
      " [0.98875751]\n",
      " [0.23710326]\n",
      " [0.83522315]\n",
      " [0.04704935]\n",
      " [0.66543339]\n",
      " [0.28358301]\n",
      " [0.30530213]\n",
      " [0.35506463]\n",
      " [0.96086985]]\n"
     ]
    }
   ],
   "source": [
    "def random_array(rows, columns):\n",
    "    return np.random.rand(int(rows), columns)\n",
    "\n",
    "a1 = random_array(1, 1)\n",
    "a2 = random_array(10, 1)\n",
    "a3 = random_array(100, 1)\n",
    "a4 = random_array(1_000, 1)\n",
    "a5 = random_array(10_000, 1)\n",
    "a6 = random_array(100_000, 1)\n",
    "a7 = random_array(1_000_000, 1)\n",
    "a8 = random_array(10_000_000, 1)\n",
    "\n",
    "# Example output\n",
    "print(a1, a2, sep='\\n\\n')"
   ]
  },
  {
   "cell_type": "code",
   "execution_count": 87,
   "metadata": {
    "pycharm": {
     "name": "#%%\n"
    }
   },
   "outputs": [
    {
     "name": "stdout",
     "output_type": "stream",
     "text": [
      "[0.7002798831999606]\n",
      "\n",
      "[0.35595218544510554, 0.9887575149309975, 0.23710326379088875, 0.8352231545173859, 0.04704934931326221, 0.6654333901308493, 0.2835830123003693, 0.305302133201766, 0.3550646307666714, 0.9608698498673375]\n"
     ]
    }
   ],
   "source": [
    "def random_list(np_array):\n",
    "    return np_array.flatten().tolist()\n",
    "\n",
    "d1 = random_list(a1)\n",
    "d2 = random_list(a2)\n",
    "d3 = random_list(a3)\n",
    "d4 = random_list(a4)\n",
    "d5 = random_list(a5)\n",
    "d6 = random_list(a6)\n",
    "d7 = random_list(a7)\n",
    "d8 = random_list(a8)\n",
    "\n",
    "# Example output\n",
    "print(d1, d2, sep='\\n\\n')"
   ]
  },
  {
   "cell_type": "markdown",
   "metadata": {},
   "source": [
    "## Filter methods"
   ]
  },
  {
   "cell_type": "code",
   "execution_count": 88,
   "metadata": {
    "pycharm": {
     "name": "#%%\n"
    }
   },
   "outputs": [],
   "source": [
    "class FilterMethodsNumeric:\n",
    "    def __init__(self, list_, threshold=0.2):\n",
    "        self.list_ = list_\n",
    "        self.threshold = threshold\n",
    "\n",
    "    def filter_for_loops(self):\n",
    "        filtered_list = []\n",
    "        for i in range(len(self.list_)):\n",
    "            if self.list_[i] < self.threshold:\n",
    "                filtered_list.append(self.list_[i])\n",
    "\n",
    "        return filtered_list\n",
    "\n",
    "    def filter_list_to_array_to_list(self):\n",
    "        np_array = np.array(self.list_)\n",
    "        np_array = np_array[np_array < self.threshold]\n",
    "        return np_array.tolist()\n",
    "\n",
    "    def filter_list_comprehension(self):\n",
    "        return [x for x in self.list_ if x < self.threshold]\n",
    "\n",
    "    def filter_filter(self):\n",
    "        return list(filter(lambda x: x < self.threshold, self.list_))\n",
    "\n",
    "    def filter_set(self):\n",
    "        s = set(self.list_)\n",
    "        return [x for x in s if x < self.threshold]\n",
    "\n",
    "fm = FilterMethodsNumeric(list_=d2, threshold=0.2)"
   ]
  },
  {
   "cell_type": "code",
   "execution_count": 89,
   "metadata": {
    "pycharm": {
     "name": "#%%\n"
    }
   },
   "outputs": [
    {
     "data": {
      "text/plain": "[0.04704934931326221]"
     },
     "execution_count": 89,
     "metadata": {},
     "output_type": "execute_result"
    }
   ],
   "source": [
    "# Testing\n",
    "fm.filter_list_comprehension()"
   ]
  },
  {
   "cell_type": "code",
   "execution_count": 99,
   "metadata": {
    "pycharm": {
     "name": "#%%\n"
    }
   },
   "outputs": [],
   "source": [
    "# fm.filter_filter()"
   ]
  },
  {
   "cell_type": "code",
   "execution_count": 100,
   "metadata": {
    "pycharm": {
     "name": "#%%\n"
    }
   },
   "outputs": [],
   "source": [
    "# fm.filter_list_to_array_to_list()"
   ]
  },
  {
   "cell_type": "code",
   "execution_count": 98,
   "outputs": [],
   "source": [
    "# fm.filter_for_loops()"
   ],
   "metadata": {
    "collapsed": false,
    "pycharm": {
     "name": "#%%\n"
    }
   }
  },
  {
   "cell_type": "code",
   "execution_count": 97,
   "outputs": [],
   "source": [
    "# fm.filter_set()"
   ],
   "metadata": {
    "collapsed": false,
    "pycharm": {
     "name": "#%%\n"
    }
   }
  },
  {
   "cell_type": "markdown",
   "metadata": {
    "pycharm": {
     "name": "#%% md\n"
    }
   },
   "source": [
    "# Execution time summary\n",
    "We display the final output as the ratio of each execution method vs the fastest method. Instead of looking at the absolute execution time, we prefer the relative time. This is because you might run the code in different machines, and it might be more interesting to know that method A was 3x slower, than to know it was 35 seconds slower."
   ]
  },
  {
   "cell_type": "code",
   "execution_count": 95,
   "metadata": {
    "pycharm": {
     "name": "#%%\n"
    }
   },
   "outputs": [],
   "source": [
    "results_dict = {'rows': [], 'for_loops': [], 'list_to_array_to_list': [], 'list_comprehension': [], 'filter': [], 'set': []}\n",
    "\n",
    "n = 10\n",
    "\n",
    "for ls in [d1, d2, d3, d4, d5, d6, d7, d8]:\n",
    "    results_dict['rows'].append(len(ls))\n",
    "\n",
    "    fm = FilterMethodsNumeric(list_=ls, threshold=0.2)\n",
    "    results_dict['for_loops'].append(timeit.timeit(lambda: fm.filter_for_loops(), number=n))\n",
    "    results_dict['list_to_array_to_list'].append(timeit.timeit(lambda: fm.filter_list_to_array_to_list(), number=n))\n",
    "    results_dict['list_comprehension'].append(timeit.timeit(lambda: fm.filter_list_comprehension(), number=n))\n",
    "    results_dict['filter'].append(timeit.timeit(lambda: fm.filter_filter(), number=n))\n",
    "    results_dict['set'].append(timeit.timeit(lambda: fm.filter_set(), number=n))\n",
    "\n",
    "results_df = pd.DataFrame(results_dict)\n",
    "results_df.index = results_df['rows']\n",
    "results_df = results_df.drop('rows', axis=1)\n",
    "\n",
    "results_df['min_time_of_all_methods'] = results_df.min(axis=1)\n",
    "results_df['for_loop_deterioration'] = (results_df['for_loops']/results_df['min_time_of_all_methods'])-1\n",
    "results_df['array_list_deterioration'] = (results_df['list_to_array_to_list']/results_df['min_time_of_all_methods'])-1\n",
    "results_df['list_comprehension_deterioration'] = (results_df['list_comprehension']/results_df['min_time_of_all_methods'])-1\n",
    "results_df['filter_deterioration'] = (results_df['filter']/results_df['min_time_of_all_methods'])-1\n",
    "results_df['set_deterioration'] = (results_df['set']/results_df['min_time_of_all_methods'])-1"
   ]
  },
  {
   "cell_type": "code",
   "execution_count": 96,
   "metadata": {
    "pycharm": {
     "name": "#%%\n"
    }
   },
   "outputs": [
    {
     "data": {
      "text/plain": "<pandas.io.formats.style.Styler at 0x129eeb8b0>",
      "text/html": "<style type=\"text/css\">\n#T_402e4_row0_col4, #T_402e4_row1_col0, #T_402e4_row1_col1, #T_402e4_row4_col2, #T_402e4_row4_col3, #T_402e4_row4_col5, #T_402e4_row4_col6, #T_402e4_row4_col7 {\n  color: white;\n  background-color: red;\n}\n#T_402e4_row2_col0, #T_402e4_row2_col1, #T_402e4_row2_col2, #T_402e4_row2_col3, #T_402e4_row2_col4, #T_402e4_row2_col5, #T_402e4_row2_col6, #T_402e4_row2_col7 {\n  color: white;\n  background-color: darkgreen;\n}\n</style>\n<table id=\"T_402e4_\">\n  <thead>\n    <tr>\n      <th class=\"index_name level0\" >rows</th>\n      <th class=\"col_heading level0 col0\" >1</th>\n      <th class=\"col_heading level0 col1\" >10</th>\n      <th class=\"col_heading level0 col2\" >100</th>\n      <th class=\"col_heading level0 col3\" >1000</th>\n      <th class=\"col_heading level0 col4\" >10000</th>\n      <th class=\"col_heading level0 col5\" >100000</th>\n      <th class=\"col_heading level0 col6\" >1000000</th>\n      <th class=\"col_heading level0 col7\" >10000000</th>\n    </tr>\n  </thead>\n  <tbody>\n    <tr>\n      <th id=\"T_402e4_level0_row0\" class=\"row_heading level0 row0\" >for_loop_deterioration</th>\n      <td id=\"T_402e4_row0_col0\" class=\"data row0 col0\" >0.30</td>\n      <td id=\"T_402e4_row0_col1\" class=\"data row0 col1\" >0.72</td>\n      <td id=\"T_402e4_row0_col2\" class=\"data row0 col2\" >1.16</td>\n      <td id=\"T_402e4_row0_col3\" class=\"data row0 col3\" >1.41</td>\n      <td id=\"T_402e4_row0_col4\" class=\"data row0 col4\" >1.74</td>\n      <td id=\"T_402e4_row0_col5\" class=\"data row0 col5\" >1.52</td>\n      <td id=\"T_402e4_row0_col6\" class=\"data row0 col6\" >1.50</td>\n      <td id=\"T_402e4_row0_col7\" class=\"data row0 col7\" >1.27</td>\n    </tr>\n    <tr>\n      <th id=\"T_402e4_level0_row1\" class=\"row_heading level0 row1\" >array_list_deterioration</th>\n      <td id=\"T_402e4_row1_col0\" class=\"data row1 col0\" >5.46</td>\n      <td id=\"T_402e4_row1_col1\" class=\"data row1 col1\" >2.76</td>\n      <td id=\"T_402e4_row1_col2\" class=\"data row1 col2\" >0.88</td>\n      <td id=\"T_402e4_row1_col3\" class=\"data row1 col3\" >0.92</td>\n      <td id=\"T_402e4_row1_col4\" class=\"data row1 col4\" >0.17</td>\n      <td id=\"T_402e4_row1_col5\" class=\"data row1 col5\" >0.20</td>\n      <td id=\"T_402e4_row1_col6\" class=\"data row1 col6\" >0.33</td>\n      <td id=\"T_402e4_row1_col7\" class=\"data row1 col7\" >0.26</td>\n    </tr>\n    <tr>\n      <th id=\"T_402e4_level0_row2\" class=\"row_heading level0 row2\" >list_comprehension_deterioration</th>\n      <td id=\"T_402e4_row2_col0\" class=\"data row2 col0\" >0.00</td>\n      <td id=\"T_402e4_row2_col1\" class=\"data row2 col1\" >0.00</td>\n      <td id=\"T_402e4_row2_col2\" class=\"data row2 col2\" >0.00</td>\n      <td id=\"T_402e4_row2_col3\" class=\"data row2 col3\" >0.00</td>\n      <td id=\"T_402e4_row2_col4\" class=\"data row2 col4\" >0.00</td>\n      <td id=\"T_402e4_row2_col5\" class=\"data row2 col5\" >0.00</td>\n      <td id=\"T_402e4_row2_col6\" class=\"data row2 col6\" >0.00</td>\n      <td id=\"T_402e4_row2_col7\" class=\"data row2 col7\" >0.00</td>\n    </tr>\n    <tr>\n      <th id=\"T_402e4_level0_row3\" class=\"row_heading level0 row3\" >filter_deterioration</th>\n      <td id=\"T_402e4_row3_col0\" class=\"data row3 col0\" >0.87</td>\n      <td id=\"T_402e4_row3_col1\" class=\"data row3 col1\" >0.81</td>\n      <td id=\"T_402e4_row3_col2\" class=\"data row3 col2\" >1.39</td>\n      <td id=\"T_402e4_row3_col3\" class=\"data row3 col3\" >1.15</td>\n      <td id=\"T_402e4_row3_col4\" class=\"data row3 col4\" >1.17</td>\n      <td id=\"T_402e4_row3_col5\" class=\"data row3 col5\" >1.70</td>\n      <td id=\"T_402e4_row3_col6\" class=\"data row3 col6\" >1.22</td>\n      <td id=\"T_402e4_row3_col7\" class=\"data row3 col7\" >0.97</td>\n    </tr>\n    <tr>\n      <th id=\"T_402e4_level0_row4\" class=\"row_heading level0 row4\" >set_deterioration</th>\n      <td id=\"T_402e4_row4_col0\" class=\"data row4 col0\" >0.46</td>\n      <td id=\"T_402e4_row4_col1\" class=\"data row4 col1\" >0.71</td>\n      <td id=\"T_402e4_row4_col2\" class=\"data row4 col2\" >5.68</td>\n      <td id=\"T_402e4_row4_col3\" class=\"data row4 col3\" >1.55</td>\n      <td id=\"T_402e4_row4_col4\" class=\"data row4 col4\" >1.68</td>\n      <td id=\"T_402e4_row4_col5\" class=\"data row4 col5\" >3.04</td>\n      <td id=\"T_402e4_row4_col6\" class=\"data row4 col6\" >5.68</td>\n      <td id=\"T_402e4_row4_col7\" class=\"data row4 col7\" >4.28</td>\n    </tr>\n  </tbody>\n</table>\n"
     },
     "execution_count": 96,
     "metadata": {},
     "output_type": "execute_result"
    }
   ],
   "source": [
    "# Execution time proportion between of method/fastest.\n",
    "present_df = results_df[['for_loop_deterioration', 'array_list_deterioration','list_comprehension_deterioration', 'filter_deterioration', 'set_deterioration']].transpose()\n",
    "present_df = (present_df.style.format(precision=2)\n",
    "              .apply(highlight_min, props='color:white;background-color:darkgreen', axis=0)\n",
    "              .apply(highlight_max, props='color:white;background-color:red', axis=0)\n",
    "             )\n",
    "present_df"
   ]
  }
 ],
 "metadata": {
  "kernelspec": {
   "display_name": "Python 3",
   "language": "python",
   "name": "python3"
  },
  "language_info": {
   "codemirror_mode": {
    "name": "ipython",
    "version": 3
   },
   "file_extension": ".py",
   "mimetype": "text/x-python",
   "name": "python",
   "nbconvert_exporter": "python",
   "pygments_lexer": "ipython3",
   "version": "3.8.8"
  },
  "toc": {
   "base_numbering": 1,
   "nav_menu": {},
   "number_sections": true,
   "sideBar": true,
   "skip_h1_title": false,
   "title_cell": "Table of Contents",
   "title_sidebar": "Contents",
   "toc_cell": false,
   "toc_position": {},
   "toc_section_display": true,
   "toc_window_display": false
  },
  "varInspector": {
   "cols": {
    "lenName": 16,
    "lenType": 16,
    "lenVar": 40
   },
   "kernels_config": {
    "python": {
     "delete_cmd_postfix": "",
     "delete_cmd_prefix": "del ",
     "library": "var_list.py",
     "varRefreshCmd": "print(var_dic_list())"
    },
    "r": {
     "delete_cmd_postfix": ") ",
     "delete_cmd_prefix": "rm(",
     "library": "var_list.r",
     "varRefreshCmd": "cat(var_dic_list()) "
    }
   },
   "types_to_exclude": [
    "module",
    "function",
    "builtin_function_or_method",
    "instance",
    "_Feature"
   ],
   "window_display": false
  }
 },
 "nbformat": 4,
 "nbformat_minor": 1
}