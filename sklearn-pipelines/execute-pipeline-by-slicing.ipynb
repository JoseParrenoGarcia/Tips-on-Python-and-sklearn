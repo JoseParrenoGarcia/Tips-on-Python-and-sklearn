{
 "cells": [
  {
   "cell_type": "code",
   "execution_count": 30,
   "metadata": {
    "collapsed": true
   },
   "outputs": [],
   "source": [
    "import pandas as pd\n",
    "import numpy as np\n",
    "\n",
    "from sklearn.model_selection import train_test_split\n",
    "from sklearn.linear_model import LinearRegression\n",
    "\n",
    "from sklearn.preprocessing import StandardScaler, OrdinalEncoder\n",
    "from sklearn.impute import SimpleImputer\n",
    "from sklearn.compose import ColumnTransformer\n",
    "from sklearn.pipeline import Pipeline\n",
    "from sklearn.feature_selection import SelectPercentile, f_regression"
   ]
  },
  {
   "cell_type": "markdown",
   "source": [
    "from sklearn.metrics import r2_score\n",
    "\n",
    "# Dataset: Bike Sharing Daily\n",
    "*Source: https: // www.kaggle.com / contactprad / bike - share - daily - data\n",
    "*Licence: [1]\n",
    "Fanaee - T, Hadi, and Gama, Joao, \"Event labeling combining ensemble detectors and background knowledge\", Progress in Artificial\n",
    "Intelligence(2013): pp.\n",
    "1 - 15, Springer\n",
    "Berlin\n",
    "Heidelberg, doi: 10.1007 / s13748 - 013 - 0040 - 3.\n",
    "\n",
    "\n",
    "@article\n",
    "\n",
    "\n",
    "{\n",
    "    year = {2013},\n",
    "           issn = {2192 - 6352},\n",
    "                  journal = {Progress in Artificial\n",
    "Intelligence},\n",
    "doi={10.1007 / s13748-013-0040-3},\n",
    "title={Event labeling combining ensemble detectors and background knowledge},\n",
    "url={http: // dx.doi.org / 10.1007 / s13748-013-0040-3},\n",
    "publisher={Springer Berlin Heidelberg},\n",
    "keywords={Event labeling; Event detection; Ensemble learning; Background knowledge},\n",
    "author={Fanaee-T, Hadi and Gama, Joao},\n",
    "pages={1-15}\n",
    "}"
   ],
   "metadata": {
    "collapsed": false,
    "pycharm": {
     "name": "#%% md\n"
    }
   }
  },
  {
   "cell_type": "code",
   "execution_count": 3,
   "outputs": [],
   "source": [
    "data = pd.read_csv('datasets/bike_sharing_daily.csv')\n",
    "\n",
    "X = data.drop('cnt',axis=1)\n",
    "y = data['cnt']\n",
    "X_train, X_test, y_train, y_test = train_test_split(X, y, test_size=0.2, random_state=123)"
   ],
   "metadata": {
    "collapsed": false,
    "pycharm": {
     "name": "#%%\n"
    }
   }
  },
  {
   "cell_type": "markdown",
   "source": [
    "# Create the pipeline"
   ],
   "metadata": {
    "collapsed": false,
    "pycharm": {
     "name": "#%% md\n"
    }
   }
  },
  {
   "cell_type": "code",
   "execution_count": 31,
   "outputs": [
    {
     "data": {
      "text/plain": "Pipeline(steps=[('preprocessor',\n                 ColumnTransformer(transformers=[('numeric',\n                                                  Pipeline(steps=[('imputer',\n                                                                   SimpleImputer()),\n                                                                  ('scaler',\n                                                                   StandardScaler())]),\n                                                  ['temp', 'atemp', 'hum',\n                                                   'windspeed']),\n                                                 ('categorical',\n                                                  Pipeline(steps=[('imputer',\n                                                                   SimpleImputer(strategy='constant')),\n                                                                  ('encoder',\n                                                                   OrdinalEncoder())]),\n                                                  ['season', 'mnth', 'holiday',\n                                                   'weekday', 'workingday',\n                                                   'weathersit'])])),\n                ('feature_selector',\n                 SelectPercentile(percentile=50,\n                                  score_func=<function f_regression at 0x13ff87940>)),\n                ('regressor', LinearRegression())])"
     },
     "execution_count": 31,
     "metadata": {},
     "output_type": "execute_result"
    }
   ],
   "source": [
    "# NUMERIC FEATURES\n",
    "numeric_features = ['temp', 'atemp', 'hum', 'windspeed']\n",
    "numeric_transformer = Pipeline(steps=[\n",
    "    ('imputer', SimpleImputer(strategy='mean')),\n",
    "    ('scaler', StandardScaler())])\n",
    "\n",
    "# CATEGORICAL FEATURES\n",
    "categorical_features = ['season', 'mnth', 'holiday', 'weekday', 'workingday', 'weathersit']\n",
    "categorical_transformer = Pipeline(steps=[\n",
    "    ('imputer', SimpleImputer(strategy='constant')),\n",
    "    ('encoder', OrdinalEncoder())])\n",
    "\n",
    "# PREPROCESSING STEPS\n",
    "preprocessor = ColumnTransformer(transformers=[\n",
    "    ('numeric', numeric_transformer, numeric_features)\n",
    "    ,('categorical', categorical_transformer, categorical_features)])\n",
    "\n",
    "# SELECTING FEATURES\n",
    "fs = SelectPercentile(f_regression, percentile=50)\n",
    "\n",
    "# PIPELINE INCLUDING A MODEL\n",
    "pipeline = Pipeline(steps = [\n",
    "    ('preprocessor', preprocessor),\n",
    "    ('feature_selector', fs),\n",
    "    ('regressor',LinearRegression())])\n",
    "pipeline"
   ],
   "metadata": {
    "collapsed": false,
    "pycharm": {
     "name": "#%%\n"
    }
   }
  },
  {
   "cell_type": "markdown",
   "source": [
    "# Execute preprocessing steps"
   ],
   "metadata": {
    "collapsed": false,
    "pycharm": {
     "name": "#%% md\n"
    }
   }
  },
  {
   "cell_type": "code",
   "execution_count": 32,
   "outputs": [
    {
     "data": {
      "text/plain": "         temp     atemp       hum  windspeed  season  mnth  holiday  weekday  \\\n0    0.900346  0.837047  0.684351  -0.942055     3.0   9.0      0.0      4.0   \n1   -1.292066 -1.309675 -0.824082  -0.206565     3.0  11.0      0.0      4.0   \n2    0.945830  0.868041  1.538345   0.233291     2.0   6.0      0.0      5.0   \n3    1.136870  1.069425 -0.333991   0.585068     2.0   7.0      0.0      2.0   \n4    0.777535  0.635632  1.570624  -0.542439     3.0   8.0      0.0      3.0   \n..        ...       ...       ...        ...     ...   ...      ...      ...   \n579 -0.819013 -0.798267  1.773118  -0.742305     1.0   3.0      0.0      6.0   \n580 -0.891788 -0.902887 -0.871039   0.432939     3.0  10.0      0.0      6.0   \n581 -1.032797 -1.205031 -1.284830   2.887653     0.0   0.0      0.0      3.0   \n582 -0.668910 -0.589027  0.470116   0.017303     0.0   0.0      0.0      0.0   \n583  1.023157  0.957060  0.854558  -0.646306     1.0   4.0      0.0      5.0   \n\n     workingday  weathersit  \n0           1.0         1.0  \n1           1.0         0.0  \n2           1.0         1.0  \n3           1.0         0.0  \n4           1.0         1.0  \n..          ...         ...  \n579         0.0         1.0  \n580         0.0         0.0  \n581         1.0         0.0  \n582         0.0         0.0  \n583         1.0         0.0  \n\n[584 rows x 10 columns]",
      "text/html": "<div>\n<style scoped>\n    .dataframe tbody tr th:only-of-type {\n        vertical-align: middle;\n    }\n\n    .dataframe tbody tr th {\n        vertical-align: top;\n    }\n\n    .dataframe thead th {\n        text-align: right;\n    }\n</style>\n<table border=\"1\" class=\"dataframe\">\n  <thead>\n    <tr style=\"text-align: right;\">\n      <th></th>\n      <th>temp</th>\n      <th>atemp</th>\n      <th>hum</th>\n      <th>windspeed</th>\n      <th>season</th>\n      <th>mnth</th>\n      <th>holiday</th>\n      <th>weekday</th>\n      <th>workingday</th>\n      <th>weathersit</th>\n    </tr>\n  </thead>\n  <tbody>\n    <tr>\n      <th>0</th>\n      <td>0.900346</td>\n      <td>0.837047</td>\n      <td>0.684351</td>\n      <td>-0.942055</td>\n      <td>3.0</td>\n      <td>9.0</td>\n      <td>0.0</td>\n      <td>4.0</td>\n      <td>1.0</td>\n      <td>1.0</td>\n    </tr>\n    <tr>\n      <th>1</th>\n      <td>-1.292066</td>\n      <td>-1.309675</td>\n      <td>-0.824082</td>\n      <td>-0.206565</td>\n      <td>3.0</td>\n      <td>11.0</td>\n      <td>0.0</td>\n      <td>4.0</td>\n      <td>1.0</td>\n      <td>0.0</td>\n    </tr>\n    <tr>\n      <th>2</th>\n      <td>0.945830</td>\n      <td>0.868041</td>\n      <td>1.538345</td>\n      <td>0.233291</td>\n      <td>2.0</td>\n      <td>6.0</td>\n      <td>0.0</td>\n      <td>5.0</td>\n      <td>1.0</td>\n      <td>1.0</td>\n    </tr>\n    <tr>\n      <th>3</th>\n      <td>1.136870</td>\n      <td>1.069425</td>\n      <td>-0.333991</td>\n      <td>0.585068</td>\n      <td>2.0</td>\n      <td>7.0</td>\n      <td>0.0</td>\n      <td>2.0</td>\n      <td>1.0</td>\n      <td>0.0</td>\n    </tr>\n    <tr>\n      <th>4</th>\n      <td>0.777535</td>\n      <td>0.635632</td>\n      <td>1.570624</td>\n      <td>-0.542439</td>\n      <td>3.0</td>\n      <td>8.0</td>\n      <td>0.0</td>\n      <td>3.0</td>\n      <td>1.0</td>\n      <td>1.0</td>\n    </tr>\n    <tr>\n      <th>...</th>\n      <td>...</td>\n      <td>...</td>\n      <td>...</td>\n      <td>...</td>\n      <td>...</td>\n      <td>...</td>\n      <td>...</td>\n      <td>...</td>\n      <td>...</td>\n      <td>...</td>\n    </tr>\n    <tr>\n      <th>579</th>\n      <td>-0.819013</td>\n      <td>-0.798267</td>\n      <td>1.773118</td>\n      <td>-0.742305</td>\n      <td>1.0</td>\n      <td>3.0</td>\n      <td>0.0</td>\n      <td>6.0</td>\n      <td>0.0</td>\n      <td>1.0</td>\n    </tr>\n    <tr>\n      <th>580</th>\n      <td>-0.891788</td>\n      <td>-0.902887</td>\n      <td>-0.871039</td>\n      <td>0.432939</td>\n      <td>3.0</td>\n      <td>10.0</td>\n      <td>0.0</td>\n      <td>6.0</td>\n      <td>0.0</td>\n      <td>0.0</td>\n    </tr>\n    <tr>\n      <th>581</th>\n      <td>-1.032797</td>\n      <td>-1.205031</td>\n      <td>-1.284830</td>\n      <td>2.887653</td>\n      <td>0.0</td>\n      <td>0.0</td>\n      <td>0.0</td>\n      <td>3.0</td>\n      <td>1.0</td>\n      <td>0.0</td>\n    </tr>\n    <tr>\n      <th>582</th>\n      <td>-0.668910</td>\n      <td>-0.589027</td>\n      <td>0.470116</td>\n      <td>0.017303</td>\n      <td>0.0</td>\n      <td>0.0</td>\n      <td>0.0</td>\n      <td>0.0</td>\n      <td>0.0</td>\n      <td>0.0</td>\n    </tr>\n    <tr>\n      <th>583</th>\n      <td>1.023157</td>\n      <td>0.957060</td>\n      <td>0.854558</td>\n      <td>-0.646306</td>\n      <td>1.0</td>\n      <td>4.0</td>\n      <td>0.0</td>\n      <td>5.0</td>\n      <td>1.0</td>\n      <td>0.0</td>\n    </tr>\n  </tbody>\n</table>\n<p>584 rows × 10 columns</p>\n</div>"
     },
     "execution_count": 32,
     "metadata": {},
     "output_type": "execute_result"
    }
   ],
   "source": [
    "pipeline_array = pipeline[0].fit_transform(X_train)\n",
    "pipeline_colnames = pipeline.named_steps.preprocessor.transformers_[0][-1] + pipeline.named_steps.preprocessor.transformers_[1][-1]\n",
    "pipeline_df = pd.DataFrame(data=pipeline_array, columns=pipeline_colnames)\n",
    "pipeline_df"
   ],
   "metadata": {
    "collapsed": false,
    "pycharm": {
     "name": "#%%\n"
    }
   }
  },
  {
   "cell_type": "markdown",
   "source": [
    "# Execute preprocessing steps + feature selection"
   ],
   "metadata": {
    "collapsed": false,
    "pycharm": {
     "name": "#%% md\n"
    }
   }
  },
  {
   "cell_type": "code",
   "execution_count": 46,
   "outputs": [
    {
     "data": {
      "text/plain": "         temp     atemp  season  mnth  weathersit\n0    0.900346  0.837047     3.0   9.0         1.0\n1   -1.292066 -1.309675     3.0  11.0         0.0\n2    0.945830  0.868041     2.0   6.0         1.0\n3    1.136870  1.069425     2.0   7.0         0.0\n4    0.777535  0.635632     3.0   8.0         1.0\n..        ...       ...     ...   ...         ...\n579 -0.819013 -0.798267     1.0   3.0         1.0\n580 -0.891788 -0.902887     3.0  10.0         0.0\n581 -1.032797 -1.205031     0.0   0.0         0.0\n582 -0.668910 -0.589027     0.0   0.0         0.0\n583  1.023157  0.957060     1.0   4.0         0.0\n\n[584 rows x 5 columns]",
      "text/html": "<div>\n<style scoped>\n    .dataframe tbody tr th:only-of-type {\n        vertical-align: middle;\n    }\n\n    .dataframe tbody tr th {\n        vertical-align: top;\n    }\n\n    .dataframe thead th {\n        text-align: right;\n    }\n</style>\n<table border=\"1\" class=\"dataframe\">\n  <thead>\n    <tr style=\"text-align: right;\">\n      <th></th>\n      <th>temp</th>\n      <th>atemp</th>\n      <th>season</th>\n      <th>mnth</th>\n      <th>weathersit</th>\n    </tr>\n  </thead>\n  <tbody>\n    <tr>\n      <th>0</th>\n      <td>0.900346</td>\n      <td>0.837047</td>\n      <td>3.0</td>\n      <td>9.0</td>\n      <td>1.0</td>\n    </tr>\n    <tr>\n      <th>1</th>\n      <td>-1.292066</td>\n      <td>-1.309675</td>\n      <td>3.0</td>\n      <td>11.0</td>\n      <td>0.0</td>\n    </tr>\n    <tr>\n      <th>2</th>\n      <td>0.945830</td>\n      <td>0.868041</td>\n      <td>2.0</td>\n      <td>6.0</td>\n      <td>1.0</td>\n    </tr>\n    <tr>\n      <th>3</th>\n      <td>1.136870</td>\n      <td>1.069425</td>\n      <td>2.0</td>\n      <td>7.0</td>\n      <td>0.0</td>\n    </tr>\n    <tr>\n      <th>4</th>\n      <td>0.777535</td>\n      <td>0.635632</td>\n      <td>3.0</td>\n      <td>8.0</td>\n      <td>1.0</td>\n    </tr>\n    <tr>\n      <th>...</th>\n      <td>...</td>\n      <td>...</td>\n      <td>...</td>\n      <td>...</td>\n      <td>...</td>\n    </tr>\n    <tr>\n      <th>579</th>\n      <td>-0.819013</td>\n      <td>-0.798267</td>\n      <td>1.0</td>\n      <td>3.0</td>\n      <td>1.0</td>\n    </tr>\n    <tr>\n      <th>580</th>\n      <td>-0.891788</td>\n      <td>-0.902887</td>\n      <td>3.0</td>\n      <td>10.0</td>\n      <td>0.0</td>\n    </tr>\n    <tr>\n      <th>581</th>\n      <td>-1.032797</td>\n      <td>-1.205031</td>\n      <td>0.0</td>\n      <td>0.0</td>\n      <td>0.0</td>\n    </tr>\n    <tr>\n      <th>582</th>\n      <td>-0.668910</td>\n      <td>-0.589027</td>\n      <td>0.0</td>\n      <td>0.0</td>\n      <td>0.0</td>\n    </tr>\n    <tr>\n      <th>583</th>\n      <td>1.023157</td>\n      <td>0.957060</td>\n      <td>1.0</td>\n      <td>4.0</td>\n      <td>0.0</td>\n    </tr>\n  </tbody>\n</table>\n<p>584 rows × 5 columns</p>\n</div>"
     },
     "execution_count": 46,
     "metadata": {},
     "output_type": "execute_result"
    }
   ],
   "source": [
    "pipeline_array = pipeline[0:2].fit_transform(X_train, y_train)\n",
    "\n",
    "# 1. Extract the initial column names\n",
    "pipeline_colnames = np.array(pipeline.named_steps.preprocessor.transformers_[0][-1] + pipeline.named_steps.preprocessor.transformers_[1][-1])\n",
    "\n",
    "# 2. Extract the ones decided by the feature selector using the get_support() masking\n",
    "pipeline_colnames = pipeline_colnames[pipeline.named_steps.feature_selector.get_support()]\n",
    "\n",
    "pipeline_df = pd.DataFrame(data=pipeline_array, columns=pipeline_colnames)\n",
    "pipeline_df"
   ],
   "metadata": {
    "collapsed": false,
    "pycharm": {
     "name": "#%%\n"
    }
   }
  }
 ],
 "metadata": {
  "kernelspec": {
   "display_name": "Python 3",
   "language": "python",
   "name": "python3"
  },
  "language_info": {
   "codemirror_mode": {
    "name": "ipython",
    "version": 2
   },
   "file_extension": ".py",
   "mimetype": "text/x-python",
   "name": "python",
   "nbconvert_exporter": "python",
   "pygments_lexer": "ipython2",
   "version": "2.7.6"
  }
 },
 "nbformat": 4,
 "nbformat_minor": 0
}