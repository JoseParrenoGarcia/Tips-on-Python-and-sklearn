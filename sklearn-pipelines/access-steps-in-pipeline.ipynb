{
 "cells": [
  {
   "cell_type": "code",
   "execution_count": 31,
   "metadata": {
    "collapsed": true
   },
   "outputs": [],
   "source": [
    "import pandas as pd\n",
    "import numpy as np\n",
    "\n",
    "from sklearn.model_selection import train_test_split\n",
    "from sklearn.linear_model import LinearRegression\n",
    "\n",
    "from sklearn.preprocessing import StandardScaler, OrdinalEncoder\n",
    "from sklearn.impute import SimpleImputer\n",
    "from sklearn.compose import ColumnTransformer\n",
    "from sklearn.pipeline import Pipeline"
   ]
  },
  {
   "cell_type": "markdown",
   "source": [
    "from sklearn.metrics import r2_score\n",
    "\n",
    "# Dataset: Bike Sharing Daily\n",
    "*Source: https: // www.kaggle.com / contactprad / bike - share - daily - data\n",
    "*Licence: [1]\n",
    "Fanaee - T, Hadi, and Gama, Joao, \"Event labeling combining ensemble detectors and background knowledge\", Progress in Artificial\n",
    "Intelligence(2013): pp.\n",
    "1 - 15, Springer\n",
    "Berlin\n",
    "Heidelberg, doi: 10.1007 / s13748 - 013 - 0040 - 3.\n",
    "\n",
    "\n",
    "@article\n",
    "\n",
    "\n",
    "{\n",
    "    year = {2013},\n",
    "           issn = {2192 - 6352},\n",
    "                  journal = {Progress in Artificial\n",
    "Intelligence},\n",
    "doi={10.1007 / s13748-013-0040-3},\n",
    "title={Event labeling combining ensemble detectors and background knowledge},\n",
    "url={http: // dx.doi.org / 10.1007 / s13748-013-0040-3},\n",
    "publisher={Springer Berlin Heidelberg},\n",
    "keywords={Event labeling; Event detection; Ensemble learning; Background knowledge},\n",
    "author={Fanaee-T, Hadi and Gama, Joao},\n",
    "pages={1-15}\n",
    "}"
   ],
   "metadata": {
    "collapsed": false,
    "pycharm": {
     "name": "#%% md\n"
    }
   }
  },
  {
   "cell_type": "code",
   "execution_count": 32,
   "outputs": [],
   "source": [
    "data = pd.read_csv('datasets/bike_sharing_daily.csv')\n",
    "\n",
    "X = data.drop('cnt',axis=1)\n",
    "y = data['cnt']\n",
    "X_train, X_test, y_train, y_test = train_test_split(X, y, test_size=0.2, random_state=123)"
   ],
   "metadata": {
    "collapsed": false,
    "pycharm": {
     "name": "#%%\n"
    }
   }
  },
  {
   "cell_type": "markdown",
   "source": [
    "# Create the pipeline"
   ],
   "metadata": {
    "collapsed": false,
    "pycharm": {
     "name": "#%% md\n"
    }
   }
  },
  {
   "cell_type": "code",
   "execution_count": 33,
   "outputs": [],
   "source": [
    "# NUMERIC FEATURES\n",
    "numeric_features = ['temp', 'atemp', 'hum', 'windspeed']\n",
    "numeric_transformer = Pipeline(steps=[\n",
    "    ('imputer', SimpleImputer(strategy='mean')),\n",
    "    ('scaler', StandardScaler())])\n",
    "\n",
    "# CATEGORICAL FEATURES\n",
    "categorical_features = ['season', 'mnth', 'holiday', 'weekday', 'workingday', 'weathersit']\n",
    "categorical_transformer = Pipeline(steps=[\n",
    "    ('imputer', SimpleImputer(strategy='constant')),\n",
    "    ('encoder', OrdinalEncoder())])\n",
    "\n",
    "# PREPROCESSING STEPS\n",
    "preprocessor = ColumnTransformer(transformers=[\n",
    "    ('numeric', numeric_transformer, numeric_features)\n",
    "    ,('categorical', categorical_transformer, categorical_features)])\n",
    "\n",
    "# PIPELINE INCLUDING A MODEL\n",
    "pipeline = Pipeline(steps = [\n",
    "    ('preprocessor', preprocessor),\n",
    "    ('regressor',LinearRegression())])"
   ],
   "metadata": {
    "collapsed": false,
    "pycharm": {
     "name": "#%%\n"
    }
   }
  },
  {
   "cell_type": "markdown",
   "source": [
    "## Fit the pipeline to the train data"
   ],
   "metadata": {
    "collapsed": false,
    "pycharm": {
     "name": "#%% md\n"
    }
   }
  },
  {
   "cell_type": "code",
   "execution_count": 34,
   "outputs": [
    {
     "name": "stdout",
     "output_type": "stream",
     "text": [
      "Pipeline(steps=[('preprocessor',\n",
      "                 ColumnTransformer(transformers=[('numeric',\n",
      "                                                  Pipeline(steps=[('imputer',\n",
      "                                                                   SimpleImputer()),\n",
      "                                                                  ('scaler',\n",
      "                                                                   StandardScaler())]),\n",
      "                                                  ['temp', 'atemp', 'hum',\n",
      "                                                   'windspeed']),\n",
      "                                                 ('categorical',\n",
      "                                                  Pipeline(steps=[('imputer',\n",
      "                                                                   SimpleImputer(strategy='constant')),\n",
      "                                                                  ('encoder',\n",
      "                                                                   OrdinalEncoder())]),\n",
      "                                                  ['season', 'mnth', 'holiday',\n",
      "                                                   'weekday', 'workingday',\n",
      "                                                   'weathersit'])])),\n",
      "                ('regressor', LinearRegression())])\n"
     ]
    }
   ],
   "source": [
    "rf_model = pipeline.fit(X_train, y_train)\n",
    "print (rf_model)"
   ],
   "metadata": {
    "collapsed": false,
    "pycharm": {
     "name": "#%%\n"
    }
   }
  },
  {
   "cell_type": "markdown",
   "source": [
    "# How to access information related with each preprocessing step?"
   ],
   "metadata": {
    "collapsed": false,
    "pycharm": {
     "name": "#%% md\n"
    }
   }
  },
  {
   "cell_type": "code",
   "execution_count": 49,
   "outputs": [
    {
     "name": "stdout",
     "output_type": "stream",
     "text": [
      "Scale: [0.18320784 0.16293262 0.14197984 0.07778217]\n",
      "Mean: [0.49254957 0.47159279 0.62575302 0.1908211 ]\n",
      "Variance: [0.03356511 0.02654704 0.02015827 0.00605007]\n",
      "Variance: ['x0' 'x1' 'x2' 'x3']\n"
     ]
    }
   ],
   "source": [
    "# NUMERIC SCALER\n",
    "print(f\"Scale: {rf_model.named_steps.preprocessor.transformers_[0][1].named_steps['scaler'].scale_}\")\n",
    "print(f\"Mean: {rf_model.named_steps.preprocessor.transformers_[0][1].named_steps['scaler'].mean_}\")\n",
    "print(f\"Variance: {rf_model.named_steps.preprocessor.transformers_[0][1].named_steps['scaler'].var_}\")"
   ],
   "metadata": {
    "collapsed": false,
    "pycharm": {
     "name": "#%%\n"
    }
   }
  },
  {
   "cell_type": "code",
   "execution_count": 53,
   "outputs": [
    {
     "name": "stdout",
     "output_type": "stream",
     "text": [
      "Scale: [array([1, 2, 3, 4]), array([ 1,  2,  3,  4,  5,  6,  7,  8,  9, 10, 11, 12]), array([0, 1]), array([0, 1, 2, 3, 4, 5, 6]), array([0, 1]), array([1, 2, 3])]\n"
     ]
    }
   ],
   "source": [
    "# CATEGORICAL ENCODER\n",
    "print(f\"Scale: {rf_model.named_steps.preprocessor.transformers_[1][1].named_steps['encoder'].categories_}\")"
   ],
   "metadata": {
    "collapsed": false,
    "pycharm": {
     "name": "#%%\n"
    }
   }
  },
  {
   "cell_type": "markdown",
   "source": [
    "# How to access information related with the model?"
   ],
   "metadata": {
    "collapsed": false,
    "pycharm": {
     "name": "#%% md\n"
    }
   }
  },
  {
   "cell_type": "code",
   "execution_count": 35,
   "outputs": [
    {
     "data": {
      "text/plain": "array([ 546.92088171,  553.77780936, -349.59325099, -305.2466437 ,\n        462.35365645,  -28.00078718, -454.49164861,   83.00523183,\n         57.63876769, -412.13271574])"
     },
     "execution_count": 35,
     "metadata": {},
     "output_type": "execute_result"
    }
   ],
   "source": [
    "rf_model.named_steps.regressor.coef_"
   ],
   "metadata": {
    "collapsed": false,
    "pycharm": {
     "name": "#%%\n"
    }
   }
  },
  {
   "cell_type": "code",
   "execution_count": 36,
   "outputs": [
    {
     "data": {
      "text/plain": "3851.451947531439"
     },
     "execution_count": 36,
     "metadata": {},
     "output_type": "execute_result"
    }
   ],
   "source": [
    "rf_model.named_steps.regressor.intercept_"
   ],
   "metadata": {
    "collapsed": false,
    "pycharm": {
     "name": "#%%\n"
    }
   }
  }
 ],
 "metadata": {
  "kernelspec": {
   "display_name": "Python 3",
   "language": "python",
   "name": "python3"
  },
  "language_info": {
   "codemirror_mode": {
    "name": "ipython",
    "version": 2
   },
   "file_extension": ".py",
   "mimetype": "text/x-python",
   "name": "python",
   "nbconvert_exporter": "python",
   "pygments_lexer": "ipython2",
   "version": "2.7.6"
  }
 },
 "nbformat": 4,
 "nbformat_minor": 0
}