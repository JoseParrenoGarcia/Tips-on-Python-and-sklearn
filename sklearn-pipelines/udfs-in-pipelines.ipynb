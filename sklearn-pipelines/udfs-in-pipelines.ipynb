{
 "cells": [
  {
   "cell_type": "code",
   "execution_count": 43,
   "metadata": {
    "collapsed": true
   },
   "outputs": [],
   "source": [
    "import pandas as pd\n",
    "import numpy as np\n",
    "\n",
    "from sklearn.model_selection import train_test_split\n",
    "from sklearn.linear_model import LinearRegression\n",
    "\n",
    "from sklearn.preprocessing import StandardScaler, OrdinalEncoder, OneHotEncoder\n",
    "from sklearn.impute import SimpleImputer\n",
    "from sklearn.compose import ColumnTransformer\n",
    "from sklearn.pipeline import Pipeline\n",
    "from sklearn.preprocessing import FunctionTransformer\n",
    "from sklearn.base import BaseEstimator, TransformerMixin"
   ]
  },
  {
   "cell_type": "markdown",
   "source": [
    "from sklearn.metrics import r2_score\n",
    "\n",
    "# Dataset: Bike Sharing Daily\n",
    "*Source: https: // www.kaggle.com / contactprad / bike - share - daily - data\n",
    "*Licence: [1]\n",
    "Fanaee - T, Hadi, and Gama, Joao, \"Event labeling combining ensemble detectors and background knowledge\", Progress in Artificial\n",
    "Intelligence(2013): pp.\n",
    "1 - 15, Springer\n",
    "Berlin\n",
    "Heidelberg, doi: 10.1007 / s13748 - 013 - 0040 - 3.\n",
    "\n",
    "\n",
    "@article\n",
    "\n",
    "\n",
    "{\n",
    "    year = {2013},\n",
    "           issn = {2192 - 6352},\n",
    "                  journal = {Progress in Artificial\n",
    "Intelligence},\n",
    "doi={10.1007 / s13748-013-0040-3},\n",
    "title={Event labeling combining ensemble detectors and background knowledge},\n",
    "url={http: // dx.doi.org / 10.1007 / s13748-013-0040-3},\n",
    "publisher={Springer Berlin Heidelberg},\n",
    "keywords={Event labeling; Event detection; Ensemble learning; Background knowledge},\n",
    "author={Fanaee-T, Hadi and Gama, Joao},\n",
    "pages={1-15}\n",
    "}"
   ],
   "metadata": {
    "collapsed": false,
    "pycharm": {
     "name": "#%% md\n"
    }
   }
  },
  {
   "cell_type": "code",
   "execution_count": 44,
   "outputs": [],
   "source": [
    "data = pd.read_csv('datasets/bike_sharing_daily.csv')\n",
    "\n",
    "X = data.drop('cnt',axis=1)\n",
    "y = data['cnt']\n",
    "X_train, X_test, y_train, y_test = train_test_split(X, y, test_size=0.2, random_state=123)"
   ],
   "metadata": {
    "collapsed": false,
    "pycharm": {
     "name": "#%%\n"
    }
   }
  },
  {
   "cell_type": "code",
   "execution_count": 45,
   "outputs": [
    {
     "data": {
      "text/plain": "     instant      dteday  season  yr  mnth  holiday  weekday  workingday  \\\n0          1  2011-01-01       1   0     1        0        6           0   \n1          2  2011-01-02       1   0     1        0        0           0   \n2          3  2011-01-03       1   0     1        0        1           1   \n3          4  2011-01-04       1   0     1        0        2           1   \n4          5  2011-01-05       1   0     1        0        3           1   \n..       ...         ...     ...  ..   ...      ...      ...         ...   \n726      727  2012-12-27       1   1    12        0        4           1   \n727      728  2012-12-28       1   1    12        0        5           1   \n728      729  2012-12-29       1   1    12        0        6           0   \n729      730  2012-12-30       1   1    12        0        0           0   \n730      731  2012-12-31       1   1    12        0        1           1   \n\n     weathersit      temp     atemp       hum  windspeed  casual  registered  \\\n0             2  0.344167  0.363625  0.805833   0.160446     331         654   \n1             2  0.363478  0.353739  0.696087   0.248539     131         670   \n2             1  0.196364  0.189405  0.437273   0.248309     120        1229   \n3             1  0.200000  0.212122  0.590435   0.160296     108        1454   \n4             1  0.226957  0.229270  0.436957   0.186900      82        1518   \n..          ...       ...       ...       ...        ...     ...         ...   \n726           2  0.254167  0.226642  0.652917   0.350133     247        1867   \n727           2  0.253333  0.255046  0.590000   0.155471     644        2451   \n728           2  0.253333  0.242400  0.752917   0.124383     159        1182   \n729           1  0.255833  0.231700  0.483333   0.350754     364        1432   \n730           2  0.215833  0.223487  0.577500   0.154846     439        2290   \n\n      cnt  \n0     985  \n1     801  \n2    1349  \n3    1562  \n4    1600  \n..    ...  \n726  2114  \n727  3095  \n728  1341  \n729  1796  \n730  2729  \n\n[731 rows x 16 columns]",
      "text/html": "<div>\n<style scoped>\n    .dataframe tbody tr th:only-of-type {\n        vertical-align: middle;\n    }\n\n    .dataframe tbody tr th {\n        vertical-align: top;\n    }\n\n    .dataframe thead th {\n        text-align: right;\n    }\n</style>\n<table border=\"1\" class=\"dataframe\">\n  <thead>\n    <tr style=\"text-align: right;\">\n      <th></th>\n      <th>instant</th>\n      <th>dteday</th>\n      <th>season</th>\n      <th>yr</th>\n      <th>mnth</th>\n      <th>holiday</th>\n      <th>weekday</th>\n      <th>workingday</th>\n      <th>weathersit</th>\n      <th>temp</th>\n      <th>atemp</th>\n      <th>hum</th>\n      <th>windspeed</th>\n      <th>casual</th>\n      <th>registered</th>\n      <th>cnt</th>\n    </tr>\n  </thead>\n  <tbody>\n    <tr>\n      <th>0</th>\n      <td>1</td>\n      <td>2011-01-01</td>\n      <td>1</td>\n      <td>0</td>\n      <td>1</td>\n      <td>0</td>\n      <td>6</td>\n      <td>0</td>\n      <td>2</td>\n      <td>0.344167</td>\n      <td>0.363625</td>\n      <td>0.805833</td>\n      <td>0.160446</td>\n      <td>331</td>\n      <td>654</td>\n      <td>985</td>\n    </tr>\n    <tr>\n      <th>1</th>\n      <td>2</td>\n      <td>2011-01-02</td>\n      <td>1</td>\n      <td>0</td>\n      <td>1</td>\n      <td>0</td>\n      <td>0</td>\n      <td>0</td>\n      <td>2</td>\n      <td>0.363478</td>\n      <td>0.353739</td>\n      <td>0.696087</td>\n      <td>0.248539</td>\n      <td>131</td>\n      <td>670</td>\n      <td>801</td>\n    </tr>\n    <tr>\n      <th>2</th>\n      <td>3</td>\n      <td>2011-01-03</td>\n      <td>1</td>\n      <td>0</td>\n      <td>1</td>\n      <td>0</td>\n      <td>1</td>\n      <td>1</td>\n      <td>1</td>\n      <td>0.196364</td>\n      <td>0.189405</td>\n      <td>0.437273</td>\n      <td>0.248309</td>\n      <td>120</td>\n      <td>1229</td>\n      <td>1349</td>\n    </tr>\n    <tr>\n      <th>3</th>\n      <td>4</td>\n      <td>2011-01-04</td>\n      <td>1</td>\n      <td>0</td>\n      <td>1</td>\n      <td>0</td>\n      <td>2</td>\n      <td>1</td>\n      <td>1</td>\n      <td>0.200000</td>\n      <td>0.212122</td>\n      <td>0.590435</td>\n      <td>0.160296</td>\n      <td>108</td>\n      <td>1454</td>\n      <td>1562</td>\n    </tr>\n    <tr>\n      <th>4</th>\n      <td>5</td>\n      <td>2011-01-05</td>\n      <td>1</td>\n      <td>0</td>\n      <td>1</td>\n      <td>0</td>\n      <td>3</td>\n      <td>1</td>\n      <td>1</td>\n      <td>0.226957</td>\n      <td>0.229270</td>\n      <td>0.436957</td>\n      <td>0.186900</td>\n      <td>82</td>\n      <td>1518</td>\n      <td>1600</td>\n    </tr>\n    <tr>\n      <th>...</th>\n      <td>...</td>\n      <td>...</td>\n      <td>...</td>\n      <td>...</td>\n      <td>...</td>\n      <td>...</td>\n      <td>...</td>\n      <td>...</td>\n      <td>...</td>\n      <td>...</td>\n      <td>...</td>\n      <td>...</td>\n      <td>...</td>\n      <td>...</td>\n      <td>...</td>\n      <td>...</td>\n    </tr>\n    <tr>\n      <th>726</th>\n      <td>727</td>\n      <td>2012-12-27</td>\n      <td>1</td>\n      <td>1</td>\n      <td>12</td>\n      <td>0</td>\n      <td>4</td>\n      <td>1</td>\n      <td>2</td>\n      <td>0.254167</td>\n      <td>0.226642</td>\n      <td>0.652917</td>\n      <td>0.350133</td>\n      <td>247</td>\n      <td>1867</td>\n      <td>2114</td>\n    </tr>\n    <tr>\n      <th>727</th>\n      <td>728</td>\n      <td>2012-12-28</td>\n      <td>1</td>\n      <td>1</td>\n      <td>12</td>\n      <td>0</td>\n      <td>5</td>\n      <td>1</td>\n      <td>2</td>\n      <td>0.253333</td>\n      <td>0.255046</td>\n      <td>0.590000</td>\n      <td>0.155471</td>\n      <td>644</td>\n      <td>2451</td>\n      <td>3095</td>\n    </tr>\n    <tr>\n      <th>728</th>\n      <td>729</td>\n      <td>2012-12-29</td>\n      <td>1</td>\n      <td>1</td>\n      <td>12</td>\n      <td>0</td>\n      <td>6</td>\n      <td>0</td>\n      <td>2</td>\n      <td>0.253333</td>\n      <td>0.242400</td>\n      <td>0.752917</td>\n      <td>0.124383</td>\n      <td>159</td>\n      <td>1182</td>\n      <td>1341</td>\n    </tr>\n    <tr>\n      <th>729</th>\n      <td>730</td>\n      <td>2012-12-30</td>\n      <td>1</td>\n      <td>1</td>\n      <td>12</td>\n      <td>0</td>\n      <td>0</td>\n      <td>0</td>\n      <td>1</td>\n      <td>0.255833</td>\n      <td>0.231700</td>\n      <td>0.483333</td>\n      <td>0.350754</td>\n      <td>364</td>\n      <td>1432</td>\n      <td>1796</td>\n    </tr>\n    <tr>\n      <th>730</th>\n      <td>731</td>\n      <td>2012-12-31</td>\n      <td>1</td>\n      <td>1</td>\n      <td>12</td>\n      <td>0</td>\n      <td>1</td>\n      <td>1</td>\n      <td>2</td>\n      <td>0.215833</td>\n      <td>0.223487</td>\n      <td>0.577500</td>\n      <td>0.154846</td>\n      <td>439</td>\n      <td>2290</td>\n      <td>2729</td>\n    </tr>\n  </tbody>\n</table>\n<p>731 rows × 16 columns</p>\n</div>"
     },
     "execution_count": 45,
     "metadata": {},
     "output_type": "execute_result"
    }
   ],
   "source": [
    "data"
   ],
   "metadata": {
    "collapsed": false,
    "pycharm": {
     "name": "#%%\n"
    }
   }
  },
  {
   "cell_type": "markdown",
   "source": [
    "# Create a custom  transformer class - to add more features to the pipeline output\n",
    "\n",
    "Source of inspiration: http://zacstewart.com/2014/08/05/pipelines-of-featureunions-of-pipelines.html\n",
    "\n",
    "A transformer is just an object that responds to `fit`, `transform`, and `fit_transform`. This includes built-in transformers (like MinMaxScaler), Pipelines, FeatureUnions, and of course, plain old Python objects that implement those methods. Inheriting from TransformerMixin is not required, but helps to communicate intent, and gets you `fit_transform` for free.\n",
    "\n",
    "A transformer can be thought of as a data in, data out black box. Generally, they accept a matrix as input and return a matrix of the same shape as output. That makes it easy to reorder and remix them at will. However, I often use Pandas DataFrames, and expect one as input to a transformer. For example, the ColumnExtractor is for extracting columns from a DataFrame.\n",
    "\n",
    "Sometimes transformers are very simple, like HourOfDayTransformer, which just extracts the hour components out of a vector of datetime objects. Such transformers are “stateless”–they don’t need to be fitted, so fit is a no-op.\n",
    "\n",
    "However, sometimes transformers do need to be fitted. Let’s take a look at my ModelTransformer. I use this one to wrap a scikit-learn model and make it behave like a transformer. I find these useful when I want to use something like a KMeans clustering model to generate features for another model. It needs to be fitted in order to train the model it wraps.\n"
   ],
   "metadata": {
    "collapsed": false,
    "pycharm": {
     "name": "#%% md\n"
    }
   }
  },
  {
   "cell_type": "code",
   "execution_count": 46,
   "outputs": [
    {
     "data": {
      "text/plain": "     instant      dteday  season  yr  mnth  holiday  weekday  workingday  \\\n642      643  2012-10-04       4   1    10        0        4           1   \n705      706  2012-12-06       4   1    12        0        4           1   \n566      567  2012-07-20       3   1     7        0        5           1   \n227      228  2011-08-16       3   0     8        0        2           1   \n270      271  2011-09-28       4   0     9        0        3           1   \n..       ...         ...     ...  ..   ...      ...      ...         ...   \n98        99  2011-04-09       2   0     4        0        6           0   \n322      323  2011-11-19       4   0    11        0        6           0   \n382      383  2012-01-18       1   1     1        0        3           1   \n365      366  2012-01-01       1   1     1        0        0           0   \n510      511  2012-05-25       2   1     5        0        5           1   \n\n     weathersit      temp     atemp       hum  windspeed  casual  registered  \\\n642           2  0.657500  0.607975  0.722917   0.117546     891        6437   \n705           1  0.255833  0.258204  0.508750   0.174754     340        5035   \n566           2  0.665833  0.613025  0.844167   0.208967     747        5123   \n227           1  0.700833  0.645837  0.578333   0.236329     721        4004   \n270           2  0.635000  0.575158  0.848750   0.148629     480        3427   \n..          ...       ...       ...       ...        ...     ...         ...   \n98            2  0.342500  0.341529  0.877500   0.133083     879        1576   \n322           1  0.329167  0.324483  0.502083   0.224496     943        2720   \n382           1  0.303333  0.275254  0.443333   0.415429     109        3267   \n365           1  0.370000  0.375621  0.692500   0.192167     686        1608   \n510           1  0.680000  0.627529  0.747083   0.140550    1417        5317   \n\n     day  \n642    4  \n705    6  \n566   20  \n227   16  \n270   28  \n..   ...  \n98     9  \n322   19  \n382   18  \n365    1  \n510   25  \n\n[584 rows x 16 columns]",
      "text/html": "<div>\n<style scoped>\n    .dataframe tbody tr th:only-of-type {\n        vertical-align: middle;\n    }\n\n    .dataframe tbody tr th {\n        vertical-align: top;\n    }\n\n    .dataframe thead th {\n        text-align: right;\n    }\n</style>\n<table border=\"1\" class=\"dataframe\">\n  <thead>\n    <tr style=\"text-align: right;\">\n      <th></th>\n      <th>instant</th>\n      <th>dteday</th>\n      <th>season</th>\n      <th>yr</th>\n      <th>mnth</th>\n      <th>holiday</th>\n      <th>weekday</th>\n      <th>workingday</th>\n      <th>weathersit</th>\n      <th>temp</th>\n      <th>atemp</th>\n      <th>hum</th>\n      <th>windspeed</th>\n      <th>casual</th>\n      <th>registered</th>\n      <th>day</th>\n    </tr>\n  </thead>\n  <tbody>\n    <tr>\n      <th>642</th>\n      <td>643</td>\n      <td>2012-10-04</td>\n      <td>4</td>\n      <td>1</td>\n      <td>10</td>\n      <td>0</td>\n      <td>4</td>\n      <td>1</td>\n      <td>2</td>\n      <td>0.657500</td>\n      <td>0.607975</td>\n      <td>0.722917</td>\n      <td>0.117546</td>\n      <td>891</td>\n      <td>6437</td>\n      <td>4</td>\n    </tr>\n    <tr>\n      <th>705</th>\n      <td>706</td>\n      <td>2012-12-06</td>\n      <td>4</td>\n      <td>1</td>\n      <td>12</td>\n      <td>0</td>\n      <td>4</td>\n      <td>1</td>\n      <td>1</td>\n      <td>0.255833</td>\n      <td>0.258204</td>\n      <td>0.508750</td>\n      <td>0.174754</td>\n      <td>340</td>\n      <td>5035</td>\n      <td>6</td>\n    </tr>\n    <tr>\n      <th>566</th>\n      <td>567</td>\n      <td>2012-07-20</td>\n      <td>3</td>\n      <td>1</td>\n      <td>7</td>\n      <td>0</td>\n      <td>5</td>\n      <td>1</td>\n      <td>2</td>\n      <td>0.665833</td>\n      <td>0.613025</td>\n      <td>0.844167</td>\n      <td>0.208967</td>\n      <td>747</td>\n      <td>5123</td>\n      <td>20</td>\n    </tr>\n    <tr>\n      <th>227</th>\n      <td>228</td>\n      <td>2011-08-16</td>\n      <td>3</td>\n      <td>0</td>\n      <td>8</td>\n      <td>0</td>\n      <td>2</td>\n      <td>1</td>\n      <td>1</td>\n      <td>0.700833</td>\n      <td>0.645837</td>\n      <td>0.578333</td>\n      <td>0.236329</td>\n      <td>721</td>\n      <td>4004</td>\n      <td>16</td>\n    </tr>\n    <tr>\n      <th>270</th>\n      <td>271</td>\n      <td>2011-09-28</td>\n      <td>4</td>\n      <td>0</td>\n      <td>9</td>\n      <td>0</td>\n      <td>3</td>\n      <td>1</td>\n      <td>2</td>\n      <td>0.635000</td>\n      <td>0.575158</td>\n      <td>0.848750</td>\n      <td>0.148629</td>\n      <td>480</td>\n      <td>3427</td>\n      <td>28</td>\n    </tr>\n    <tr>\n      <th>...</th>\n      <td>...</td>\n      <td>...</td>\n      <td>...</td>\n      <td>...</td>\n      <td>...</td>\n      <td>...</td>\n      <td>...</td>\n      <td>...</td>\n      <td>...</td>\n      <td>...</td>\n      <td>...</td>\n      <td>...</td>\n      <td>...</td>\n      <td>...</td>\n      <td>...</td>\n      <td>...</td>\n    </tr>\n    <tr>\n      <th>98</th>\n      <td>99</td>\n      <td>2011-04-09</td>\n      <td>2</td>\n      <td>0</td>\n      <td>4</td>\n      <td>0</td>\n      <td>6</td>\n      <td>0</td>\n      <td>2</td>\n      <td>0.342500</td>\n      <td>0.341529</td>\n      <td>0.877500</td>\n      <td>0.133083</td>\n      <td>879</td>\n      <td>1576</td>\n      <td>9</td>\n    </tr>\n    <tr>\n      <th>322</th>\n      <td>323</td>\n      <td>2011-11-19</td>\n      <td>4</td>\n      <td>0</td>\n      <td>11</td>\n      <td>0</td>\n      <td>6</td>\n      <td>0</td>\n      <td>1</td>\n      <td>0.329167</td>\n      <td>0.324483</td>\n      <td>0.502083</td>\n      <td>0.224496</td>\n      <td>943</td>\n      <td>2720</td>\n      <td>19</td>\n    </tr>\n    <tr>\n      <th>382</th>\n      <td>383</td>\n      <td>2012-01-18</td>\n      <td>1</td>\n      <td>1</td>\n      <td>1</td>\n      <td>0</td>\n      <td>3</td>\n      <td>1</td>\n      <td>1</td>\n      <td>0.303333</td>\n      <td>0.275254</td>\n      <td>0.443333</td>\n      <td>0.415429</td>\n      <td>109</td>\n      <td>3267</td>\n      <td>18</td>\n    </tr>\n    <tr>\n      <th>365</th>\n      <td>366</td>\n      <td>2012-01-01</td>\n      <td>1</td>\n      <td>1</td>\n      <td>1</td>\n      <td>0</td>\n      <td>0</td>\n      <td>0</td>\n      <td>1</td>\n      <td>0.370000</td>\n      <td>0.375621</td>\n      <td>0.692500</td>\n      <td>0.192167</td>\n      <td>686</td>\n      <td>1608</td>\n      <td>1</td>\n    </tr>\n    <tr>\n      <th>510</th>\n      <td>511</td>\n      <td>2012-05-25</td>\n      <td>2</td>\n      <td>1</td>\n      <td>5</td>\n      <td>0</td>\n      <td>5</td>\n      <td>1</td>\n      <td>1</td>\n      <td>0.680000</td>\n      <td>0.627529</td>\n      <td>0.747083</td>\n      <td>0.140550</td>\n      <td>1417</td>\n      <td>5317</td>\n      <td>25</td>\n    </tr>\n  </tbody>\n</table>\n<p>584 rows × 16 columns</p>\n</div>"
     },
     "execution_count": 46,
     "metadata": {},
     "output_type": "execute_result"
    }
   ],
   "source": [
    "# Example. We will create a new feature that is the extraction of date features from the date column\n",
    "class DateExtractionTransformer(TransformerMixin):\n",
    "    def transform(self, X, **transform_params):\n",
    "        X['day'] = pd.to_datetime(X['dteday']).dt.day\n",
    "\n",
    "        return X\n",
    "\n",
    "    def fit(self, X, y=None, **fit_params):\n",
    "        return self\n",
    "\n",
    "p = Pipeline([('t', DateExtractionTransformer())])\n",
    "p.fit_transform(X_train)"
   ],
   "metadata": {
    "collapsed": false,
    "pycharm": {
     "name": "#%%\n"
    }
   }
  },
  {
   "cell_type": "code",
   "execution_count": 47,
   "outputs": [
    {
     "data": {
      "text/plain": "     instant      dteday  season  yr  mnth  holiday  weekday  workingday  \\\n642      643  2012-10-04       4   1    10        0        4           1   \n705      706  2012-12-06       4   1    12        0        4           1   \n566      567  2012-07-20       3   1     7        0        5           1   \n227      228  2011-08-16       3   0     8        0        2           1   \n270      271  2011-09-28       4   0     9        0        3           1   \n..       ...         ...     ...  ..   ...      ...      ...         ...   \n98        99  2011-04-09       2   0     4        0        6           0   \n322      323  2011-11-19       4   0    11        0        6           0   \n382      383  2012-01-18       1   1     1        0        3           1   \n365      366  2012-01-01       1   1     1        0        0           0   \n510      511  2012-05-25       2   1     5        0        5           1   \n\n     weathersit      temp     atemp       hum  windspeed  casual  registered  \\\n642           2  0.657500  0.607975  0.722917   0.117546     891        6437   \n705           1  0.255833  0.258204  0.508750   0.174754     340        5035   \n566           2  0.665833  0.613025  0.844167   0.208967     747        5123   \n227           1  0.700833  0.645837  0.578333   0.236329     721        4004   \n270           2  0.635000  0.575158  0.848750   0.148629     480        3427   \n..          ...       ...       ...       ...        ...     ...         ...   \n98            2  0.342500  0.341529  0.877500   0.133083     879        1576   \n322           1  0.329167  0.324483  0.502083   0.224496     943        2720   \n382           1  0.303333  0.275254  0.443333   0.415429     109        3267   \n365           1  0.370000  0.375621  0.692500   0.192167     686        1608   \n510           1  0.680000  0.627529  0.747083   0.140550    1417        5317   \n\n     day  sine_weekday  cosine_weekday  \n642    4     -0.756802       -0.653644  \n705    6     -0.756802       -0.653644  \n566   20     -0.958924        0.283662  \n227   16      0.909297       -0.416147  \n270   28      0.141120       -0.989992  \n..   ...           ...             ...  \n98     9     -0.279415        0.960170  \n322   19     -0.279415        0.960170  \n382   18      0.141120       -0.989992  \n365    1      0.000000        1.000000  \n510   25     -0.958924        0.283662  \n\n[584 rows x 18 columns]",
      "text/html": "<div>\n<style scoped>\n    .dataframe tbody tr th:only-of-type {\n        vertical-align: middle;\n    }\n\n    .dataframe tbody tr th {\n        vertical-align: top;\n    }\n\n    .dataframe thead th {\n        text-align: right;\n    }\n</style>\n<table border=\"1\" class=\"dataframe\">\n  <thead>\n    <tr style=\"text-align: right;\">\n      <th></th>\n      <th>instant</th>\n      <th>dteday</th>\n      <th>season</th>\n      <th>yr</th>\n      <th>mnth</th>\n      <th>holiday</th>\n      <th>weekday</th>\n      <th>workingday</th>\n      <th>weathersit</th>\n      <th>temp</th>\n      <th>atemp</th>\n      <th>hum</th>\n      <th>windspeed</th>\n      <th>casual</th>\n      <th>registered</th>\n      <th>day</th>\n      <th>sine_weekday</th>\n      <th>cosine_weekday</th>\n    </tr>\n  </thead>\n  <tbody>\n    <tr>\n      <th>642</th>\n      <td>643</td>\n      <td>2012-10-04</td>\n      <td>4</td>\n      <td>1</td>\n      <td>10</td>\n      <td>0</td>\n      <td>4</td>\n      <td>1</td>\n      <td>2</td>\n      <td>0.657500</td>\n      <td>0.607975</td>\n      <td>0.722917</td>\n      <td>0.117546</td>\n      <td>891</td>\n      <td>6437</td>\n      <td>4</td>\n      <td>-0.756802</td>\n      <td>-0.653644</td>\n    </tr>\n    <tr>\n      <th>705</th>\n      <td>706</td>\n      <td>2012-12-06</td>\n      <td>4</td>\n      <td>1</td>\n      <td>12</td>\n      <td>0</td>\n      <td>4</td>\n      <td>1</td>\n      <td>1</td>\n      <td>0.255833</td>\n      <td>0.258204</td>\n      <td>0.508750</td>\n      <td>0.174754</td>\n      <td>340</td>\n      <td>5035</td>\n      <td>6</td>\n      <td>-0.756802</td>\n      <td>-0.653644</td>\n    </tr>\n    <tr>\n      <th>566</th>\n      <td>567</td>\n      <td>2012-07-20</td>\n      <td>3</td>\n      <td>1</td>\n      <td>7</td>\n      <td>0</td>\n      <td>5</td>\n      <td>1</td>\n      <td>2</td>\n      <td>0.665833</td>\n      <td>0.613025</td>\n      <td>0.844167</td>\n      <td>0.208967</td>\n      <td>747</td>\n      <td>5123</td>\n      <td>20</td>\n      <td>-0.958924</td>\n      <td>0.283662</td>\n    </tr>\n    <tr>\n      <th>227</th>\n      <td>228</td>\n      <td>2011-08-16</td>\n      <td>3</td>\n      <td>0</td>\n      <td>8</td>\n      <td>0</td>\n      <td>2</td>\n      <td>1</td>\n      <td>1</td>\n      <td>0.700833</td>\n      <td>0.645837</td>\n      <td>0.578333</td>\n      <td>0.236329</td>\n      <td>721</td>\n      <td>4004</td>\n      <td>16</td>\n      <td>0.909297</td>\n      <td>-0.416147</td>\n    </tr>\n    <tr>\n      <th>270</th>\n      <td>271</td>\n      <td>2011-09-28</td>\n      <td>4</td>\n      <td>0</td>\n      <td>9</td>\n      <td>0</td>\n      <td>3</td>\n      <td>1</td>\n      <td>2</td>\n      <td>0.635000</td>\n      <td>0.575158</td>\n      <td>0.848750</td>\n      <td>0.148629</td>\n      <td>480</td>\n      <td>3427</td>\n      <td>28</td>\n      <td>0.141120</td>\n      <td>-0.989992</td>\n    </tr>\n    <tr>\n      <th>...</th>\n      <td>...</td>\n      <td>...</td>\n      <td>...</td>\n      <td>...</td>\n      <td>...</td>\n      <td>...</td>\n      <td>...</td>\n      <td>...</td>\n      <td>...</td>\n      <td>...</td>\n      <td>...</td>\n      <td>...</td>\n      <td>...</td>\n      <td>...</td>\n      <td>...</td>\n      <td>...</td>\n      <td>...</td>\n      <td>...</td>\n    </tr>\n    <tr>\n      <th>98</th>\n      <td>99</td>\n      <td>2011-04-09</td>\n      <td>2</td>\n      <td>0</td>\n      <td>4</td>\n      <td>0</td>\n      <td>6</td>\n      <td>0</td>\n      <td>2</td>\n      <td>0.342500</td>\n      <td>0.341529</td>\n      <td>0.877500</td>\n      <td>0.133083</td>\n      <td>879</td>\n      <td>1576</td>\n      <td>9</td>\n      <td>-0.279415</td>\n      <td>0.960170</td>\n    </tr>\n    <tr>\n      <th>322</th>\n      <td>323</td>\n      <td>2011-11-19</td>\n      <td>4</td>\n      <td>0</td>\n      <td>11</td>\n      <td>0</td>\n      <td>6</td>\n      <td>0</td>\n      <td>1</td>\n      <td>0.329167</td>\n      <td>0.324483</td>\n      <td>0.502083</td>\n      <td>0.224496</td>\n      <td>943</td>\n      <td>2720</td>\n      <td>19</td>\n      <td>-0.279415</td>\n      <td>0.960170</td>\n    </tr>\n    <tr>\n      <th>382</th>\n      <td>383</td>\n      <td>2012-01-18</td>\n      <td>1</td>\n      <td>1</td>\n      <td>1</td>\n      <td>0</td>\n      <td>3</td>\n      <td>1</td>\n      <td>1</td>\n      <td>0.303333</td>\n      <td>0.275254</td>\n      <td>0.443333</td>\n      <td>0.415429</td>\n      <td>109</td>\n      <td>3267</td>\n      <td>18</td>\n      <td>0.141120</td>\n      <td>-0.989992</td>\n    </tr>\n    <tr>\n      <th>365</th>\n      <td>366</td>\n      <td>2012-01-01</td>\n      <td>1</td>\n      <td>1</td>\n      <td>1</td>\n      <td>0</td>\n      <td>0</td>\n      <td>0</td>\n      <td>1</td>\n      <td>0.370000</td>\n      <td>0.375621</td>\n      <td>0.692500</td>\n      <td>0.192167</td>\n      <td>686</td>\n      <td>1608</td>\n      <td>1</td>\n      <td>0.000000</td>\n      <td>1.000000</td>\n    </tr>\n    <tr>\n      <th>510</th>\n      <td>511</td>\n      <td>2012-05-25</td>\n      <td>2</td>\n      <td>1</td>\n      <td>5</td>\n      <td>0</td>\n      <td>5</td>\n      <td>1</td>\n      <td>1</td>\n      <td>0.680000</td>\n      <td>0.627529</td>\n      <td>0.747083</td>\n      <td>0.140550</td>\n      <td>1417</td>\n      <td>5317</td>\n      <td>25</td>\n      <td>-0.958924</td>\n      <td>0.283662</td>\n    </tr>\n  </tbody>\n</table>\n<p>584 rows × 18 columns</p>\n</div>"
     },
     "execution_count": 47,
     "metadata": {},
     "output_type": "execute_result"
    }
   ],
   "source": [
    "# Example. Create a new feature based on sine and cosine of date (and drop the other date features) - weekday\n",
    "class SineCosineWeekday(TransformerMixin):\n",
    "    def transform(self, X, **transform_params):\n",
    "        X['sine_weekday'] = np.sin(X['weekday'])\n",
    "        X['cosine_weekday'] = np.cos(X['weekday'])\n",
    "\n",
    "        return X\n",
    "\n",
    "    def fit(self, X, y=None, **fit_params):\n",
    "        return self\n",
    "\n",
    "p = Pipeline([('t', SineCosineWeekday())])\n",
    "p.fit_transform(X_train)"
   ],
   "metadata": {
    "collapsed": false,
    "pycharm": {
     "name": "#%%\n"
    }
   }
  },
  {
   "cell_type": "markdown",
   "source": [
    "# Create the pipeline"
   ],
   "metadata": {
    "collapsed": false,
    "pycharm": {
     "name": "#%% md\n"
    }
   }
  },
  {
   "cell_type": "code",
   "execution_count": 48,
   "outputs": [
    {
     "data": {
      "text/plain": "Pipeline(steps=[('feature_engineering',\n                 Pipeline(steps=[('date_features',\n                                  <__main__.DateExtractionTransformer object at 0x1395023a0>),\n                                 ('sine_cosine_weekday',\n                                  <__main__.SineCosineWeekday object at 0x1395023d0>)])),\n                ('preprocessor',\n                 ColumnTransformer(transformers=[('f_eng',\n                                                  Pipeline(steps=[('imputer',\n                                                                   SimpleImputer())]),\n                                                  ['sine_weekday',\n                                                   'cosine_weekday', 'day']),\n                                                 ('...\n                                                   'windspeed']),\n                                                 ('categorical_ordenc',\n                                                  Pipeline(steps=[('imputer',\n                                                                   SimpleImputer(strategy='constant')),\n                                                                  ('ord_encoder',\n                                                                   OrdinalEncoder())]),\n                                                  ['season', 'holiday',\n                                                   'workingday',\n                                                   'weathersit']),\n                                                 ('categorical_onehot',\n                                                  Pipeline(steps=[('imputer',\n                                                                   SimpleImputer(strategy='constant')),\n                                                                  ('onehot_encoder',\n                                                                   OneHotEncoder())]),\n                                                  ['mnth'])])),\n                ('regressor', LinearRegression())])"
     },
     "execution_count": 48,
     "metadata": {},
     "output_type": "execute_result"
    }
   ],
   "source": [
    "# NUMERIC FEATURES\n",
    "numeric_features = ['temp', 'atemp', 'hum', 'windspeed']\n",
    "\n",
    "numeric_transformer = Pipeline(steps=[\n",
    "    ('imputer', SimpleImputer(strategy='mean')),\n",
    "    ('scaler', StandardScaler())])\n",
    "\n",
    "# CATEGORICAL FEATURES\n",
    "categorical_ordinal_encode_features = ['season', 'holiday', 'workingday', 'weathersit']\n",
    "categorical_one_hot_encode_features = ['mnth']\n",
    "\n",
    "categorical_impute_ordenc = Pipeline(steps=[('imputer', SimpleImputer(strategy='constant')), ('ord_encoder', OrdinalEncoder())])\n",
    "categorical_impute_onehot = Pipeline(steps=[('imputer', SimpleImputer(strategy='constant')), ('onehot_encoder', OneHotEncoder())])\n",
    "\n",
    "# FEATURE ENGINEERING\n",
    "feature_engineering = Pipeline(steps=[\n",
    "    ('date_features', DateExtractionTransformer()),\n",
    "    ('sine_cosine_weekday', SineCosineWeekday())\n",
    "])\n",
    "\n",
    "f_eng_features = ['sine_weekday', 'cosine_weekday', 'day']\n",
    "simple_numeric_transformer = Pipeline(steps=[('imputer', SimpleImputer(strategy='mean'))])\n",
    "\n",
    "# PREPROCESSING STEPS\n",
    "preprocessor = ColumnTransformer(transformers=[\n",
    "    ('f_eng', simple_numeric_transformer, f_eng_features),\n",
    "    ('numeric', numeric_transformer, numeric_features),\n",
    "    ('categorical_ordenc', categorical_impute_ordenc, categorical_ordinal_encode_features),\n",
    "    ('categorical_onehot', categorical_impute_onehot, categorical_one_hot_encode_features),\n",
    "])\n",
    "\n",
    "# PIPELINE INCLUDING A MODEL\n",
    "pipeline = Pipeline(steps = [\n",
    "    ('feature_engineering', feature_engineering),\n",
    "    ('preprocessor', preprocessor),\n",
    "    ('regressor',LinearRegression())])\n",
    "pipeline"
   ],
   "metadata": {
    "collapsed": false,
    "pycharm": {
     "name": "#%%\n"
    }
   }
  },
  {
   "cell_type": "markdown",
   "source": [
    "# Execute preprocessing steps"
   ],
   "metadata": {
    "collapsed": false,
    "pycharm": {
     "name": "#%% md\n"
    }
   }
  },
  {
   "cell_type": "code",
   "execution_count": 49,
   "outputs": [
    {
     "data": {
      "text/plain": "     sine_weekday  cosine_weekday   day      temp     atemp       hum  \\\n0       -0.756802       -0.653644   4.0  0.900346  0.837047  0.684351   \n1       -0.756802       -0.653644   6.0 -1.292066 -1.309675 -0.824082   \n2       -0.958924        0.283662  20.0  0.945830  0.868041  1.538345   \n3        0.909297       -0.416147  16.0  1.136870  1.069425 -0.333991   \n4        0.141120       -0.989992  28.0  0.777535  0.635632  1.570624   \n..            ...             ...   ...       ...       ...       ...   \n579     -0.279415        0.960170   9.0 -0.819013 -0.798267  1.773118   \n580     -0.279415        0.960170  19.0 -0.891788 -0.902887 -0.871039   \n581      0.141120       -0.989992  18.0 -1.032797 -1.205031 -1.284830   \n582      0.000000        1.000000   1.0 -0.668910 -0.589027  0.470116   \n583     -0.958924        0.283662  25.0  1.023157  0.957060  0.854558   \n\n     windspeed  season  holiday  workingday  ...  mnth_3  mnth_4  mnth_5  \\\n0    -0.942055     3.0      0.0         1.0  ...     0.0     0.0     0.0   \n1    -0.206565     3.0      0.0         1.0  ...     0.0     0.0     0.0   \n2     0.233291     2.0      0.0         1.0  ...     0.0     0.0     0.0   \n3     0.585068     2.0      0.0         1.0  ...     0.0     0.0     0.0   \n4    -0.542439     3.0      0.0         1.0  ...     0.0     0.0     0.0   \n..         ...     ...      ...         ...  ...     ...     ...     ...   \n579  -0.742305     1.0      0.0         0.0  ...     0.0     1.0     0.0   \n580   0.432939     3.0      0.0         0.0  ...     0.0     0.0     0.0   \n581   2.887653     0.0      0.0         1.0  ...     0.0     0.0     0.0   \n582   0.017303     0.0      0.0         0.0  ...     0.0     0.0     0.0   \n583  -0.646306     1.0      0.0         1.0  ...     0.0     0.0     1.0   \n\n     mnth_6  mnth_7  mnth_8  mnth_9  mnth_10  mnth_11  mnth_12  \n0       0.0     0.0     0.0     0.0      1.0      0.0      0.0  \n1       0.0     0.0     0.0     0.0      0.0      0.0      1.0  \n2       0.0     1.0     0.0     0.0      0.0      0.0      0.0  \n3       0.0     0.0     1.0     0.0      0.0      0.0      0.0  \n4       0.0     0.0     0.0     1.0      0.0      0.0      0.0  \n..      ...     ...     ...     ...      ...      ...      ...  \n579     0.0     0.0     0.0     0.0      0.0      0.0      0.0  \n580     0.0     0.0     0.0     0.0      0.0      1.0      0.0  \n581     0.0     0.0     0.0     0.0      0.0      0.0      0.0  \n582     0.0     0.0     0.0     0.0      0.0      0.0      0.0  \n583     0.0     0.0     0.0     0.0      0.0      0.0      0.0  \n\n[584 rows x 23 columns]",
      "text/html": "<div>\n<style scoped>\n    .dataframe tbody tr th:only-of-type {\n        vertical-align: middle;\n    }\n\n    .dataframe tbody tr th {\n        vertical-align: top;\n    }\n\n    .dataframe thead th {\n        text-align: right;\n    }\n</style>\n<table border=\"1\" class=\"dataframe\">\n  <thead>\n    <tr style=\"text-align: right;\">\n      <th></th>\n      <th>sine_weekday</th>\n      <th>cosine_weekday</th>\n      <th>day</th>\n      <th>temp</th>\n      <th>atemp</th>\n      <th>hum</th>\n      <th>windspeed</th>\n      <th>season</th>\n      <th>holiday</th>\n      <th>workingday</th>\n      <th>...</th>\n      <th>mnth_3</th>\n      <th>mnth_4</th>\n      <th>mnth_5</th>\n      <th>mnth_6</th>\n      <th>mnth_7</th>\n      <th>mnth_8</th>\n      <th>mnth_9</th>\n      <th>mnth_10</th>\n      <th>mnth_11</th>\n      <th>mnth_12</th>\n    </tr>\n  </thead>\n  <tbody>\n    <tr>\n      <th>0</th>\n      <td>-0.756802</td>\n      <td>-0.653644</td>\n      <td>4.0</td>\n      <td>0.900346</td>\n      <td>0.837047</td>\n      <td>0.684351</td>\n      <td>-0.942055</td>\n      <td>3.0</td>\n      <td>0.0</td>\n      <td>1.0</td>\n      <td>...</td>\n      <td>0.0</td>\n      <td>0.0</td>\n      <td>0.0</td>\n      <td>0.0</td>\n      <td>0.0</td>\n      <td>0.0</td>\n      <td>0.0</td>\n      <td>1.0</td>\n      <td>0.0</td>\n      <td>0.0</td>\n    </tr>\n    <tr>\n      <th>1</th>\n      <td>-0.756802</td>\n      <td>-0.653644</td>\n      <td>6.0</td>\n      <td>-1.292066</td>\n      <td>-1.309675</td>\n      <td>-0.824082</td>\n      <td>-0.206565</td>\n      <td>3.0</td>\n      <td>0.0</td>\n      <td>1.0</td>\n      <td>...</td>\n      <td>0.0</td>\n      <td>0.0</td>\n      <td>0.0</td>\n      <td>0.0</td>\n      <td>0.0</td>\n      <td>0.0</td>\n      <td>0.0</td>\n      <td>0.0</td>\n      <td>0.0</td>\n      <td>1.0</td>\n    </tr>\n    <tr>\n      <th>2</th>\n      <td>-0.958924</td>\n      <td>0.283662</td>\n      <td>20.0</td>\n      <td>0.945830</td>\n      <td>0.868041</td>\n      <td>1.538345</td>\n      <td>0.233291</td>\n      <td>2.0</td>\n      <td>0.0</td>\n      <td>1.0</td>\n      <td>...</td>\n      <td>0.0</td>\n      <td>0.0</td>\n      <td>0.0</td>\n      <td>0.0</td>\n      <td>1.0</td>\n      <td>0.0</td>\n      <td>0.0</td>\n      <td>0.0</td>\n      <td>0.0</td>\n      <td>0.0</td>\n    </tr>\n    <tr>\n      <th>3</th>\n      <td>0.909297</td>\n      <td>-0.416147</td>\n      <td>16.0</td>\n      <td>1.136870</td>\n      <td>1.069425</td>\n      <td>-0.333991</td>\n      <td>0.585068</td>\n      <td>2.0</td>\n      <td>0.0</td>\n      <td>1.0</td>\n      <td>...</td>\n      <td>0.0</td>\n      <td>0.0</td>\n      <td>0.0</td>\n      <td>0.0</td>\n      <td>0.0</td>\n      <td>1.0</td>\n      <td>0.0</td>\n      <td>0.0</td>\n      <td>0.0</td>\n      <td>0.0</td>\n    </tr>\n    <tr>\n      <th>4</th>\n      <td>0.141120</td>\n      <td>-0.989992</td>\n      <td>28.0</td>\n      <td>0.777535</td>\n      <td>0.635632</td>\n      <td>1.570624</td>\n      <td>-0.542439</td>\n      <td>3.0</td>\n      <td>0.0</td>\n      <td>1.0</td>\n      <td>...</td>\n      <td>0.0</td>\n      <td>0.0</td>\n      <td>0.0</td>\n      <td>0.0</td>\n      <td>0.0</td>\n      <td>0.0</td>\n      <td>1.0</td>\n      <td>0.0</td>\n      <td>0.0</td>\n      <td>0.0</td>\n    </tr>\n    <tr>\n      <th>...</th>\n      <td>...</td>\n      <td>...</td>\n      <td>...</td>\n      <td>...</td>\n      <td>...</td>\n      <td>...</td>\n      <td>...</td>\n      <td>...</td>\n      <td>...</td>\n      <td>...</td>\n      <td>...</td>\n      <td>...</td>\n      <td>...</td>\n      <td>...</td>\n      <td>...</td>\n      <td>...</td>\n      <td>...</td>\n      <td>...</td>\n      <td>...</td>\n      <td>...</td>\n      <td>...</td>\n    </tr>\n    <tr>\n      <th>579</th>\n      <td>-0.279415</td>\n      <td>0.960170</td>\n      <td>9.0</td>\n      <td>-0.819013</td>\n      <td>-0.798267</td>\n      <td>1.773118</td>\n      <td>-0.742305</td>\n      <td>1.0</td>\n      <td>0.0</td>\n      <td>0.0</td>\n      <td>...</td>\n      <td>0.0</td>\n      <td>1.0</td>\n      <td>0.0</td>\n      <td>0.0</td>\n      <td>0.0</td>\n      <td>0.0</td>\n      <td>0.0</td>\n      <td>0.0</td>\n      <td>0.0</td>\n      <td>0.0</td>\n    </tr>\n    <tr>\n      <th>580</th>\n      <td>-0.279415</td>\n      <td>0.960170</td>\n      <td>19.0</td>\n      <td>-0.891788</td>\n      <td>-0.902887</td>\n      <td>-0.871039</td>\n      <td>0.432939</td>\n      <td>3.0</td>\n      <td>0.0</td>\n      <td>0.0</td>\n      <td>...</td>\n      <td>0.0</td>\n      <td>0.0</td>\n      <td>0.0</td>\n      <td>0.0</td>\n      <td>0.0</td>\n      <td>0.0</td>\n      <td>0.0</td>\n      <td>0.0</td>\n      <td>1.0</td>\n      <td>0.0</td>\n    </tr>\n    <tr>\n      <th>581</th>\n      <td>0.141120</td>\n      <td>-0.989992</td>\n      <td>18.0</td>\n      <td>-1.032797</td>\n      <td>-1.205031</td>\n      <td>-1.284830</td>\n      <td>2.887653</td>\n      <td>0.0</td>\n      <td>0.0</td>\n      <td>1.0</td>\n      <td>...</td>\n      <td>0.0</td>\n      <td>0.0</td>\n      <td>0.0</td>\n      <td>0.0</td>\n      <td>0.0</td>\n      <td>0.0</td>\n      <td>0.0</td>\n      <td>0.0</td>\n      <td>0.0</td>\n      <td>0.0</td>\n    </tr>\n    <tr>\n      <th>582</th>\n      <td>0.000000</td>\n      <td>1.000000</td>\n      <td>1.0</td>\n      <td>-0.668910</td>\n      <td>-0.589027</td>\n      <td>0.470116</td>\n      <td>0.017303</td>\n      <td>0.0</td>\n      <td>0.0</td>\n      <td>0.0</td>\n      <td>...</td>\n      <td>0.0</td>\n      <td>0.0</td>\n      <td>0.0</td>\n      <td>0.0</td>\n      <td>0.0</td>\n      <td>0.0</td>\n      <td>0.0</td>\n      <td>0.0</td>\n      <td>0.0</td>\n      <td>0.0</td>\n    </tr>\n    <tr>\n      <th>583</th>\n      <td>-0.958924</td>\n      <td>0.283662</td>\n      <td>25.0</td>\n      <td>1.023157</td>\n      <td>0.957060</td>\n      <td>0.854558</td>\n      <td>-0.646306</td>\n      <td>1.0</td>\n      <td>0.0</td>\n      <td>1.0</td>\n      <td>...</td>\n      <td>0.0</td>\n      <td>0.0</td>\n      <td>1.0</td>\n      <td>0.0</td>\n      <td>0.0</td>\n      <td>0.0</td>\n      <td>0.0</td>\n      <td>0.0</td>\n      <td>0.0</td>\n      <td>0.0</td>\n    </tr>\n  </tbody>\n</table>\n<p>584 rows × 23 columns</p>\n</div>"
     },
     "execution_count": 49,
     "metadata": {},
     "output_type": "execute_result"
    }
   ],
   "source": [
    "pipeline_array = pipeline[0:2].fit_transform(X_train)\n",
    "\n",
    "# engineered feature names\n",
    "f_eng_names = pipeline.named_steps.preprocessor.transformers_[0][-1]\n",
    "\n",
    "# numeric feature names\n",
    "numeric_feature_names = pipeline.named_steps.preprocessor.transformers_[1][-1]\n",
    "\n",
    "# categorical ordinal encoder feature names\n",
    "cat_ord_feature_names = pipeline.named_steps.preprocessor.transformers_[2][-1]\n",
    "\n",
    "# categorical one hot encoder feature names\n",
    "cat_onehot_feature_names = list(pipeline.named_steps.preprocessor.transformers_[3][1]['onehot_encoder'].get_feature_names_out(categorical_one_hot_encode_features))\n",
    "\n",
    "pipeline_colnames = f_eng_names + numeric_feature_names + cat_ord_feature_names + cat_onehot_feature_names\n",
    "pipeline_df = pd.DataFrame(data=pipeline_array, columns=pipeline_colnames)\n",
    "pipeline_df"
   ],
   "metadata": {
    "collapsed": false,
    "pycharm": {
     "name": "#%%\n"
    }
   }
  },
  {
   "cell_type": "code",
   "execution_count": 49,
   "outputs": [],
   "source": [],
   "metadata": {
    "collapsed": false,
    "pycharm": {
     "name": "#%%\n"
    }
   }
  }
 ],
 "metadata": {
  "kernelspec": {
   "display_name": "Python 3",
   "language": "python",
   "name": "python3"
  },
  "language_info": {
   "codemirror_mode": {
    "name": "ipython",
    "version": 2
   },
   "file_extension": ".py",
   "mimetype": "text/x-python",
   "name": "python",
   "nbconvert_exporter": "python",
   "pygments_lexer": "ipython2",
   "version": "2.7.6"
  }
 },
 "nbformat": 4,
 "nbformat_minor": 0
}